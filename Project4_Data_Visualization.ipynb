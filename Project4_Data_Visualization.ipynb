{
 "cells": [
  {
   "cell_type": "code",
   "execution_count": 72,
   "metadata": {
    "collapsed": true
   },
   "outputs": [],
   "source": [
    "from pandas import *\n",
    "from ggplot import *\n",
    "\n",
    "def time_to_hour_series(series):\n",
    "    new_TIME = []\n",
    "    for i in series:\n",
    "        hour = abs(int(i.split(':')[0]))\n",
    "        new_TIME.append(hour)\n",
    "    return new_TIME\n",
    "\n",
    "def plot_weather_data(turnstile_weather):\n",
    "    '''\n",
    "    You are passed in a dataframe called turnstile_weather. \n",
    "    Use turnstile_weather along with ggplot to make a data visualization\n",
    "    focused on the MTA and weather data we used in assignment #3.  \n",
    "    You should feel free to implement something that we discussed in class \n",
    "    (e.g., scatterplots, line plots, or histograms) or attempt to implement\n",
    "    something more advanced if you'd like.  \n",
    "\n",
    "    Here are some suggestions for things to investigate and illustrate:\n",
    "     * Ridership by time of day or day of week\n",
    "     * How ridership varies based on Subway station (UNIT)\n",
    "     * Which stations have more exits or entries at different times of day\n",
    "       (You can use UNIT as a proxy for subway station.)\n",
    "\n",
    "    If you'd like to learn more about ggplot and its capabilities, take\n",
    "    a look at the documentation at:\n",
    "    https://pypi.python.org/pypi/ggplot/\n",
    "     \n",
    "    You can check out:\n",
    "    https://www.dropbox.com/s/meyki2wl9xfa7yk/turnstile_data_master_with_weather.csv\n",
    "     \n",
    "    To see all the columns and data points included in the turnstile_weather \n",
    "    dataframe. \n",
    "     \n",
    "    However, due to the limitation of our Amazon EC2 server, we are giving you a random\n",
    "    subset, about 1/3 of the actual data in the turnstile_weather dataframe.\n",
    "    '''\n",
    "    ridership_by_time = turnstile_weather[['TIMEn', 'ENTRIESn_hourly']]\n",
    "    ridership_by_time.loc['TIMEn']  = time_to_hour_series(ridership_by_time['TIMEn'])\n",
    "    \n",
    "    plot = ggplot(ridership_by_time, aes('TIMEn', 'ENTRIESn_hourly')) + geom_point(color = \"red\") + ggtitle('Ridership by time') +xlab('Time') + ylab('Entries per hour') + xlim(-1,24)\n",
    "\n",
    "    return plot\n"
   ]
  },
  {
   "cell_type": "code",
   "execution_count": 73,
   "metadata": {
    "collapsed": false
   },
   "outputs": [
    {
     "ename": "ValueError",
     "evalue": "cannot set a row with mismatched columns",
     "output_type": "error",
     "traceback": [
      "\u001b[0;31m---------------------------------------------------------------------------\u001b[0m",
      "\u001b[0;31mValueError\u001b[0m                                Traceback (most recent call last)",
      "\u001b[0;32m<ipython-input-73-9b87ab99d5f2>\u001b[0m in \u001b[0;36m<module>\u001b[0;34m()\u001b[0m\n\u001b[0;32m----> 1\u001b[0;31m \u001b[0mplot_weather_data\u001b[0m\u001b[0;34m(\u001b[0m\u001b[0mturnstile_weather\u001b[0m\u001b[0;34m)\u001b[0m\u001b[0;34m\u001b[0m\u001b[0m\n\u001b[0m",
      "\u001b[0;32m<ipython-input-72-959768d59d84>\u001b[0m in \u001b[0;36mplot_weather_data\u001b[0;34m(turnstile_weather)\u001b[0m\n\u001b[1;32m     38\u001b[0m     '''\n\u001b[1;32m     39\u001b[0m     \u001b[0mridership_by_time\u001b[0m \u001b[0;34m=\u001b[0m \u001b[0mturnstile_weather\u001b[0m\u001b[0;34m[\u001b[0m\u001b[0;34m[\u001b[0m\u001b[0;34m'TIMEn'\u001b[0m\u001b[0;34m,\u001b[0m \u001b[0;34m'ENTRIESn_hourly'\u001b[0m\u001b[0;34m]\u001b[0m\u001b[0;34m]\u001b[0m\u001b[0;34m\u001b[0m\u001b[0m\n\u001b[0;32m---> 40\u001b[0;31m     \u001b[0mridership_by_time\u001b[0m\u001b[0;34m.\u001b[0m\u001b[0mloc\u001b[0m\u001b[0;34m[\u001b[0m\u001b[0;34m'TIMEn'\u001b[0m\u001b[0;34m]\u001b[0m  \u001b[0;34m=\u001b[0m \u001b[0mtime_to_hour_series\u001b[0m\u001b[0;34m(\u001b[0m\u001b[0mridership_by_time\u001b[0m\u001b[0;34m[\u001b[0m\u001b[0;34m'TIMEn'\u001b[0m\u001b[0;34m]\u001b[0m\u001b[0;34m)\u001b[0m\u001b[0;34m\u001b[0m\u001b[0m\n\u001b[0m\u001b[1;32m     41\u001b[0m \u001b[0;34m\u001b[0m\u001b[0m\n\u001b[1;32m     42\u001b[0m     \u001b[0mplot\u001b[0m \u001b[0;34m=\u001b[0m \u001b[0mggplot\u001b[0m\u001b[0;34m(\u001b[0m\u001b[0mridership_by_time\u001b[0m\u001b[0;34m,\u001b[0m \u001b[0maes\u001b[0m\u001b[0;34m(\u001b[0m\u001b[0;34m'TIMEn'\u001b[0m\u001b[0;34m,\u001b[0m \u001b[0;34m'ENTRIESn_hourly'\u001b[0m\u001b[0;34m)\u001b[0m\u001b[0;34m)\u001b[0m \u001b[0;34m+\u001b[0m \u001b[0mgeom_point\u001b[0m\u001b[0;34m(\u001b[0m\u001b[0mcolor\u001b[0m \u001b[0;34m=\u001b[0m \u001b[0;34m\"red\"\u001b[0m\u001b[0;34m)\u001b[0m \u001b[0;34m+\u001b[0m \u001b[0mggtitle\u001b[0m\u001b[0;34m(\u001b[0m\u001b[0;34m'Ridership by time'\u001b[0m\u001b[0;34m)\u001b[0m \u001b[0;34m+\u001b[0m\u001b[0mxlab\u001b[0m\u001b[0;34m(\u001b[0m\u001b[0;34m'Time'\u001b[0m\u001b[0;34m)\u001b[0m \u001b[0;34m+\u001b[0m \u001b[0mylab\u001b[0m\u001b[0;34m(\u001b[0m\u001b[0;34m'Entries per hour'\u001b[0m\u001b[0;34m)\u001b[0m \u001b[0;34m+\u001b[0m \u001b[0mxlim\u001b[0m\u001b[0;34m(\u001b[0m\u001b[0;34m-\u001b[0m\u001b[0;36m1\u001b[0m\u001b[0;34m,\u001b[0m\u001b[0;36m24\u001b[0m\u001b[0;34m)\u001b[0m\u001b[0;34m\u001b[0m\u001b[0m\n",
      "\u001b[0;32m/Users/thuy/anaconda/lib/python2.7/site-packages/pandas/core/indexing.pyc\u001b[0m in \u001b[0;36m__setitem__\u001b[0;34m(self, key, value)\u001b[0m\n\u001b[1;32m    113\u001b[0m     \u001b[0;32mdef\u001b[0m \u001b[0m__setitem__\u001b[0m\u001b[0;34m(\u001b[0m\u001b[0mself\u001b[0m\u001b[0;34m,\u001b[0m \u001b[0mkey\u001b[0m\u001b[0;34m,\u001b[0m \u001b[0mvalue\u001b[0m\u001b[0;34m)\u001b[0m\u001b[0;34m:\u001b[0m\u001b[0;34m\u001b[0m\u001b[0m\n\u001b[1;32m    114\u001b[0m         \u001b[0mindexer\u001b[0m \u001b[0;34m=\u001b[0m \u001b[0mself\u001b[0m\u001b[0;34m.\u001b[0m\u001b[0m_get_setitem_indexer\u001b[0m\u001b[0;34m(\u001b[0m\u001b[0mkey\u001b[0m\u001b[0;34m)\u001b[0m\u001b[0;34m\u001b[0m\u001b[0m\n\u001b[0;32m--> 115\u001b[0;31m         \u001b[0mself\u001b[0m\u001b[0;34m.\u001b[0m\u001b[0m_setitem_with_indexer\u001b[0m\u001b[0;34m(\u001b[0m\u001b[0mindexer\u001b[0m\u001b[0;34m,\u001b[0m \u001b[0mvalue\u001b[0m\u001b[0;34m)\u001b[0m\u001b[0;34m\u001b[0m\u001b[0m\n\u001b[0m\u001b[1;32m    116\u001b[0m \u001b[0;34m\u001b[0m\u001b[0m\n\u001b[1;32m    117\u001b[0m     \u001b[0;32mdef\u001b[0m \u001b[0m_has_valid_type\u001b[0m\u001b[0;34m(\u001b[0m\u001b[0mself\u001b[0m\u001b[0;34m,\u001b[0m \u001b[0mk\u001b[0m\u001b[0;34m,\u001b[0m \u001b[0maxis\u001b[0m\u001b[0;34m)\u001b[0m\u001b[0;34m:\u001b[0m\u001b[0;34m\u001b[0m\u001b[0m\n",
      "\u001b[0;32m/Users/thuy/anaconda/lib/python2.7/site-packages/pandas/core/indexing.pyc\u001b[0m in \u001b[0;36m_setitem_with_indexer\u001b[0;34m(self, indexer, value)\u001b[0m\n\u001b[1;32m    315\u001b[0m                             \u001b[0;32mif\u001b[0m \u001b[0mlen\u001b[0m\u001b[0;34m(\u001b[0m\u001b[0mvalue\u001b[0m\u001b[0;34m)\u001b[0m \u001b[0;34m!=\u001b[0m \u001b[0mlen\u001b[0m\u001b[0;34m(\u001b[0m\u001b[0mself\u001b[0m\u001b[0;34m.\u001b[0m\u001b[0mobj\u001b[0m\u001b[0;34m.\u001b[0m\u001b[0mcolumns\u001b[0m\u001b[0;34m)\u001b[0m\u001b[0;34m:\u001b[0m\u001b[0;34m\u001b[0m\u001b[0m\n\u001b[1;32m    316\u001b[0m                                 raise ValueError(\n\u001b[0;32m--> 317\u001b[0;31m                                     \u001b[0;34m\"cannot set a row with mismatched columns\"\u001b[0m\u001b[0;34m\u001b[0m\u001b[0m\n\u001b[0m\u001b[1;32m    318\u001b[0m                                     )\n\u001b[1;32m    319\u001b[0m \u001b[0;34m\u001b[0m\u001b[0m\n",
      "\u001b[0;31mValueError\u001b[0m: cannot set a row with mismatched columns"
     ]
    }
   ],
   "source": [
    "plot_weather_data(turnstile_weather)"
   ]
  },
  {
   "cell_type": "code",
   "execution_count": 1,
   "metadata": {
    "collapsed": false
   },
   "outputs": [
    {
     "name": "stdout",
     "output_type": "stream",
     "text": [
      "\u001b[34mP2_Wrangling_Subway_Data\u001b[m\u001b[m/\r\n",
      "Problem set 3.ipynb\r\n",
      "Project4_Data_Visualization.ipynb\r\n",
      "Quizs\r\n",
      "README.md\r\n",
      "Untitled0.ipynb\r\n",
      "baseball_stats.csv\r\n",
      "hr_by_team_year_sf_la.csv\r\n",
      "hr_year.csv\r\n",
      "lesson01.ipynb\r\n",
      "lesson3_Data_analysis.ipynb\r\n",
      "lesson4_visualization.ipynb\r\n",
      "loading_wrangling_data_lesson02.ipynb\r\n",
      "turnstile_data_master_with_weather (1).csv\r\n"
     ]
    }
   ],
   "source": [
    "ls"
   ]
  },
  {
   "cell_type": "code",
   "execution_count": 5,
   "metadata": {
    "collapsed": false
   },
   "outputs": [
    {
     "data": {
      "text/html": [
       "<div>\n",
       "<table border=\"1\" class=\"dataframe\">\n",
       "  <thead>\n",
       "    <tr style=\"text-align: right;\">\n",
       "      <th></th>\n",
       "      <th>Unnamed: 0</th>\n",
       "      <th>UNIT</th>\n",
       "      <th>DATEn</th>\n",
       "      <th>TIMEn</th>\n",
       "      <th>Hour</th>\n",
       "      <th>DESCn</th>\n",
       "      <th>ENTRIESn_hourly</th>\n",
       "      <th>EXITSn_hourly</th>\n",
       "      <th>maxpressurei</th>\n",
       "      <th>maxdewpti</th>\n",
       "      <th>...</th>\n",
       "      <th>meandewpti</th>\n",
       "      <th>meanpressurei</th>\n",
       "      <th>fog</th>\n",
       "      <th>rain</th>\n",
       "      <th>meanwindspdi</th>\n",
       "      <th>mintempi</th>\n",
       "      <th>meantempi</th>\n",
       "      <th>maxtempi</th>\n",
       "      <th>precipi</th>\n",
       "      <th>thunder</th>\n",
       "    </tr>\n",
       "  </thead>\n",
       "  <tbody>\n",
       "    <tr>\n",
       "      <th>0</th>\n",
       "      <td>0</td>\n",
       "      <td>R001</td>\n",
       "      <td>2011-05-01</td>\n",
       "      <td>01:00:00</td>\n",
       "      <td>1</td>\n",
       "      <td>REGULAR</td>\n",
       "      <td>0</td>\n",
       "      <td>0</td>\n",
       "      <td>30.31</td>\n",
       "      <td>42</td>\n",
       "      <td>...</td>\n",
       "      <td>39</td>\n",
       "      <td>30.27</td>\n",
       "      <td>0</td>\n",
       "      <td>0</td>\n",
       "      <td>5</td>\n",
       "      <td>50</td>\n",
       "      <td>60</td>\n",
       "      <td>69</td>\n",
       "      <td>0</td>\n",
       "      <td>0</td>\n",
       "    </tr>\n",
       "    <tr>\n",
       "      <th>1</th>\n",
       "      <td>1</td>\n",
       "      <td>R001</td>\n",
       "      <td>2011-05-01</td>\n",
       "      <td>05:00:00</td>\n",
       "      <td>5</td>\n",
       "      <td>REGULAR</td>\n",
       "      <td>217</td>\n",
       "      <td>553</td>\n",
       "      <td>30.31</td>\n",
       "      <td>42</td>\n",
       "      <td>...</td>\n",
       "      <td>39</td>\n",
       "      <td>30.27</td>\n",
       "      <td>0</td>\n",
       "      <td>0</td>\n",
       "      <td>5</td>\n",
       "      <td>50</td>\n",
       "      <td>60</td>\n",
       "      <td>69</td>\n",
       "      <td>0</td>\n",
       "      <td>0</td>\n",
       "    </tr>\n",
       "    <tr>\n",
       "      <th>2</th>\n",
       "      <td>2</td>\n",
       "      <td>R001</td>\n",
       "      <td>2011-05-01</td>\n",
       "      <td>09:00:00</td>\n",
       "      <td>9</td>\n",
       "      <td>REGULAR</td>\n",
       "      <td>890</td>\n",
       "      <td>1262</td>\n",
       "      <td>30.31</td>\n",
       "      <td>42</td>\n",
       "      <td>...</td>\n",
       "      <td>39</td>\n",
       "      <td>30.27</td>\n",
       "      <td>0</td>\n",
       "      <td>0</td>\n",
       "      <td>5</td>\n",
       "      <td>50</td>\n",
       "      <td>60</td>\n",
       "      <td>69</td>\n",
       "      <td>0</td>\n",
       "      <td>0</td>\n",
       "    </tr>\n",
       "    <tr>\n",
       "      <th>3</th>\n",
       "      <td>3</td>\n",
       "      <td>R001</td>\n",
       "      <td>2011-05-01</td>\n",
       "      <td>13:00:00</td>\n",
       "      <td>13</td>\n",
       "      <td>REGULAR</td>\n",
       "      <td>2451</td>\n",
       "      <td>3708</td>\n",
       "      <td>30.31</td>\n",
       "      <td>42</td>\n",
       "      <td>...</td>\n",
       "      <td>39</td>\n",
       "      <td>30.27</td>\n",
       "      <td>0</td>\n",
       "      <td>0</td>\n",
       "      <td>5</td>\n",
       "      <td>50</td>\n",
       "      <td>60</td>\n",
       "      <td>69</td>\n",
       "      <td>0</td>\n",
       "      <td>0</td>\n",
       "    </tr>\n",
       "    <tr>\n",
       "      <th>4</th>\n",
       "      <td>4</td>\n",
       "      <td>R001</td>\n",
       "      <td>2011-05-01</td>\n",
       "      <td>17:00:00</td>\n",
       "      <td>17</td>\n",
       "      <td>REGULAR</td>\n",
       "      <td>4400</td>\n",
       "      <td>2501</td>\n",
       "      <td>30.31</td>\n",
       "      <td>42</td>\n",
       "      <td>...</td>\n",
       "      <td>39</td>\n",
       "      <td>30.27</td>\n",
       "      <td>0</td>\n",
       "      <td>0</td>\n",
       "      <td>5</td>\n",
       "      <td>50</td>\n",
       "      <td>60</td>\n",
       "      <td>69</td>\n",
       "      <td>0</td>\n",
       "      <td>0</td>\n",
       "    </tr>\n",
       "  </tbody>\n",
       "</table>\n",
       "<p>5 rows × 22 columns</p>\n",
       "</div>"
      ],
      "text/plain": [
       "   Unnamed: 0  UNIT       DATEn     TIMEn  Hour    DESCn  ENTRIESn_hourly  \\\n",
       "0           0  R001  2011-05-01  01:00:00     1  REGULAR                0   \n",
       "1           1  R001  2011-05-01  05:00:00     5  REGULAR              217   \n",
       "2           2  R001  2011-05-01  09:00:00     9  REGULAR              890   \n",
       "3           3  R001  2011-05-01  13:00:00    13  REGULAR             2451   \n",
       "4           4  R001  2011-05-01  17:00:00    17  REGULAR             4400   \n",
       "\n",
       "   EXITSn_hourly  maxpressurei  maxdewpti   ...     meandewpti  meanpressurei  \\\n",
       "0              0         30.31         42   ...             39          30.27   \n",
       "1            553         30.31         42   ...             39          30.27   \n",
       "2           1262         30.31         42   ...             39          30.27   \n",
       "3           3708         30.31         42   ...             39          30.27   \n",
       "4           2501         30.31         42   ...             39          30.27   \n",
       "\n",
       "   fog  rain  meanwindspdi  mintempi  meantempi  maxtempi  precipi  thunder  \n",
       "0    0     0             5        50         60        69        0        0  \n",
       "1    0     0             5        50         60        69        0        0  \n",
       "2    0     0             5        50         60        69        0        0  \n",
       "3    0     0             5        50         60        69        0        0  \n",
       "4    0     0             5        50         60        69        0        0  \n",
       "\n",
       "[5 rows x 22 columns]"
      ]
     },
     "execution_count": 5,
     "metadata": {},
     "output_type": "execute_result"
    }
   ],
   "source": [
    "import pandas\n",
    "from ggplot import *\n",
    "turnstile_weather = pandas.read_csv(\"turnstile_data_master_with_weather (1).csv\")\n",
    "turnstile_weather.head()"
   ]
  },
  {
   "cell_type": "code",
   "execution_count": 4,
   "metadata": {
    "collapsed": true
   },
   "outputs": [],
   "source": [
    "%matplotlib inline"
   ]
  },
  {
   "cell_type": "code",
   "execution_count": 16,
   "metadata": {
    "collapsed": false
   },
   "outputs": [
    {
     "data": {
      "text/html": [
       "<div>\n",
       "<table border=\"1\" class=\"dataframe\">\n",
       "  <thead>\n",
       "    <tr style=\"text-align: right;\">\n",
       "      <th></th>\n",
       "      <th>TIMEn</th>\n",
       "      <th>ENTRIESn_hourly</th>\n",
       "    </tr>\n",
       "  </thead>\n",
       "  <tbody>\n",
       "    <tr>\n",
       "      <th>0</th>\n",
       "      <td>01:00:00</td>\n",
       "      <td>0</td>\n",
       "    </tr>\n",
       "    <tr>\n",
       "      <th>1</th>\n",
       "      <td>05:00:00</td>\n",
       "      <td>217</td>\n",
       "    </tr>\n",
       "    <tr>\n",
       "      <th>2</th>\n",
       "      <td>09:00:00</td>\n",
       "      <td>890</td>\n",
       "    </tr>\n",
       "    <tr>\n",
       "      <th>3</th>\n",
       "      <td>13:00:00</td>\n",
       "      <td>2451</td>\n",
       "    </tr>\n",
       "    <tr>\n",
       "      <th>4</th>\n",
       "      <td>17:00:00</td>\n",
       "      <td>4400</td>\n",
       "    </tr>\n",
       "  </tbody>\n",
       "</table>\n",
       "</div>"
      ],
      "text/plain": [
       "      TIMEn  ENTRIESn_hourly\n",
       "0  01:00:00                0\n",
       "1  05:00:00              217\n",
       "2  09:00:00              890\n",
       "3  13:00:00             2451\n",
       "4  17:00:00             4400"
      ]
     },
     "execution_count": 16,
     "metadata": {},
     "output_type": "execute_result"
    }
   ],
   "source": [
    "ridership_by_time = turnstile_weather[['TIMEn', 'ENTRIESn_hourly']]\n",
    "ridership_by_time.head()\n"
   ]
  },
  {
   "cell_type": "code",
   "execution_count": 19,
   "metadata": {
    "collapsed": true
   },
   "outputs": [],
   "source": [
    "# change time to int\n",
    "\n",
    "def time_to_hour(time):\n",
    "    '''\n",
    "    Given an input variable time that represents time in the format of:\n",
    "    \"00:00:00\" (hour:minutes:seconds)\n",
    "    \n",
    "    Write a function to extract the hour part from the input variable time\n",
    "    and return it as an integer. For example:\n",
    "        1) if hour is 00, your code should return 0\n",
    "        2) if hour is 01, your code should return 1\n",
    "        3) if hour is 21, your code should return 21\n",
    "        \n",
    "    Please return hour as an integer.\n",
    "    '''\n",
    "    \n",
    "    hour = abs(int(time.split(':')[0]))# your code here\n",
    "    return hour"
   ]
  },
  {
   "cell_type": "code",
   "execution_count": 61,
   "metadata": {
    "collapsed": false
   },
   "outputs": [
    {
     "data": {
      "text/plain": [
       "0     1\n",
       "1     5\n",
       "2     9\n",
       "3    13\n",
       "4    17\n",
       "Name: TIMEn, dtype: int64"
      ]
     },
     "execution_count": 61,
     "metadata": {},
     "output_type": "execute_result"
    }
   ],
   "source": [
    "ridership_by_time['TIMEn'].head()\n",
    "        \n",
    "#time_to_hour(ridership_by_time['TIMEn'])\n",
    "#new_TIMEn.head()"
   ]
  },
  {
   "cell_type": "code",
   "execution_count": 70,
   "metadata": {
    "collapsed": false
   },
   "outputs": [
    {
     "data": {
      "text/html": [
       "<div>\n",
       "<table border=\"1\" class=\"dataframe\">\n",
       "  <thead>\n",
       "    <tr style=\"text-align: right;\">\n",
       "      <th></th>\n",
       "      <th>TIMEn</th>\n",
       "      <th>ENTRIESn_hourly</th>\n",
       "    </tr>\n",
       "  </thead>\n",
       "  <tbody>\n",
       "    <tr>\n",
       "      <th>count</th>\n",
       "      <td>131951.000000</td>\n",
       "      <td>131951.000000</td>\n",
       "    </tr>\n",
       "    <tr>\n",
       "      <th>mean</th>\n",
       "      <td>10.896158</td>\n",
       "      <td>1095.348478</td>\n",
       "    </tr>\n",
       "    <tr>\n",
       "      <th>std</th>\n",
       "      <td>6.892084</td>\n",
       "      <td>2337.015421</td>\n",
       "    </tr>\n",
       "    <tr>\n",
       "      <th>min</th>\n",
       "      <td>0.000000</td>\n",
       "      <td>0.000000</td>\n",
       "    </tr>\n",
       "    <tr>\n",
       "      <th>25%</th>\n",
       "      <td>5.000000</td>\n",
       "      <td>39.000000</td>\n",
       "    </tr>\n",
       "    <tr>\n",
       "      <th>50%</th>\n",
       "      <td>12.000000</td>\n",
       "      <td>279.000000</td>\n",
       "    </tr>\n",
       "    <tr>\n",
       "      <th>75%</th>\n",
       "      <td>17.000000</td>\n",
       "      <td>1109.000000</td>\n",
       "    </tr>\n",
       "    <tr>\n",
       "      <th>max</th>\n",
       "      <td>23.000000</td>\n",
       "      <td>51839.000000</td>\n",
       "    </tr>\n",
       "  </tbody>\n",
       "</table>\n",
       "</div>"
      ],
      "text/plain": [
       "               TIMEn  ENTRIESn_hourly\n",
       "count  131951.000000    131951.000000\n",
       "mean       10.896158      1095.348478\n",
       "std         6.892084      2337.015421\n",
       "min         0.000000         0.000000\n",
       "25%         5.000000        39.000000\n",
       "50%        12.000000       279.000000\n",
       "75%        17.000000      1109.000000\n",
       "max        23.000000     51839.000000"
      ]
     },
     "execution_count": 70,
     "metadata": {},
     "output_type": "execute_result"
    }
   ],
   "source": [
    "ridership_by_time.describe()"
   ]
  },
  {
   "cell_type": "code",
   "execution_count": 57,
   "metadata": {
    "collapsed": true
   },
   "outputs": [],
   "source": [
    "\n",
    "def time_to_hour_series(series):\n",
    "    new_TIME = []\n",
    "    for i in series:\n",
    "        hour = abs(int(i.split(':')[0]))\n",
    "        new_TIME.append(hour)\n",
    "    return new_TIME"
   ]
  },
  {
   "cell_type": "code",
   "execution_count": 69,
   "metadata": {
    "collapsed": false
   },
   "outputs": [
    {
     "data": {
      "image/png": "[encoded data removed]",
      "text/plain": [
       "<matplotlib.figure.Figure at 0x10f526e10>"
      ]
     },
     "metadata": {},
     "output_type": "display_data"
    },
    {
     "data": {
      "text/plain": [
       "<ggplot: (284111201)>"
      ]
     },
     "execution_count": 69,
     "metadata": {},
     "output_type": "execute_result"
    }
   ],
   "source": [
    "gg1 = ggplot(ridership_by_time, aes('TIMEn', 'ENTRIESn_hourly')) + geom_point(color = \"red\") + ggtitle('Ridership by time') +xlab('Time') + ylab('Entries per hour') + xlim(-1,24)\n",
    "gg1"
   ]
  },
  {
   "cell_type": "code",
   "execution_count": 67,
   "metadata": {
    "collapsed": false
   },
   "outputs": [
    {
     "data": {
      "text/plain": [
       "count     131951\n",
       "unique       465\n",
       "top         R549\n",
       "freq       12198\n",
       "Name: UNIT, dtype: object"
      ]
     },
     "execution_count": 67,
     "metadata": {},
     "output_type": "execute_result"
    }
   ],
   "source": [
    "turnstile_weather['UNIT'].describe()"
   ]
  },
  {
   "cell_type": "code",
   "execution_count": null,
   "metadata": {
    "collapsed": true
   },
   "outputs": [],
   "source": []
  },
  {
   "cell_type": "code",
   "execution_count": null,
   "metadata": {
    "collapsed": true
   },
   "outputs": [],
   "source": []
  }
 ],
 "metadata": {
  "kernelspec": {
   "display_name": "Python 2",
   "language": "python",
   "name": "python2"
  },
  "language_info": {
   "codemirror_mode": {
    "name": "ipython",
    "version": 2
   },
   "file_extension": ".py",
   "mimetype": "text/x-python",
   "name": "python",
   "nbconvert_exporter": "python",
   "pygments_lexer": "ipython2",
   "version": "2.7.10"
  }
 },
 "nbformat": 4,
 "nbformat_minor": 0
}
