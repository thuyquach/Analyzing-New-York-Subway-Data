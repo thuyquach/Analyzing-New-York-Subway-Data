{
 "cells": [
  {
   "cell_type": "code",
   "execution_count": 38,
   "metadata": {
    "collapsed": false
   },
   "outputs": [
    {
     "data": {
      "text/plain": [
       "'/Users/thuy/Documents/Introduction to data science/Turnstile problems'"
      ]
     },
     "execution_count": 38,
     "metadata": {},
     "output_type": "execute_result"
    }
   ],
   "source": [
    "import os\n",
    "os.getcwd()"
   ]
  },
  {
   "cell_type": "code",
   "execution_count": 39,
   "metadata": {
    "collapsed": false
   },
   "outputs": [
    {
     "name": "stdout",
     "output_type": "stream",
     "text": [
      "Problem set 2 .ipynb              updated_Thuy\r\n",
      "turnstile-weather-variables.pdf   updated_Udacity\r\n",
      "turnstile_110528.txt              updated_turnstile_weather_v2.csv\r\n",
      "turnstile_weather_v2.csv\r\n"
     ]
    }
   ],
   "source": [
    "ls"
   ]
  },
  {
   "cell_type": "code",
   "execution_count": 10,
   "metadata": {
    "collapsed": false
   },
   "outputs": [
    {
     "name": "stdout",
     "output_type": "stream",
     "text": [
      "<open file 'updated_Thuy', mode 'w' at 0x105b91f60>\n",
      "<open file 'updated_Udacity', mode 'w' at 0x106d3a030>\n"
     ]
    }
   ],
   "source": [
    "# Updated the name\n",
    "filenames = ['Thuy', 'Udacity']\n",
    "for name in filenames:\n",
    "    with open(\"updated_\" + name, 'w') as g:\n",
    "        writer = csv.writer(g)\n",
    "        print g"
   ]
  },
  {
   "cell_type": "code",
   "execution_count": 112,
   "metadata": {
    "collapsed": false
   },
   "outputs": [
    {
     "name": "stdout",
     "output_type": "stream",
     "text": [
      "['A002', 'R051', '02-00-00', '05-23-11', '16:00:00', 'REGULAR', '003171194', '001098447', '05-23-11', '20:00:00', 'REGULAR', '003172059', '001098511', '05-24-11', '00:00:00', 'REGULAR', '003172200', '001098528', '05-24-11', '04:00:00', 'REGULAR', '003172214', '001098529', '05-24-11', '08:00:00', 'REGULAR', '003172266', '001098628', '05-24-11', '12:00:00', 'REGULAR', '003172407', '001098952', '05-24-11', '16:00:00', 'REGULAR', '003172689', '001099010', '05-24-11', '20:00:00', 'REGULAR', '003173590', '001099055              ']\n"
     ]
    }
   ],
   "source": [
    "with open(\"turnstile_110528.txt\", 'r') as f: # read the file\n",
    "    reader = csv.reader(f)\n",
    "    counter = 0\n",
    "    for line in reader: # get the rows\n",
    "        counter += 1\n",
    "        if counter == 3:\n",
    "            print line\n",
    "        "
   ]
  },
  {
   "cell_type": "code",
   "execution_count": null,
   "metadata": {
    "collapsed": true
   },
   "outputs": [],
   "source": []
  },
  {
   "cell_type": "markdown",
   "metadata": {
    "collapsed": false
   },
   "source": [
    "###Break down to smaller codes to test"
   ]
  },
  {
   "cell_type": "code",
   "execution_count": 55,
   "metadata": {
    "collapsed": true
   },
   "outputs": [],
   "source": [
    "line = ['A002', 'R051', '02-00-00', '05-21-11', '00:00:00', 'REGULAR', '003169391', '001097585', '05-21-11', '04:00:00', 'REGULAR', '003169415', '001097588', '05-21-11', '08:00:00', 'REGULAR', '003169431', '001097607', '05-21-11', '12:00:00', 'REGULAR', '003169506', '001097686', '05-21-11', '16:00:00', 'REGULAR', '003169693', '001097734', '05-21-11', '20:00:00', 'REGULAR', '003169998', '001097769', '05-22-11', '00:00:00', 'REGULAR', '003170119', '001097792', '05-22-11', '04:00:00', 'REGULAR', '003170146', '001097801']\n"
   ]
  },
  {
   "cell_type": "code",
   "execution_count": 56,
   "metadata": {
    "collapsed": false
   },
   "outputs": [
    {
     "name": "stdout",
     "output_type": "stream",
     "text": [
      "['A002', 'R051', '02-00-00', '05-21-11', '00:00:00', 'REGULAR', '003169391', '001097585', '05-21-11', '04:00:00', 'REGULAR', '003169415', '001097588', '05-21-11', '08:00:00', 'REGULAR', '003169431', '001097607', '05-21-11', '12:00:00', 'REGULAR', '003169506', '001097686', '05-21-11', '16:00:00', 'REGULAR', '003169693', '001097734', '05-21-11', '20:00:00', 'REGULAR', '003169998', '001097769', '05-22-11', '00:00:00', 'REGULAR', '003170119', '001097792', '05-22-11', '04:00:00', 'REGULAR', '003170146', '001097801']\n"
     ]
    }
   ],
   "source": [
    "print line"
   ]
  },
  {
   "cell_type": "code",
   "execution_count": 57,
   "metadata": {
    "collapsed": false
   },
   "outputs": [
    {
     "name": "stdout",
     "output_type": "stream",
     "text": [
      "['A002', 'R051', '02-00-00']\n",
      "['05-21-11', '00:00:00', 'REGULAR', '003169391', '001097585', '05-21-11', '04:00:00', 'REGULAR', '003169415', '001097588', '05-21-11', '08:00:00', 'REGULAR', '003169431', '001097607', '05-21-11', '12:00:00', 'REGULAR', '003169506', '001097686', '05-21-11', '16:00:00', 'REGULAR', '003169693', '001097734', '05-21-11', '20:00:00', 'REGULAR', '003169998', '001097769', '05-22-11', '00:00:00', 'REGULAR', '003170119', '001097792', '05-22-11', '04:00:00', 'REGULAR', '003170146', '001097801']\n"
     ]
    }
   ],
   "source": [
    "first_three = columns[:3]\n",
    "remainder = columns[3:]\n",
    "print first_three\n",
    "print remainder\n"
   ]
  },
  {
   "cell_type": "code",
   "execution_count": 58,
   "metadata": {
    "collapsed": false
   },
   "outputs": [
    {
     "data": {
      "text/plain": [
       "40"
      ]
     },
     "execution_count": 58,
     "metadata": {},
     "output_type": "execute_result"
    }
   ],
   "source": [
    "len(remainder)"
   ]
  },
  {
   "cell_type": "code",
   "execution_count": 59,
   "metadata": {
    "collapsed": false
   },
   "outputs": [
    {
     "name": "stdout",
     "output_type": "stream",
     "text": [
      "['05-21-11', '00:00:00', 'REGULAR', '003169391', '001097585']\n",
      "['05-21-11', '04:00:00', 'REGULAR', '003169415', '001097588']\n",
      "['05-21-11', '08:00:00', 'REGULAR', '003169431', '001097607']\n",
      "['05-21-11', '12:00:00', 'REGULAR', '003169506', '001097686']\n",
      "['05-21-11', '16:00:00', 'REGULAR', '003169693', '001097734']\n",
      "['05-21-11', '20:00:00', 'REGULAR', '003169998', '001097769']\n",
      "['05-22-11', '00:00:00', 'REGULAR', '003170119', '001097792']\n",
      "['05-22-11', '04:00:00', 'REGULAR', '003170146', '001097801']\n"
     ]
    }
   ],
   "source": [
    "for i in xrange(0, len(remainder), 5):\n",
    "    print remainder[i:(i+5)]"
   ]
  },
  {
   "cell_type": "code",
   "execution_count": 124,
   "metadata": {
    "collapsed": true
   },
   "outputs": [],
   "source": [
    "import csv\n",
    "\n",
    "def fix_turnstile_data(filenames):\n",
    "    for name in filenames: # go through the list of files in filenames\n",
    "        with open(name, 'r') as f: # read the file\n",
    "            reader = csv.reader(f)\n",
    "            with open(\"updated\" + \"_\" + name, 'w') as g: # updated the name\n",
    "                writer = csv.writer(g)\n",
    "                for line in reader: # get the rows\n",
    "                    first_three = line[:3] \n",
    "                    remainder = line[3:]\n",
    "                    for i in xrange(0, len(remainder), 5):  # skip size of 5\n",
    "                        # write a list as single row in csv file\n",
    "                        writer.writerow(first_three + remainder[i: (i+5)])"
   ]
  },
  {
   "cell_type": "code",
   "execution_count": 125,
   "metadata": {
    "collapsed": true
   },
   "outputs": [],
   "source": [
    "filenames = ['turnstile_110528.txt']\n",
    "fix_turnstile_data(filenames)"
   ]
  },
  {
   "cell_type": "code",
   "execution_count": 129,
   "metadata": {
    "collapsed": false
   },
   "outputs": [],
   "source": [
    "def create_master_turnstile_file(filenames, output_file):\n",
    "    '''\n",
    "    Write a function that takes the files in the list filenames, which all have the \n",
    "    columns 'C/A, UNIT, SCP, DATEn, TIMEn, DESCn, ENTRIESn, EXITSn', and consolidates\n",
    "    them into one file located at output_file.  There should be ONE row with the column\n",
    "    headers, located at the top of the file. The input files do not have column header\n",
    "    rows of their own.\n",
    "    \n",
    "    For example, if file_1 has:\n",
    "    line 1 ...\n",
    "    line 2 ...\n",
    "    \n",
    "    and another file, file_2 has:\n",
    "    line 3 ...\n",
    "    line 4 ...\n",
    "    line 5 ...\n",
    "    \n",
    "    We need to combine file_1 and file_2 into a master_file like below:\n",
    "     'C/A, UNIT, SCP, DATEn, TIMEn, DESCn, ENTRIESn, EXITSn'\n",
    "    line 1 ...\n",
    "    line 2 ...\n",
    "    line 3 ...\n",
    "    line 4 ...\n",
    "    line 5 ...\n",
    "    '''\n",
    "    with open(output_file, 'w') as master_file:\n",
    "        master_file.write('C/A,UNIT,SCP,DATEn,TIMEn,DESCn,ENTRIESn,EXITSn\\n')\n",
    "        for filename in filenames:\n",
    "            with open (filename, 'r') as f:\n",
    "                for line in f:\n",
    "                    if line:\n",
    "                        master_file.write(line)\n",
    "            # your code here"
   ]
  },
  {
   "cell_type": "code",
   "execution_count": 150,
   "metadata": {
    "collapsed": false
   },
   "outputs": [
    {
     "data": {
      "text/html": [
       "<div>\n",
       "<table border=\"1\" class=\"dataframe\">\n",
       "  <thead>\n",
       "    <tr style=\"text-align: right;\">\n",
       "      <th></th>\n",
       "      <th>C/A</th>\n",
       "      <th>UNIT</th>\n",
       "      <th>SCP</th>\n",
       "      <th>DATEn</th>\n",
       "      <th>TIMEn</th>\n",
       "      <th>DESCn</th>\n",
       "      <th>ENTRIESn</th>\n",
       "      <th>EXITSn</th>\n",
       "    </tr>\n",
       "  </thead>\n",
       "  <tbody>\n",
       "    <tr>\n",
       "      <th>0</th>\n",
       "      <td>A002</td>\n",
       "      <td>R051</td>\n",
       "      <td>02-00-00</td>\n",
       "      <td>05-21-11</td>\n",
       "      <td>00:00:00</td>\n",
       "      <td>REGULAR</td>\n",
       "      <td>3169391</td>\n",
       "      <td>1097585</td>\n",
       "    </tr>\n",
       "    <tr>\n",
       "      <th>1</th>\n",
       "      <td>A002</td>\n",
       "      <td>R051</td>\n",
       "      <td>02-00-00</td>\n",
       "      <td>05-21-11</td>\n",
       "      <td>04:00:00</td>\n",
       "      <td>REGULAR</td>\n",
       "      <td>3169415</td>\n",
       "      <td>1097588</td>\n",
       "    </tr>\n",
       "    <tr>\n",
       "      <th>2</th>\n",
       "      <td>A002</td>\n",
       "      <td>R051</td>\n",
       "      <td>02-00-00</td>\n",
       "      <td>05-21-11</td>\n",
       "      <td>08:00:00</td>\n",
       "      <td>REGULAR</td>\n",
       "      <td>3169431</td>\n",
       "      <td>1097607</td>\n",
       "    </tr>\n",
       "    <tr>\n",
       "      <th>3</th>\n",
       "      <td>A002</td>\n",
       "      <td>R051</td>\n",
       "      <td>02-00-00</td>\n",
       "      <td>05-21-11</td>\n",
       "      <td>12:00:00</td>\n",
       "      <td>REGULAR</td>\n",
       "      <td>3169506</td>\n",
       "      <td>1097686</td>\n",
       "    </tr>\n",
       "    <tr>\n",
       "      <th>4</th>\n",
       "      <td>A002</td>\n",
       "      <td>R051</td>\n",
       "      <td>02-00-00</td>\n",
       "      <td>05-21-11</td>\n",
       "      <td>16:00:00</td>\n",
       "      <td>REGULAR</td>\n",
       "      <td>3169693</td>\n",
       "      <td>1097734</td>\n",
       "    </tr>\n",
       "    <tr>\n",
       "      <th>5</th>\n",
       "      <td>A002</td>\n",
       "      <td>R051</td>\n",
       "      <td>02-00-00</td>\n",
       "      <td>05-21-11</td>\n",
       "      <td>20:00:00</td>\n",
       "      <td>REGULAR</td>\n",
       "      <td>3169998</td>\n",
       "      <td>1097769</td>\n",
       "    </tr>\n",
       "    <tr>\n",
       "      <th>6</th>\n",
       "      <td>A002</td>\n",
       "      <td>R051</td>\n",
       "      <td>02-00-00</td>\n",
       "      <td>05-22-11</td>\n",
       "      <td>00:00:00</td>\n",
       "      <td>REGULAR</td>\n",
       "      <td>3170119</td>\n",
       "      <td>1097792</td>\n",
       "    </tr>\n",
       "    <tr>\n",
       "      <th>7</th>\n",
       "      <td>A002</td>\n",
       "      <td>R051</td>\n",
       "      <td>02-00-00</td>\n",
       "      <td>05-22-11</td>\n",
       "      <td>04:00:00</td>\n",
       "      <td>REGULAR</td>\n",
       "      <td>3170146</td>\n",
       "      <td>1097801</td>\n",
       "    </tr>\n",
       "    <tr>\n",
       "      <th>8</th>\n",
       "      <td>A002</td>\n",
       "      <td>R051</td>\n",
       "      <td>02-00-00</td>\n",
       "      <td>05-22-11</td>\n",
       "      <td>08:00:00</td>\n",
       "      <td>REGULAR</td>\n",
       "      <td>3170164</td>\n",
       "      <td>1097820</td>\n",
       "    </tr>\n",
       "    <tr>\n",
       "      <th>9</th>\n",
       "      <td>A002</td>\n",
       "      <td>R051</td>\n",
       "      <td>02-00-00</td>\n",
       "      <td>05-22-11</td>\n",
       "      <td>12:00:00</td>\n",
       "      <td>REGULAR</td>\n",
       "      <td>3170240</td>\n",
       "      <td>1097867</td>\n",
       "    </tr>\n",
       "  </tbody>\n",
       "</table>\n",
       "</div>"
      ],
      "text/plain": [
       "    C/A  UNIT       SCP     DATEn     TIMEn    DESCn  ENTRIESn   EXITSn\n",
       "0  A002  R051  02-00-00  05-21-11  00:00:00  REGULAR   3169391  1097585\n",
       "1  A002  R051  02-00-00  05-21-11  04:00:00  REGULAR   3169415  1097588\n",
       "2  A002  R051  02-00-00  05-21-11  08:00:00  REGULAR   3169431  1097607\n",
       "3  A002  R051  02-00-00  05-21-11  12:00:00  REGULAR   3169506  1097686\n",
       "4  A002  R051  02-00-00  05-21-11  16:00:00  REGULAR   3169693  1097734\n",
       "5  A002  R051  02-00-00  05-21-11  20:00:00  REGULAR   3169998  1097769\n",
       "6  A002  R051  02-00-00  05-22-11  00:00:00  REGULAR   3170119  1097792\n",
       "7  A002  R051  02-00-00  05-22-11  04:00:00  REGULAR   3170146  1097801\n",
       "8  A002  R051  02-00-00  05-22-11  08:00:00  REGULAR   3170164  1097820\n",
       "9  A002  R051  02-00-00  05-22-11  12:00:00  REGULAR   3170240  1097867"
      ]
     },
     "execution_count": 150,
     "metadata": {},
     "output_type": "execute_result"
    }
   ],
   "source": [
    "filenames = ['updated_turnstile_110528.txt']\n",
    "create_master_turnstile_file(filenames, 'test_output.txt')\n",
    "import pandas as pd\n",
    "turnstile_data = pd.read_csv('test_output.txt')\n",
    "turnstile_data.head(10)"
   ]
  },
  {
   "cell_type": "code",
   "execution_count": 142,
   "metadata": {
    "collapsed": false
   },
   "outputs": [
    {
     "data": {
      "text/plain": [
       "count        7343\n",
       "unique          8\n",
       "top       REGULAR\n",
       "freq         6183\n",
       "Name: DESCn, dtype: object"
      ]
     },
     "execution_count": 142,
     "metadata": {},
     "output_type": "execute_result"
    }
   ],
   "source": [
    "turnstile_data['DESCn'].describe()"
   ]
  },
  {
   "cell_type": "code",
   "execution_count": 148,
   "metadata": {
    "collapsed": false
   },
   "outputs": [
    {
     "data": {
      "text/html": [
       "<div>\n",
       "<table border=\"1\" class=\"dataframe\">\n",
       "  <thead>\n",
       "    <tr style=\"text-align: right;\">\n",
       "      <th></th>\n",
       "      <th>C/A</th>\n",
       "      <th>UNIT</th>\n",
       "      <th>SCP</th>\n",
       "      <th>DATEn</th>\n",
       "      <th>TIMEn</th>\n",
       "      <th>DESCn</th>\n",
       "      <th>ENTRIESn</th>\n",
       "      <th>EXITSn</th>\n",
       "    </tr>\n",
       "  </thead>\n",
       "  <tbody>\n",
       "    <tr>\n",
       "      <th>0</th>\n",
       "      <td>A002</td>\n",
       "      <td>R051</td>\n",
       "      <td>02-00-00</td>\n",
       "      <td>05-21-11</td>\n",
       "      <td>00:00:00</td>\n",
       "      <td>REGULAR</td>\n",
       "      <td>3169391</td>\n",
       "      <td>1097585</td>\n",
       "    </tr>\n",
       "    <tr>\n",
       "      <th>1</th>\n",
       "      <td>A002</td>\n",
       "      <td>R051</td>\n",
       "      <td>02-00-00</td>\n",
       "      <td>05-21-11</td>\n",
       "      <td>04:00:00</td>\n",
       "      <td>REGULAR</td>\n",
       "      <td>3169415</td>\n",
       "      <td>1097588</td>\n",
       "    </tr>\n",
       "    <tr>\n",
       "      <th>2</th>\n",
       "      <td>A002</td>\n",
       "      <td>R051</td>\n",
       "      <td>02-00-00</td>\n",
       "      <td>05-21-11</td>\n",
       "      <td>08:00:00</td>\n",
       "      <td>REGULAR</td>\n",
       "      <td>3169431</td>\n",
       "      <td>1097607</td>\n",
       "    </tr>\n",
       "    <tr>\n",
       "      <th>3</th>\n",
       "      <td>A002</td>\n",
       "      <td>R051</td>\n",
       "      <td>02-00-00</td>\n",
       "      <td>05-21-11</td>\n",
       "      <td>12:00:00</td>\n",
       "      <td>REGULAR</td>\n",
       "      <td>3169506</td>\n",
       "      <td>1097686</td>\n",
       "    </tr>\n",
       "    <tr>\n",
       "      <th>4</th>\n",
       "      <td>A002</td>\n",
       "      <td>R051</td>\n",
       "      <td>02-00-00</td>\n",
       "      <td>05-21-11</td>\n",
       "      <td>16:00:00</td>\n",
       "      <td>REGULAR</td>\n",
       "      <td>3169693</td>\n",
       "      <td>1097734</td>\n",
       "    </tr>\n",
       "    <tr>\n",
       "      <th>5</th>\n",
       "      <td>A002</td>\n",
       "      <td>R051</td>\n",
       "      <td>02-00-00</td>\n",
       "      <td>05-21-11</td>\n",
       "      <td>20:00:00</td>\n",
       "      <td>REGULAR</td>\n",
       "      <td>3169998</td>\n",
       "      <td>1097769</td>\n",
       "    </tr>\n",
       "    <tr>\n",
       "      <th>6</th>\n",
       "      <td>A002</td>\n",
       "      <td>R051</td>\n",
       "      <td>02-00-00</td>\n",
       "      <td>05-22-11</td>\n",
       "      <td>00:00:00</td>\n",
       "      <td>REGULAR</td>\n",
       "      <td>3170119</td>\n",
       "      <td>1097792</td>\n",
       "    </tr>\n",
       "    <tr>\n",
       "      <th>7</th>\n",
       "      <td>A002</td>\n",
       "      <td>R051</td>\n",
       "      <td>02-00-00</td>\n",
       "      <td>05-22-11</td>\n",
       "      <td>04:00:00</td>\n",
       "      <td>REGULAR</td>\n",
       "      <td>3170146</td>\n",
       "      <td>1097801</td>\n",
       "    </tr>\n",
       "    <tr>\n",
       "      <th>8</th>\n",
       "      <td>A002</td>\n",
       "      <td>R051</td>\n",
       "      <td>02-00-00</td>\n",
       "      <td>05-22-11</td>\n",
       "      <td>08:00:00</td>\n",
       "      <td>REGULAR</td>\n",
       "      <td>3170164</td>\n",
       "      <td>1097820</td>\n",
       "    </tr>\n",
       "    <tr>\n",
       "      <th>9</th>\n",
       "      <td>A002</td>\n",
       "      <td>R051</td>\n",
       "      <td>02-00-00</td>\n",
       "      <td>05-22-11</td>\n",
       "      <td>12:00:00</td>\n",
       "      <td>REGULAR</td>\n",
       "      <td>3170240</td>\n",
       "      <td>1097867</td>\n",
       "    </tr>\n",
       "    <tr>\n",
       "      <th>10</th>\n",
       "      <td>A002</td>\n",
       "      <td>R051</td>\n",
       "      <td>02-00-00</td>\n",
       "      <td>05-22-11</td>\n",
       "      <td>16:00:00</td>\n",
       "      <td>REGULAR</td>\n",
       "      <td>3170388</td>\n",
       "      <td>1097912</td>\n",
       "    </tr>\n",
       "    <tr>\n",
       "      <th>11</th>\n",
       "      <td>A002</td>\n",
       "      <td>R051</td>\n",
       "      <td>02-00-00</td>\n",
       "      <td>05-22-11</td>\n",
       "      <td>20:00:00</td>\n",
       "      <td>REGULAR</td>\n",
       "      <td>3170611</td>\n",
       "      <td>1097941</td>\n",
       "    </tr>\n",
       "    <tr>\n",
       "      <th>12</th>\n",
       "      <td>A002</td>\n",
       "      <td>R051</td>\n",
       "      <td>02-00-00</td>\n",
       "      <td>05-23-11</td>\n",
       "      <td>00:00:00</td>\n",
       "      <td>REGULAR</td>\n",
       "      <td>3170695</td>\n",
       "      <td>1097964</td>\n",
       "    </tr>\n",
       "    <tr>\n",
       "      <th>13</th>\n",
       "      <td>A002</td>\n",
       "      <td>R051</td>\n",
       "      <td>02-00-00</td>\n",
       "      <td>05-23-11</td>\n",
       "      <td>04:00:00</td>\n",
       "      <td>REGULAR</td>\n",
       "      <td>3170701</td>\n",
       "      <td>1097964</td>\n",
       "    </tr>\n",
       "    <tr>\n",
       "      <th>14</th>\n",
       "      <td>A002</td>\n",
       "      <td>R051</td>\n",
       "      <td>02-00-00</td>\n",
       "      <td>05-23-11</td>\n",
       "      <td>08:00:00</td>\n",
       "      <td>REGULAR</td>\n",
       "      <td>3170746</td>\n",
       "      <td>1098069</td>\n",
       "    </tr>\n",
       "    <tr>\n",
       "      <th>15</th>\n",
       "      <td>A002</td>\n",
       "      <td>R051</td>\n",
       "      <td>02-00-00</td>\n",
       "      <td>05-23-11</td>\n",
       "      <td>12:00:00</td>\n",
       "      <td>REGULAR</td>\n",
       "      <td>3170897</td>\n",
       "      <td>1098378</td>\n",
       "    </tr>\n",
       "    <tr>\n",
       "      <th>16</th>\n",
       "      <td>A002</td>\n",
       "      <td>R051</td>\n",
       "      <td>02-00-00</td>\n",
       "      <td>05-23-11</td>\n",
       "      <td>16:00:00</td>\n",
       "      <td>REGULAR</td>\n",
       "      <td>3171194</td>\n",
       "      <td>1098447</td>\n",
       "    </tr>\n",
       "    <tr>\n",
       "      <th>17</th>\n",
       "      <td>A002</td>\n",
       "      <td>R051</td>\n",
       "      <td>02-00-00</td>\n",
       "      <td>05-23-11</td>\n",
       "      <td>20:00:00</td>\n",
       "      <td>REGULAR</td>\n",
       "      <td>3172059</td>\n",
       "      <td>1098511</td>\n",
       "    </tr>\n",
       "    <tr>\n",
       "      <th>18</th>\n",
       "      <td>A002</td>\n",
       "      <td>R051</td>\n",
       "      <td>02-00-00</td>\n",
       "      <td>05-24-11</td>\n",
       "      <td>00:00:00</td>\n",
       "      <td>REGULAR</td>\n",
       "      <td>3172200</td>\n",
       "      <td>1098528</td>\n",
       "    </tr>\n",
       "    <tr>\n",
       "      <th>19</th>\n",
       "      <td>A002</td>\n",
       "      <td>R051</td>\n",
       "      <td>02-00-00</td>\n",
       "      <td>05-24-11</td>\n",
       "      <td>04:00:00</td>\n",
       "      <td>REGULAR</td>\n",
       "      <td>3172214</td>\n",
       "      <td>1098529</td>\n",
       "    </tr>\n",
       "    <tr>\n",
       "      <th>20</th>\n",
       "      <td>A002</td>\n",
       "      <td>R051</td>\n",
       "      <td>02-00-00</td>\n",
       "      <td>05-24-11</td>\n",
       "      <td>08:00:00</td>\n",
       "      <td>REGULAR</td>\n",
       "      <td>3172266</td>\n",
       "      <td>1098628</td>\n",
       "    </tr>\n",
       "    <tr>\n",
       "      <th>21</th>\n",
       "      <td>A002</td>\n",
       "      <td>R051</td>\n",
       "      <td>02-00-00</td>\n",
       "      <td>05-24-11</td>\n",
       "      <td>12:00:00</td>\n",
       "      <td>REGULAR</td>\n",
       "      <td>3172407</td>\n",
       "      <td>1098952</td>\n",
       "    </tr>\n",
       "    <tr>\n",
       "      <th>22</th>\n",
       "      <td>A002</td>\n",
       "      <td>R051</td>\n",
       "      <td>02-00-00</td>\n",
       "      <td>05-24-11</td>\n",
       "      <td>16:00:00</td>\n",
       "      <td>REGULAR</td>\n",
       "      <td>3172689</td>\n",
       "      <td>1099010</td>\n",
       "    </tr>\n",
       "    <tr>\n",
       "      <th>23</th>\n",
       "      <td>A002</td>\n",
       "      <td>R051</td>\n",
       "      <td>02-00-00</td>\n",
       "      <td>05-24-11</td>\n",
       "      <td>20:00:00</td>\n",
       "      <td>REGULAR</td>\n",
       "      <td>3173590</td>\n",
       "      <td>1099055</td>\n",
       "    </tr>\n",
       "    <tr>\n",
       "      <th>24</th>\n",
       "      <td>A002</td>\n",
       "      <td>R051</td>\n",
       "      <td>02-00-00</td>\n",
       "      <td>05-25-11</td>\n",
       "      <td>00:00:00</td>\n",
       "      <td>REGULAR</td>\n",
       "      <td>3173803</td>\n",
       "      <td>1099079</td>\n",
       "    </tr>\n",
       "    <tr>\n",
       "      <th>25</th>\n",
       "      <td>A002</td>\n",
       "      <td>R051</td>\n",
       "      <td>02-00-00</td>\n",
       "      <td>05-25-11</td>\n",
       "      <td>04:00:00</td>\n",
       "      <td>REGULAR</td>\n",
       "      <td>3173826</td>\n",
       "      <td>1099081</td>\n",
       "    </tr>\n",
       "    <tr>\n",
       "      <th>26</th>\n",
       "      <td>A002</td>\n",
       "      <td>R051</td>\n",
       "      <td>02-00-00</td>\n",
       "      <td>05-25-11</td>\n",
       "      <td>08:00:00</td>\n",
       "      <td>REGULAR</td>\n",
       "      <td>3173873</td>\n",
       "      <td>1099178</td>\n",
       "    </tr>\n",
       "    <tr>\n",
       "      <th>27</th>\n",
       "      <td>A002</td>\n",
       "      <td>R051</td>\n",
       "      <td>02-00-00</td>\n",
       "      <td>05-25-11</td>\n",
       "      <td>12:00:00</td>\n",
       "      <td>REGULAR</td>\n",
       "      <td>3174022</td>\n",
       "      <td>1099496</td>\n",
       "    </tr>\n",
       "    <tr>\n",
       "      <th>28</th>\n",
       "      <td>A002</td>\n",
       "      <td>R051</td>\n",
       "      <td>02-00-00</td>\n",
       "      <td>05-25-11</td>\n",
       "      <td>16:00:00</td>\n",
       "      <td>REGULAR</td>\n",
       "      <td>3174309</td>\n",
       "      <td>1099572</td>\n",
       "    </tr>\n",
       "    <tr>\n",
       "      <th>29</th>\n",
       "      <td>A002</td>\n",
       "      <td>R051</td>\n",
       "      <td>02-00-00</td>\n",
       "      <td>05-25-11</td>\n",
       "      <td>20:00:00</td>\n",
       "      <td>REGULAR</td>\n",
       "      <td>3175172</td>\n",
       "      <td>1099651</td>\n",
       "    </tr>\n",
       "    <tr>\n",
       "      <th>...</th>\n",
       "      <td>...</td>\n",
       "      <td>...</td>\n",
       "      <td>...</td>\n",
       "      <td>...</td>\n",
       "      <td>...</td>\n",
       "      <td>...</td>\n",
       "      <td>...</td>\n",
       "      <td>...</td>\n",
       "    </tr>\n",
       "    <tr>\n",
       "      <th>7311</th>\n",
       "      <td>A042</td>\n",
       "      <td>R086</td>\n",
       "      <td>01-00-04</td>\n",
       "      <td>05-22-11</td>\n",
       "      <td>20:00:00</td>\n",
       "      <td>REGULAR</td>\n",
       "      <td>912511</td>\n",
       "      <td>4167549</td>\n",
       "    </tr>\n",
       "    <tr>\n",
       "      <th>7312</th>\n",
       "      <td>A042</td>\n",
       "      <td>R086</td>\n",
       "      <td>01-00-04</td>\n",
       "      <td>05-23-11</td>\n",
       "      <td>00:00:00</td>\n",
       "      <td>REGULAR</td>\n",
       "      <td>912606</td>\n",
       "      <td>4167828</td>\n",
       "    </tr>\n",
       "    <tr>\n",
       "      <th>7313</th>\n",
       "      <td>A042</td>\n",
       "      <td>R086</td>\n",
       "      <td>01-00-04</td>\n",
       "      <td>05-23-11</td>\n",
       "      <td>04:00:00</td>\n",
       "      <td>REGULAR</td>\n",
       "      <td>912616</td>\n",
       "      <td>4167855</td>\n",
       "    </tr>\n",
       "    <tr>\n",
       "      <th>7314</th>\n",
       "      <td>A042</td>\n",
       "      <td>R086</td>\n",
       "      <td>01-00-04</td>\n",
       "      <td>05-23-11</td>\n",
       "      <td>08:00:00</td>\n",
       "      <td>REGULAR</td>\n",
       "      <td>912622</td>\n",
       "      <td>4168025</td>\n",
       "    </tr>\n",
       "    <tr>\n",
       "      <th>7315</th>\n",
       "      <td>A042</td>\n",
       "      <td>R086</td>\n",
       "      <td>01-00-04</td>\n",
       "      <td>05-23-11</td>\n",
       "      <td>12:00:00</td>\n",
       "      <td>REGULAR</td>\n",
       "      <td>912679</td>\n",
       "      <td>4168923</td>\n",
       "    </tr>\n",
       "    <tr>\n",
       "      <th>7316</th>\n",
       "      <td>A042</td>\n",
       "      <td>R086</td>\n",
       "      <td>01-00-04</td>\n",
       "      <td>05-23-11</td>\n",
       "      <td>16:00:00</td>\n",
       "      <td>REGULAR</td>\n",
       "      <td>912843</td>\n",
       "      <td>4169719</td>\n",
       "    </tr>\n",
       "    <tr>\n",
       "      <th>7317</th>\n",
       "      <td>A042</td>\n",
       "      <td>R086</td>\n",
       "      <td>01-00-04</td>\n",
       "      <td>05-23-11</td>\n",
       "      <td>20:00:00</td>\n",
       "      <td>REGULAR</td>\n",
       "      <td>913194</td>\n",
       "      <td>4170521</td>\n",
       "    </tr>\n",
       "    <tr>\n",
       "      <th>7318</th>\n",
       "      <td>A042</td>\n",
       "      <td>R086</td>\n",
       "      <td>01-00-04</td>\n",
       "      <td>05-24-11</td>\n",
       "      <td>00:00:00</td>\n",
       "      <td>REGULAR</td>\n",
       "      <td>913291</td>\n",
       "      <td>4170682</td>\n",
       "    </tr>\n",
       "    <tr>\n",
       "      <th>7319</th>\n",
       "      <td>A042</td>\n",
       "      <td>R086</td>\n",
       "      <td>01-00-04</td>\n",
       "      <td>05-24-11</td>\n",
       "      <td>04:00:00</td>\n",
       "      <td>REGULAR</td>\n",
       "      <td>913300</td>\n",
       "      <td>4170711</td>\n",
       "    </tr>\n",
       "    <tr>\n",
       "      <th>7320</th>\n",
       "      <td>A042</td>\n",
       "      <td>R086</td>\n",
       "      <td>01-00-04</td>\n",
       "      <td>05-24-11</td>\n",
       "      <td>08:00:00</td>\n",
       "      <td>REGULAR</td>\n",
       "      <td>913309</td>\n",
       "      <td>4170890</td>\n",
       "    </tr>\n",
       "    <tr>\n",
       "      <th>7321</th>\n",
       "      <td>A042</td>\n",
       "      <td>R086</td>\n",
       "      <td>01-00-04</td>\n",
       "      <td>05-24-11</td>\n",
       "      <td>12:00:00</td>\n",
       "      <td>REGULAR</td>\n",
       "      <td>913360</td>\n",
       "      <td>4171856</td>\n",
       "    </tr>\n",
       "    <tr>\n",
       "      <th>7322</th>\n",
       "      <td>A042</td>\n",
       "      <td>R086</td>\n",
       "      <td>01-00-04</td>\n",
       "      <td>05-24-11</td>\n",
       "      <td>16:00:00</td>\n",
       "      <td>REGULAR</td>\n",
       "      <td>913536</td>\n",
       "      <td>4172582</td>\n",
       "    </tr>\n",
       "    <tr>\n",
       "      <th>7323</th>\n",
       "      <td>A042</td>\n",
       "      <td>R086</td>\n",
       "      <td>01-00-04</td>\n",
       "      <td>05-24-11</td>\n",
       "      <td>20:00:00</td>\n",
       "      <td>REGULAR</td>\n",
       "      <td>913892</td>\n",
       "      <td>4173464</td>\n",
       "    </tr>\n",
       "    <tr>\n",
       "      <th>7324</th>\n",
       "      <td>A042</td>\n",
       "      <td>R086</td>\n",
       "      <td>01-00-04</td>\n",
       "      <td>05-25-11</td>\n",
       "      <td>00:00:00</td>\n",
       "      <td>REGULAR</td>\n",
       "      <td>914006</td>\n",
       "      <td>4173624</td>\n",
       "    </tr>\n",
       "    <tr>\n",
       "      <th>7327</th>\n",
       "      <td>A042</td>\n",
       "      <td>R086</td>\n",
       "      <td>01-00-04</td>\n",
       "      <td>05-25-11</td>\n",
       "      <td>08:00:00</td>\n",
       "      <td>REGULAR</td>\n",
       "      <td>914027</td>\n",
       "      <td>4173813</td>\n",
       "    </tr>\n",
       "    <tr>\n",
       "      <th>7328</th>\n",
       "      <td>A042</td>\n",
       "      <td>R086</td>\n",
       "      <td>01-00-04</td>\n",
       "      <td>05-25-11</td>\n",
       "      <td>12:00:00</td>\n",
       "      <td>REGULAR</td>\n",
       "      <td>914087</td>\n",
       "      <td>4174759</td>\n",
       "    </tr>\n",
       "    <tr>\n",
       "      <th>7329</th>\n",
       "      <td>A042</td>\n",
       "      <td>R086</td>\n",
       "      <td>01-00-04</td>\n",
       "      <td>05-25-11</td>\n",
       "      <td>16:00:00</td>\n",
       "      <td>REGULAR</td>\n",
       "      <td>914262</td>\n",
       "      <td>4175544</td>\n",
       "    </tr>\n",
       "    <tr>\n",
       "      <th>7330</th>\n",
       "      <td>A042</td>\n",
       "      <td>R086</td>\n",
       "      <td>01-00-04</td>\n",
       "      <td>05-25-11</td>\n",
       "      <td>20:00:00</td>\n",
       "      <td>REGULAR</td>\n",
       "      <td>914686</td>\n",
       "      <td>4176445</td>\n",
       "    </tr>\n",
       "    <tr>\n",
       "      <th>7331</th>\n",
       "      <td>A042</td>\n",
       "      <td>R086</td>\n",
       "      <td>01-00-04</td>\n",
       "      <td>05-26-11</td>\n",
       "      <td>00:00:00</td>\n",
       "      <td>REGULAR</td>\n",
       "      <td>914808</td>\n",
       "      <td>4176633</td>\n",
       "    </tr>\n",
       "    <tr>\n",
       "      <th>7332</th>\n",
       "      <td>A042</td>\n",
       "      <td>R086</td>\n",
       "      <td>01-00-04</td>\n",
       "      <td>05-26-11</td>\n",
       "      <td>04:00:00</td>\n",
       "      <td>REGULAR</td>\n",
       "      <td>914822</td>\n",
       "      <td>4176664</td>\n",
       "    </tr>\n",
       "    <tr>\n",
       "      <th>7333</th>\n",
       "      <td>A042</td>\n",
       "      <td>R086</td>\n",
       "      <td>01-00-04</td>\n",
       "      <td>05-26-11</td>\n",
       "      <td>08:00:00</td>\n",
       "      <td>REGULAR</td>\n",
       "      <td>914830</td>\n",
       "      <td>4176849</td>\n",
       "    </tr>\n",
       "    <tr>\n",
       "      <th>7334</th>\n",
       "      <td>A042</td>\n",
       "      <td>R086</td>\n",
       "      <td>01-00-04</td>\n",
       "      <td>05-26-11</td>\n",
       "      <td>12:00:00</td>\n",
       "      <td>REGULAR</td>\n",
       "      <td>914902</td>\n",
       "      <td>4177778</td>\n",
       "    </tr>\n",
       "    <tr>\n",
       "      <th>7335</th>\n",
       "      <td>A042</td>\n",
       "      <td>R086</td>\n",
       "      <td>01-00-04</td>\n",
       "      <td>05-26-11</td>\n",
       "      <td>16:00:00</td>\n",
       "      <td>REGULAR</td>\n",
       "      <td>915105</td>\n",
       "      <td>4178603</td>\n",
       "    </tr>\n",
       "    <tr>\n",
       "      <th>7336</th>\n",
       "      <td>A042</td>\n",
       "      <td>R086</td>\n",
       "      <td>01-00-04</td>\n",
       "      <td>05-26-11</td>\n",
       "      <td>20:00:00</td>\n",
       "      <td>REGULAR</td>\n",
       "      <td>915583</td>\n",
       "      <td>4179421</td>\n",
       "    </tr>\n",
       "    <tr>\n",
       "      <th>7337</th>\n",
       "      <td>A042</td>\n",
       "      <td>R086</td>\n",
       "      <td>01-00-04</td>\n",
       "      <td>05-27-11</td>\n",
       "      <td>00:00:00</td>\n",
       "      <td>REGULAR</td>\n",
       "      <td>915724</td>\n",
       "      <td>4179647</td>\n",
       "    </tr>\n",
       "    <tr>\n",
       "      <th>7338</th>\n",
       "      <td>A042</td>\n",
       "      <td>R086</td>\n",
       "      <td>01-00-04</td>\n",
       "      <td>05-27-11</td>\n",
       "      <td>04:00:00</td>\n",
       "      <td>REGULAR</td>\n",
       "      <td>915737</td>\n",
       "      <td>4179675</td>\n",
       "    </tr>\n",
       "    <tr>\n",
       "      <th>7339</th>\n",
       "      <td>A042</td>\n",
       "      <td>R086</td>\n",
       "      <td>01-00-04</td>\n",
       "      <td>05-27-11</td>\n",
       "      <td>08:00:00</td>\n",
       "      <td>REGULAR</td>\n",
       "      <td>915743</td>\n",
       "      <td>4179820</td>\n",
       "    </tr>\n",
       "    <tr>\n",
       "      <th>7340</th>\n",
       "      <td>A042</td>\n",
       "      <td>R086</td>\n",
       "      <td>01-00-04</td>\n",
       "      <td>05-27-11</td>\n",
       "      <td>12:00:00</td>\n",
       "      <td>REGULAR</td>\n",
       "      <td>915806</td>\n",
       "      <td>4180746</td>\n",
       "    </tr>\n",
       "    <tr>\n",
       "      <th>7341</th>\n",
       "      <td>A042</td>\n",
       "      <td>R086</td>\n",
       "      <td>01-00-04</td>\n",
       "      <td>05-27-11</td>\n",
       "      <td>16:00:00</td>\n",
       "      <td>REGULAR</td>\n",
       "      <td>916090</td>\n",
       "      <td>4181746</td>\n",
       "    </tr>\n",
       "    <tr>\n",
       "      <th>7342</th>\n",
       "      <td>A042</td>\n",
       "      <td>R086</td>\n",
       "      <td>01-00-04</td>\n",
       "      <td>05-27-11</td>\n",
       "      <td>20:00:00</td>\n",
       "      <td>REGULAR</td>\n",
       "      <td>916517</td>\n",
       "      <td>4182631</td>\n",
       "    </tr>\n",
       "  </tbody>\n",
       "</table>\n",
       "<p>6183 rows × 8 columns</p>\n",
       "</div>"
      ],
      "text/plain": [
       "       C/A  UNIT       SCP     DATEn     TIMEn    DESCn  ENTRIESn   EXITSn\n",
       "0     A002  R051  02-00-00  05-21-11  00:00:00  REGULAR   3169391  1097585\n",
       "1     A002  R051  02-00-00  05-21-11  04:00:00  REGULAR   3169415  1097588\n",
       "2     A002  R051  02-00-00  05-21-11  08:00:00  REGULAR   3169431  1097607\n",
       "3     A002  R051  02-00-00  05-21-11  12:00:00  REGULAR   3169506  1097686\n",
       "4     A002  R051  02-00-00  05-21-11  16:00:00  REGULAR   3169693  1097734\n",
       "5     A002  R051  02-00-00  05-21-11  20:00:00  REGULAR   3169998  1097769\n",
       "6     A002  R051  02-00-00  05-22-11  00:00:00  REGULAR   3170119  1097792\n",
       "7     A002  R051  02-00-00  05-22-11  04:00:00  REGULAR   3170146  1097801\n",
       "8     A002  R051  02-00-00  05-22-11  08:00:00  REGULAR   3170164  1097820\n",
       "9     A002  R051  02-00-00  05-22-11  12:00:00  REGULAR   3170240  1097867\n",
       "10    A002  R051  02-00-00  05-22-11  16:00:00  REGULAR   3170388  1097912\n",
       "11    A002  R051  02-00-00  05-22-11  20:00:00  REGULAR   3170611  1097941\n",
       "12    A002  R051  02-00-00  05-23-11  00:00:00  REGULAR   3170695  1097964\n",
       "13    A002  R051  02-00-00  05-23-11  04:00:00  REGULAR   3170701  1097964\n",
       "14    A002  R051  02-00-00  05-23-11  08:00:00  REGULAR   3170746  1098069\n",
       "15    A002  R051  02-00-00  05-23-11  12:00:00  REGULAR   3170897  1098378\n",
       "16    A002  R051  02-00-00  05-23-11  16:00:00  REGULAR   3171194  1098447\n",
       "17    A002  R051  02-00-00  05-23-11  20:00:00  REGULAR   3172059  1098511\n",
       "18    A002  R051  02-00-00  05-24-11  00:00:00  REGULAR   3172200  1098528\n",
       "19    A002  R051  02-00-00  05-24-11  04:00:00  REGULAR   3172214  1098529\n",
       "20    A002  R051  02-00-00  05-24-11  08:00:00  REGULAR   3172266  1098628\n",
       "21    A002  R051  02-00-00  05-24-11  12:00:00  REGULAR   3172407  1098952\n",
       "22    A002  R051  02-00-00  05-24-11  16:00:00  REGULAR   3172689  1099010\n",
       "23    A002  R051  02-00-00  05-24-11  20:00:00  REGULAR   3173590  1099055\n",
       "24    A002  R051  02-00-00  05-25-11  00:00:00  REGULAR   3173803  1099079\n",
       "25    A002  R051  02-00-00  05-25-11  04:00:00  REGULAR   3173826  1099081\n",
       "26    A002  R051  02-00-00  05-25-11  08:00:00  REGULAR   3173873  1099178\n",
       "27    A002  R051  02-00-00  05-25-11  12:00:00  REGULAR   3174022  1099496\n",
       "28    A002  R051  02-00-00  05-25-11  16:00:00  REGULAR   3174309  1099572\n",
       "29    A002  R051  02-00-00  05-25-11  20:00:00  REGULAR   3175172  1099651\n",
       "...    ...   ...       ...       ...       ...      ...       ...      ...\n",
       "7311  A042  R086  01-00-04  05-22-11  20:00:00  REGULAR    912511  4167549\n",
       "7312  A042  R086  01-00-04  05-23-11  00:00:00  REGULAR    912606  4167828\n",
       "7313  A042  R086  01-00-04  05-23-11  04:00:00  REGULAR    912616  4167855\n",
       "7314  A042  R086  01-00-04  05-23-11  08:00:00  REGULAR    912622  4168025\n",
       "7315  A042  R086  01-00-04  05-23-11  12:00:00  REGULAR    912679  4168923\n",
       "7316  A042  R086  01-00-04  05-23-11  16:00:00  REGULAR    912843  4169719\n",
       "7317  A042  R086  01-00-04  05-23-11  20:00:00  REGULAR    913194  4170521\n",
       "7318  A042  R086  01-00-04  05-24-11  00:00:00  REGULAR    913291  4170682\n",
       "7319  A042  R086  01-00-04  05-24-11  04:00:00  REGULAR    913300  4170711\n",
       "7320  A042  R086  01-00-04  05-24-11  08:00:00  REGULAR    913309  4170890\n",
       "7321  A042  R086  01-00-04  05-24-11  12:00:00  REGULAR    913360  4171856\n",
       "7322  A042  R086  01-00-04  05-24-11  16:00:00  REGULAR    913536  4172582\n",
       "7323  A042  R086  01-00-04  05-24-11  20:00:00  REGULAR    913892  4173464\n",
       "7324  A042  R086  01-00-04  05-25-11  00:00:00  REGULAR    914006  4173624\n",
       "7327  A042  R086  01-00-04  05-25-11  08:00:00  REGULAR    914027  4173813\n",
       "7328  A042  R086  01-00-04  05-25-11  12:00:00  REGULAR    914087  4174759\n",
       "7329  A042  R086  01-00-04  05-25-11  16:00:00  REGULAR    914262  4175544\n",
       "7330  A042  R086  01-00-04  05-25-11  20:00:00  REGULAR    914686  4176445\n",
       "7331  A042  R086  01-00-04  05-26-11  00:00:00  REGULAR    914808  4176633\n",
       "7332  A042  R086  01-00-04  05-26-11  04:00:00  REGULAR    914822  4176664\n",
       "7333  A042  R086  01-00-04  05-26-11  08:00:00  REGULAR    914830  4176849\n",
       "7334  A042  R086  01-00-04  05-26-11  12:00:00  REGULAR    914902  4177778\n",
       "7335  A042  R086  01-00-04  05-26-11  16:00:00  REGULAR    915105  4178603\n",
       "7336  A042  R086  01-00-04  05-26-11  20:00:00  REGULAR    915583  4179421\n",
       "7337  A042  R086  01-00-04  05-27-11  00:00:00  REGULAR    915724  4179647\n",
       "7338  A042  R086  01-00-04  05-27-11  04:00:00  REGULAR    915737  4179675\n",
       "7339  A042  R086  01-00-04  05-27-11  08:00:00  REGULAR    915743  4179820\n",
       "7340  A042  R086  01-00-04  05-27-11  12:00:00  REGULAR    915806  4180746\n",
       "7341  A042  R086  01-00-04  05-27-11  16:00:00  REGULAR    916090  4181746\n",
       "7342  A042  R086  01-00-04  05-27-11  20:00:00  REGULAR    916517  4182631\n",
       "\n",
       "[6183 rows x 8 columns]"
      ]
     },
     "execution_count": 148,
     "metadata": {},
     "output_type": "execute_result"
    }
   ],
   "source": [
    "turnstile_data[turnstile_data['DESCn'] == \"REGULAR\"]"
   ]
  },
  {
   "cell_type": "code",
   "execution_count": 149,
   "metadata": {
    "collapsed": false
   },
   "outputs": [
    {
     "data": {
      "text/plain": [
       "count        7343\n",
       "unique          8\n",
       "top       REGULAR\n",
       "freq         6183\n",
       "Name: DESCn, dtype: object"
      ]
     },
     "execution_count": 149,
     "metadata": {},
     "output_type": "execute_result"
    }
   ],
   "source": [
    "turnstile_data['DESCn'].describe()"
   ]
  },
  {
   "cell_type": "code",
   "execution_count": null,
   "metadata": {
    "collapsed": true
   },
   "outputs": [],
   "source": [
    "import pandas\n",
    "\n",
    "def filter_by_regular(filename):\n",
    "    '''\n",
    "    This function should read the csv file located at filename into a pandas dataframe,\n",
    "    and filter the dataframe to only rows where the 'DESCn' column has the value 'REGULAR'.\n",
    "    \n",
    "    For example, if the pandas dataframe is as follows:\n",
    "    ,C/A,UNIT,SCP,DATEn,TIMEn,DESCn,ENTRIESn,EXITSn\n",
    "    0,A002,R051,02-00-00,05-01-11,00:00:00,REGULAR,3144312,1088151\n",
    "    1,A002,R051,02-00-00,05-01-11,04:00:00,DOOR,3144335,1088159\n",
    "    2,A002,R051,02-00-00,05-01-11,08:00:00,REGULAR,3144353,1088177\n",
    "    3,A002,R051,02-00-00,05-01-11,12:00:00,DOOR,3144424,1088231\n",
    "    \n",
    "    The dataframe will look like below after filtering to only rows where DESCn column\n",
    "    has the value 'REGULAR':\n",
    "    0,A002,R051,02-00-00,05-01-11,00:00:00,REGULAR,3144312,1088151\n",
    "    2,A002,R051,02-00-00,05-01-11,08:00:00,REGULAR,3144353,1088177\n",
    "    '''\n",
    "    \n",
    "    turnstile_data = pandas.read_csv(filename)\n",
    "    return turnstile_data[turnstile_data['DESCn'] == \"REGULAR\"]\n",
    "    \n",
    "    # your code here\n",
    "    # more of your code here"
   ]
  },
  {
   "cell_type": "code",
   "execution_count": 113,
   "metadata": {
    "collapsed": false
   },
   "outputs": [
    {
     "data": {
      "text/plain": [
       "<open file '/Users/thuy/Documents/Introduction to data science/Turnstile problems/newfile.txt', mode 'a' at 0x106d3a660>"
      ]
     },
     "execution_count": 113,
     "metadata": {},
     "output_type": "execute_result"
    }
   ],
   "source": [
    "open('/Users/thuy/Documents/Introduction to data science/Turnstile problems/newfile.txt', 'a')"
   ]
  },
  {
   "cell_type": "code",
   "execution_count": null,
   "metadata": {
    "collapsed": true
   },
   "outputs": [],
   "source": []
  },
  {
   "cell_type": "code",
   "execution_count": 119,
   "metadata": {
    "collapsed": false
   },
   "outputs": [],
   "source": [
    "with open('newfile.txt', 'w') as f:\n",
    "    f.write('This is a test')\n",
    "    "
   ]
  },
  {
   "cell_type": "code",
   "execution_count": 151,
   "metadata": {
    "collapsed": false
   },
   "outputs": [
    {
     "name": "stdout",
     "output_type": "stream",
     "text": [
      "This is a test\n"
     ]
    }
   ],
   "source": [
    "with open('newfile.txt', 'r') as f:\n",
    "    read_data = f.read()\n",
    "    print read_data"
   ]
  },
  {
   "cell_type": "code",
   "execution_count": null,
   "metadata": {
    "collapsed": true
   },
   "outputs": [],
   "source": [
    "import pandas\n",
    "\n",
    "def get_hourly_entries(df):\n",
    "    '''\n",
    "    The data in the MTA Subway Turnstile data reports on the cumulative\n",
    "    number of entries and exits per row.  Assume that you have a dataframe\n",
    "    called df that contains only the rows for a particular turnstile machine\n",
    "    (i.e., unique SCP, C/A, and UNIT).  This function should change\n",
    "    these cumulative entry numbers to a count of entries since the last reading\n",
    "    (i.e., entries since the last row in the dataframe).\n",
    "    \n",
    "    More specifically, you want to do two things:\n",
    "       1) Create a new column called ENTRIESn_hourly\n",
    "       2) Assign to the column the difference between ENTRIESn of the current row \n",
    "          and the previous row. If there is any NaN, fill/replace it with 1.\n",
    "    \n",
    "    You may find the pandas functions shift() and fillna() to be helpful in this exercise.\n",
    "    \n",
    "    Examples of what your dataframe should look like at the end of this exercise:\n",
    "    \n",
    "           C/A  UNIT       SCP     DATEn     TIMEn    DESCn  ENTRIESn    EXITSn  ENTRIESn_hourly\n",
    "    0     A002  R051  02-00-00  05-01-11  00:00:00  REGULAR   3144312   1088151                1\n",
    "    1     A002  R051  02-00-00  05-01-11  04:00:00  REGULAR   3144335   1088159               23\n",
    "    2     A002  R051  02-00-00  05-01-11  08:00:00  REGULAR   3144353   1088177               18\n",
    "    3     A002  R051  02-00-00  05-01-11  12:00:00  REGULAR   3144424   1088231               71\n",
    "    4     A002  R051  02-00-00  05-01-11  16:00:00  REGULAR   3144594   1088275              170\n",
    "    5     A002  R051  02-00-00  05-01-11  20:00:00  REGULAR   3144808   1088317              214\n",
    "    6     A002  R051  02-00-00  05-02-11  00:00:00  REGULAR   3144895   1088328               87\n",
    "    7     A002  R051  02-00-00  05-02-11  04:00:00  REGULAR   3144905   1088331               10\n",
    "    8     A002  R051  02-00-00  05-02-11  08:00:00  REGULAR   3144941   1088420               36\n",
    "    9     A002  R051  02-00-00  05-02-11  12:00:00  REGULAR   3145094   1088753              153\n",
    "    10    A002  R051  02-00-00  05-02-11  16:00:00  REGULAR   3145337   1088823              243\n",
    "    ...\n",
    "    ...\n",
    "\n",
    "    '''\n",
    "    #your code here\n",
    "    df.loc[:,'ENTRIESn_hourly'] = (df.ENTRIESn - df.ENTRIESn.shift(+1)).fillna(1)\n",
    "    return df"
   ]
  },
  {
   "cell_type": "code",
   "execution_count": 165,
   "metadata": {
    "collapsed": false
   },
   "outputs": [],
   "source": [
    "subset_turnstile = turnstile_data[:5]"
   ]
  },
  {
   "cell_type": "code",
   "execution_count": 166,
   "metadata": {
    "collapsed": false
   },
   "outputs": [
    {
     "data": {
      "text/html": [
       "<div>\n",
       "<table border=\"1\" class=\"dataframe\">\n",
       "  <thead>\n",
       "    <tr style=\"text-align: right;\">\n",
       "      <th></th>\n",
       "      <th>C/A</th>\n",
       "      <th>UNIT</th>\n",
       "      <th>SCP</th>\n",
       "      <th>DATEn</th>\n",
       "      <th>TIMEn</th>\n",
       "      <th>DESCn</th>\n",
       "      <th>ENTRIESn</th>\n",
       "      <th>EXITSn</th>\n",
       "    </tr>\n",
       "  </thead>\n",
       "  <tbody>\n",
       "    <tr>\n",
       "      <th>0</th>\n",
       "      <td>A002</td>\n",
       "      <td>R051</td>\n",
       "      <td>02-00-00</td>\n",
       "      <td>05-21-11</td>\n",
       "      <td>00:00:00</td>\n",
       "      <td>REGULAR</td>\n",
       "      <td>3169391</td>\n",
       "      <td>1097585</td>\n",
       "    </tr>\n",
       "    <tr>\n",
       "      <th>1</th>\n",
       "      <td>A002</td>\n",
       "      <td>R051</td>\n",
       "      <td>02-00-00</td>\n",
       "      <td>05-21-11</td>\n",
       "      <td>04:00:00</td>\n",
       "      <td>REGULAR</td>\n",
       "      <td>3169415</td>\n",
       "      <td>1097588</td>\n",
       "    </tr>\n",
       "    <tr>\n",
       "      <th>2</th>\n",
       "      <td>A002</td>\n",
       "      <td>R051</td>\n",
       "      <td>02-00-00</td>\n",
       "      <td>05-21-11</td>\n",
       "      <td>08:00:00</td>\n",
       "      <td>REGULAR</td>\n",
       "      <td>3169431</td>\n",
       "      <td>1097607</td>\n",
       "    </tr>\n",
       "    <tr>\n",
       "      <th>3</th>\n",
       "      <td>A002</td>\n",
       "      <td>R051</td>\n",
       "      <td>02-00-00</td>\n",
       "      <td>05-21-11</td>\n",
       "      <td>12:00:00</td>\n",
       "      <td>REGULAR</td>\n",
       "      <td>3169506</td>\n",
       "      <td>1097686</td>\n",
       "    </tr>\n",
       "    <tr>\n",
       "      <th>4</th>\n",
       "      <td>A002</td>\n",
       "      <td>R051</td>\n",
       "      <td>02-00-00</td>\n",
       "      <td>05-21-11</td>\n",
       "      <td>16:00:00</td>\n",
       "      <td>REGULAR</td>\n",
       "      <td>3169693</td>\n",
       "      <td>1097734</td>\n",
       "    </tr>\n",
       "  </tbody>\n",
       "</table>\n",
       "</div>"
      ],
      "text/plain": [
       "    C/A  UNIT       SCP     DATEn     TIMEn    DESCn  ENTRIESn   EXITSn\n",
       "0  A002  R051  02-00-00  05-21-11  00:00:00  REGULAR   3169391  1097585\n",
       "1  A002  R051  02-00-00  05-21-11  04:00:00  REGULAR   3169415  1097588\n",
       "2  A002  R051  02-00-00  05-21-11  08:00:00  REGULAR   3169431  1097607\n",
       "3  A002  R051  02-00-00  05-21-11  12:00:00  REGULAR   3169506  1097686\n",
       "4  A002  R051  02-00-00  05-21-11  16:00:00  REGULAR   3169693  1097734"
      ]
     },
     "execution_count": 166,
     "metadata": {},
     "output_type": "execute_result"
    }
   ],
   "source": [
    "subset_turnstile"
   ]
  },
  {
   "cell_type": "code",
   "execution_count": 196,
   "metadata": {
    "collapsed": false
   },
   "outputs": [
    {
     "data": {
      "text/plain": [
       "75"
      ]
     },
     "execution_count": 196,
     "metadata": {},
     "output_type": "execute_result"
    }
   ],
   "source": [
    "test1 = subset_turnstile.ENTRIESn[3] - subset_turnstile.ENTRIESn[2]\n",
    "test1"
   ]
  },
  {
   "cell_type": "code",
   "execution_count": null,
   "metadata": {
    "collapsed": true
   },
   "outputs": [],
   "source": [
    "ENTRIESn_hourly = []\n",
    "for i in subset_turnstile.ENTRIESn:\n",
    "    ENTRIESn_hourly.append(i)\n",
    "    print subset_turnstile.ENTRIESn[i+1] - subset_turnstile.ENTRIESn[i]"
   ]
  },
  {
   "cell_type": "code",
   "execution_count": 178,
   "metadata": {
    "collapsed": false
   },
   "outputs": [
    {
     "data": {
      "text/plain": [
       "5"
      ]
     },
     "execution_count": 178,
     "metadata": {},
     "output_type": "execute_result"
    }
   ],
   "source": [
    "len(subset_turnstile.ENTRIESn)"
   ]
  },
  {
   "cell_type": "code",
   "execution_count": 200,
   "metadata": {
    "collapsed": false
   },
   "outputs": [
    {
     "ename": "TypeError",
     "evalue": "'module' object is not callable",
     "output_type": "error",
     "traceback": [
      "\u001b[0;31m---------------------------------------------------------------------------\u001b[0m",
      "\u001b[0;31mTypeError\u001b[0m                                 Traceback (most recent call last)",
      "\u001b[0;32m<ipython-input-200-3cc145cd2c51>\u001b[0m in \u001b[0;36m<module>\u001b[0;34m()\u001b[0m\n\u001b[1;32m      1\u001b[0m \u001b[0;32mimport\u001b[0m \u001b[0mnumpy\u001b[0m \u001b[0;32mas\u001b[0m \u001b[0mnp\u001b[0m\u001b[0;34m\u001b[0m\u001b[0m\n\u001b[0;32m----> 2\u001b[0;31m \u001b[0mx\u001b[0m \u001b[0;34m=\u001b[0m \u001b[0mnp\u001b[0m\u001b[0;34m.\u001b[0m\u001b[0mrandom\u001b[0m\u001b[0;34m(\u001b[0m\u001b[0;36m3\u001b[0m\u001b[0;34m)\u001b[0m\u001b[0;34m\u001b[0m\u001b[0m\n\u001b[0m",
      "\u001b[0;31mTypeError\u001b[0m: 'module' object is not callable"
     ]
    }
   ],
   "source": [
    "import numpy as np\n",
    "x = np.random(3)"
   ]
  },
  {
   "cell_type": "code",
   "execution_count": 212,
   "metadata": {
    "collapsed": false
   },
   "outputs": [],
   "source": [
    "df = subset_turnstile\n",
    "ENTRIESn_shifted = df.ENTRIESn.shift(+1)"
   ]
  },
  {
   "cell_type": "code",
   "execution_count": 213,
   "metadata": {
    "collapsed": false
   },
   "outputs": [
    {
     "name": "stdout",
     "output_type": "stream",
     "text": [
      "0        NaN\n",
      "1    3169391\n",
      "2    3169415\n",
      "3    3169431\n",
      "4    3169506\n",
      "Name: ENTRIESn, dtype: float64\n"
     ]
    }
   ],
   "source": [
    "print ENTRIESn_shifted"
   ]
  },
  {
   "cell_type": "code",
   "execution_count": 205,
   "metadata": {
    "collapsed": false
   },
   "outputs": [],
   "source": [
    "ENTRIESn_hourly = df.ENTRIESn -  ENTRIESn_shifted "
   ]
  },
  {
   "cell_type": "code",
   "execution_count": 206,
   "metadata": {
    "collapsed": false
   },
   "outputs": [
    {
     "data": {
      "text/plain": [
       "0    NaN\n",
       "1     24\n",
       "2     16\n",
       "3     75\n",
       "4    187\n",
       "Name: ENTRIESn, dtype: float64"
      ]
     },
     "execution_count": 206,
     "metadata": {},
     "output_type": "execute_result"
    }
   ],
   "source": [
    "ENTRIESn_hourly"
   ]
  },
  {
   "cell_type": "code",
   "execution_count": 220,
   "metadata": {
    "collapsed": false
   },
   "outputs": [
    {
     "name": "stderr",
     "output_type": "stream",
     "text": [
      "/Users/thuy/anaconda/lib/python2.7/site-packages/IPython/kernel/__main__.py:1: SettingWithCopyWarning: \n",
      "A value is trying to be set on a copy of a slice from a DataFrame.\n",
      "Try using .loc[row_indexer,col_indexer] = value instead\n",
      "\n",
      "See the the caveats in the documentation: http://pandas.pydata.org/pandas-docs/stable/indexing.html#indexing-view-versus-copy\n",
      "  if __name__ == '__main__':\n"
     ]
    }
   ],
   "source": [
    "df['ENTRIESn_hourly'] = pd.Series(ENTRIESn_hourly, index=df.index)"
   ]
  },
  {
   "cell_type": "code",
   "execution_count": 223,
   "metadata": {
    "collapsed": false
   },
   "outputs": [],
   "source": [
    "df.loc[:,'ENTRIESn_hourly'] = ENTRIESn_hourly"
   ]
  },
  {
   "cell_type": "code",
   "execution_count": 224,
   "metadata": {
    "collapsed": false
   },
   "outputs": [
    {
     "data": {
      "text/html": [
       "<div>\n",
       "<table border=\"1\" class=\"dataframe\">\n",
       "  <thead>\n",
       "    <tr style=\"text-align: right;\">\n",
       "      <th></th>\n",
       "      <th>C/A</th>\n",
       "      <th>UNIT</th>\n",
       "      <th>SCP</th>\n",
       "      <th>DATEn</th>\n",
       "      <th>TIMEn</th>\n",
       "      <th>DESCn</th>\n",
       "      <th>ENTRIESn</th>\n",
       "      <th>EXITSn</th>\n",
       "      <th>ENTRIESn_shifted</th>\n",
       "      <th>ENTRIESn_hourly</th>\n",
       "    </tr>\n",
       "  </thead>\n",
       "  <tbody>\n",
       "    <tr>\n",
       "      <th>0</th>\n",
       "      <td>A002</td>\n",
       "      <td>R051</td>\n",
       "      <td>02-00-00</td>\n",
       "      <td>05-21-11</td>\n",
       "      <td>00:00:00</td>\n",
       "      <td>REGULAR</td>\n",
       "      <td>3169391</td>\n",
       "      <td>1097585</td>\n",
       "      <td>NaN</td>\n",
       "      <td>NaN</td>\n",
       "    </tr>\n",
       "    <tr>\n",
       "      <th>1</th>\n",
       "      <td>A002</td>\n",
       "      <td>R051</td>\n",
       "      <td>02-00-00</td>\n",
       "      <td>05-21-11</td>\n",
       "      <td>04:00:00</td>\n",
       "      <td>REGULAR</td>\n",
       "      <td>3169415</td>\n",
       "      <td>1097588</td>\n",
       "      <td>3169391</td>\n",
       "      <td>24</td>\n",
       "    </tr>\n",
       "    <tr>\n",
       "      <th>2</th>\n",
       "      <td>A002</td>\n",
       "      <td>R051</td>\n",
       "      <td>02-00-00</td>\n",
       "      <td>05-21-11</td>\n",
       "      <td>08:00:00</td>\n",
       "      <td>REGULAR</td>\n",
       "      <td>3169431</td>\n",
       "      <td>1097607</td>\n",
       "      <td>3169415</td>\n",
       "      <td>16</td>\n",
       "    </tr>\n",
       "    <tr>\n",
       "      <th>3</th>\n",
       "      <td>A002</td>\n",
       "      <td>R051</td>\n",
       "      <td>02-00-00</td>\n",
       "      <td>05-21-11</td>\n",
       "      <td>12:00:00</td>\n",
       "      <td>REGULAR</td>\n",
       "      <td>3169506</td>\n",
       "      <td>1097686</td>\n",
       "      <td>3169431</td>\n",
       "      <td>75</td>\n",
       "    </tr>\n",
       "    <tr>\n",
       "      <th>4</th>\n",
       "      <td>A002</td>\n",
       "      <td>R051</td>\n",
       "      <td>02-00-00</td>\n",
       "      <td>05-21-11</td>\n",
       "      <td>16:00:00</td>\n",
       "      <td>REGULAR</td>\n",
       "      <td>3169693</td>\n",
       "      <td>1097734</td>\n",
       "      <td>3169506</td>\n",
       "      <td>187</td>\n",
       "    </tr>\n",
       "  </tbody>\n",
       "</table>\n",
       "</div>"
      ],
      "text/plain": [
       "    C/A  UNIT       SCP     DATEn     TIMEn    DESCn  ENTRIESn   EXITSn  \\\n",
       "0  A002  R051  02-00-00  05-21-11  00:00:00  REGULAR   3169391  1097585   \n",
       "1  A002  R051  02-00-00  05-21-11  04:00:00  REGULAR   3169415  1097588   \n",
       "2  A002  R051  02-00-00  05-21-11  08:00:00  REGULAR   3169431  1097607   \n",
       "3  A002  R051  02-00-00  05-21-11  12:00:00  REGULAR   3169506  1097686   \n",
       "4  A002  R051  02-00-00  05-21-11  16:00:00  REGULAR   3169693  1097734   \n",
       "\n",
       "   ENTRIESn_shifted  ENTRIESn_hourly  \n",
       "0               NaN              NaN  \n",
       "1           3169391               24  \n",
       "2           3169415               16  \n",
       "3           3169431               75  \n",
       "4           3169506              187  "
      ]
     },
     "execution_count": 224,
     "metadata": {},
     "output_type": "execute_result"
    }
   ],
   "source": [
    "df"
   ]
  },
  {
   "cell_type": "code",
   "execution_count": 229,
   "metadata": {
    "collapsed": false
   },
   "outputs": [
    {
     "data": {
      "text/plain": [
       "0      1\n",
       "1     24\n",
       "2     16\n",
       "3     75\n",
       "4    187\n",
       "Name: ENTRIESn_hourly, dtype: float64"
      ]
     },
     "execution_count": 229,
     "metadata": {},
     "output_type": "execute_result"
    }
   ],
   "source": [
    "df['ENTRIESn_hourly'].fillna(1)"
   ]
  },
  {
   "cell_type": "code",
   "execution_count": 230,
   "metadata": {
    "collapsed": false
   },
   "outputs": [
    {
     "data": {
      "text/html": [
       "<div>\n",
       "<table border=\"1\" class=\"dataframe\">\n",
       "  <thead>\n",
       "    <tr style=\"text-align: right;\">\n",
       "      <th></th>\n",
       "      <th>C/A</th>\n",
       "      <th>UNIT</th>\n",
       "      <th>SCP</th>\n",
       "      <th>DATEn</th>\n",
       "      <th>TIMEn</th>\n",
       "      <th>DESCn</th>\n",
       "      <th>ENTRIESn</th>\n",
       "      <th>EXITSn</th>\n",
       "      <th>ENTRIESn_shifted</th>\n",
       "      <th>ENTRIESn_hourly</th>\n",
       "    </tr>\n",
       "  </thead>\n",
       "  <tbody>\n",
       "    <tr>\n",
       "      <th>0</th>\n",
       "      <td>A002</td>\n",
       "      <td>R051</td>\n",
       "      <td>02-00-00</td>\n",
       "      <td>05-21-11</td>\n",
       "      <td>00:00:00</td>\n",
       "      <td>REGULAR</td>\n",
       "      <td>3169391</td>\n",
       "      <td>1097585</td>\n",
       "      <td>NaN</td>\n",
       "      <td>1</td>\n",
       "    </tr>\n",
       "    <tr>\n",
       "      <th>1</th>\n",
       "      <td>A002</td>\n",
       "      <td>R051</td>\n",
       "      <td>02-00-00</td>\n",
       "      <td>05-21-11</td>\n",
       "      <td>04:00:00</td>\n",
       "      <td>REGULAR</td>\n",
       "      <td>3169415</td>\n",
       "      <td>1097588</td>\n",
       "      <td>3169391</td>\n",
       "      <td>24</td>\n",
       "    </tr>\n",
       "    <tr>\n",
       "      <th>2</th>\n",
       "      <td>A002</td>\n",
       "      <td>R051</td>\n",
       "      <td>02-00-00</td>\n",
       "      <td>05-21-11</td>\n",
       "      <td>08:00:00</td>\n",
       "      <td>REGULAR</td>\n",
       "      <td>3169431</td>\n",
       "      <td>1097607</td>\n",
       "      <td>3169415</td>\n",
       "      <td>16</td>\n",
       "    </tr>\n",
       "    <tr>\n",
       "      <th>3</th>\n",
       "      <td>A002</td>\n",
       "      <td>R051</td>\n",
       "      <td>02-00-00</td>\n",
       "      <td>05-21-11</td>\n",
       "      <td>12:00:00</td>\n",
       "      <td>REGULAR</td>\n",
       "      <td>3169506</td>\n",
       "      <td>1097686</td>\n",
       "      <td>3169431</td>\n",
       "      <td>75</td>\n",
       "    </tr>\n",
       "    <tr>\n",
       "      <th>4</th>\n",
       "      <td>A002</td>\n",
       "      <td>R051</td>\n",
       "      <td>02-00-00</td>\n",
       "      <td>05-21-11</td>\n",
       "      <td>16:00:00</td>\n",
       "      <td>REGULAR</td>\n",
       "      <td>3169693</td>\n",
       "      <td>1097734</td>\n",
       "      <td>3169506</td>\n",
       "      <td>187</td>\n",
       "    </tr>\n",
       "  </tbody>\n",
       "</table>\n",
       "</div>"
      ],
      "text/plain": [
       "    C/A  UNIT       SCP     DATEn     TIMEn    DESCn  ENTRIESn   EXITSn  \\\n",
       "0  A002  R051  02-00-00  05-21-11  00:00:00  REGULAR   3169391  1097585   \n",
       "1  A002  R051  02-00-00  05-21-11  04:00:00  REGULAR   3169415  1097588   \n",
       "2  A002  R051  02-00-00  05-21-11  08:00:00  REGULAR   3169431  1097607   \n",
       "3  A002  R051  02-00-00  05-21-11  12:00:00  REGULAR   3169506  1097686   \n",
       "4  A002  R051  02-00-00  05-21-11  16:00:00  REGULAR   3169693  1097734   \n",
       "\n",
       "   ENTRIESn_shifted  ENTRIESn_hourly  \n",
       "0               NaN                1  \n",
       "1           3169391               24  \n",
       "2           3169415               16  \n",
       "3           3169431               75  \n",
       "4           3169506              187  "
      ]
     },
     "execution_count": 230,
     "metadata": {},
     "output_type": "execute_result"
    }
   ],
   "source": [
    "df"
   ]
  },
  {
   "cell_type": "code",
   "execution_count": null,
   "metadata": {
    "collapsed": true
   },
   "outputs": [],
   "source": [
    "import pandas\n",
    "\n",
    "def get_hourly_exits(df):\n",
    "    '''\n",
    "    The data in the MTA Subway Turnstile data reports on the cumulative\n",
    "    number of entries and exits per row.  Assume that you have a dataframe\n",
    "    called df that contains only the rows for a particular turnstile machine\n",
    "    (i.e., unique SCP, C/A, and UNIT).  This function should change\n",
    "    these cumulative exit numbers to a count of exits since the last reading\n",
    "    (i.e., exits since the last row in the dataframe).\n",
    "    \n",
    "    More specifically, you want to do two things:\n",
    "       1) Create a new column called EXITSn_hourly\n",
    "       2) Assign to the column the difference between EXITSn of the current row \n",
    "          and the previous row. If there is any NaN, fill/replace it with 0.\n",
    "    \n",
    "    You may find the pandas functions shift() and fillna() to be helpful in this exercise.\n",
    "    \n",
    "    Example dataframe below:\n",
    "\n",
    "          Unnamed: 0   C/A  UNIT       SCP     DATEn     TIMEn    DESCn  ENTRIESn    EXITSn  ENTRIESn_hourly  EXITSn_hourly\n",
    "    0              0  A002  R051  02-00-00  05-01-11  00:00:00  REGULAR   3144312   1088151                0              0\n",
    "    1              1  A002  R051  02-00-00  05-01-11  04:00:00  REGULAR   3144335   1088159               23              8\n",
    "    2              2  A002  R051  02-00-00  05-01-11  08:00:00  REGULAR   3144353   1088177               18             18\n",
    "    3              3  A002  R051  02-00-00  05-01-11  12:00:00  REGULAR   3144424   1088231               71             54\n",
    "    4              4  A002  R051  02-00-00  05-01-11  16:00:00  REGULAR   3144594   1088275              170             44\n",
    "    5              5  A002  R051  02-00-00  05-01-11  20:00:00  REGULAR   3144808   1088317              214             42\n",
    "    6              6  A002  R051  02-00-00  05-02-11  00:00:00  REGULAR   3144895   1088328               87             11\n",
    "    7              7  A002  R051  02-00-00  05-02-11  04:00:00  REGULAR   3144905   1088331               10              3\n",
    "    8              8  A002  R051  02-00-00  05-02-11  08:00:00  REGULAR   3144941   1088420               36             89\n",
    "    9              9  A002  R051  02-00-00  05-02-11  12:00:00  REGULAR   3145094   1088753              153            333\n",
    "    '''\n",
    "    df.loc[:,'EXITSn_hourly'] = (df.EXITSn - df.EXITSn.shift(+1)).fillna(0)\n",
    "    #your code here\n",
    "    return df\n"
   ]
  },
  {
   "cell_type": "code",
   "execution_count": null,
   "metadata": {
    "collapsed": true
   },
   "outputs": [],
   "source": [
    "import pandas\n",
    "\n",
    "def time_to_hour(time):\n",
    "    '''\n",
    "    Given an input variable time that represents time in the format of:\n",
    "    \"00:00:00\" (hour:minutes:seconds)\n",
    "    \n",
    "    Write a function to extract the hour part from the input variable time\n",
    "    and return it as an integer. For example:\n",
    "        1) if hour is 00, your code should return 0\n",
    "        2) if hour is 01, your code should return 1\n",
    "        3) if hour is 21, your code should return 21\n",
    "        \n",
    "    Please return hour as an integer.\n",
    "    '''\n",
    "    \n",
    "    hour = # your code here\n",
    "    return hour"
   ]
  },
  {
   "cell_type": "code",
   "execution_count": 231,
   "metadata": {
    "collapsed": true
   },
   "outputs": [],
   "source": [
    "l = df.TIMEn[1]"
   ]
  },
  {
   "cell_type": "code",
   "execution_count": 232,
   "metadata": {
    "collapsed": false
   },
   "outputs": [
    {
     "data": {
      "text/plain": [
       "'04:00:00'"
      ]
     },
     "execution_count": 232,
     "metadata": {},
     "output_type": "execute_result"
    }
   ],
   "source": [
    "l"
   ]
  },
  {
   "cell_type": "code",
   "execution_count": 234,
   "metadata": {
    "collapsed": false
   },
   "outputs": [
    {
     "data": {
      "text/plain": [
       "['04', '00', '00']"
      ]
     },
     "execution_count": 234,
     "metadata": {},
     "output_type": "execute_result"
    }
   ],
   "source": [
    "l.split(':')"
   ]
  },
  {
   "cell_type": "code",
   "execution_count": 240,
   "metadata": {
    "collapsed": false
   },
   "outputs": [
    {
     "name": "stdout",
     "output_type": "stream",
     "text": [
      "04\n",
      "00\n",
      "00\n"
     ]
    }
   ],
   "source": [
    "for i in l.split(':'):\n",
    "    print i"
   ]
  },
  {
   "cell_type": "code",
   "execution_count": 242,
   "metadata": {
    "collapsed": false
   },
   "outputs": [
    {
     "ename": "TypeError",
     "evalue": "bad operand type for abs(): 'list'",
     "output_type": "error",
     "traceback": [
      "\u001b[0;31m---------------------------------------------------------------------------\u001b[0m",
      "\u001b[0;31mTypeError\u001b[0m                                 Traceback (most recent call last)",
      "\u001b[0;32m<ipython-input-242-c71eae80ca86>\u001b[0m in \u001b[0;36m<module>\u001b[0;34m()\u001b[0m\n\u001b[0;32m----> 1\u001b[0;31m \u001b[0mabs\u001b[0m\u001b[0;34m(\u001b[0m\u001b[0ml\u001b[0m\u001b[0;34m.\u001b[0m\u001b[0msplit\u001b[0m\u001b[0;34m(\u001b[0m\u001b[0;34m':'\u001b[0m\u001b[0;34m)\u001b[0m\u001b[0;34m)\u001b[0m\u001b[0;34m\u001b[0m\u001b[0m\n\u001b[0m",
      "\u001b[0;31mTypeError\u001b[0m: bad operand type for abs(): 'list'"
     ]
    }
   ],
   "source": [
    "abs(l.split(':'))"
   ]
  },
  {
   "cell_type": "code",
   "execution_count": 243,
   "metadata": {
    "collapsed": false
   },
   "outputs": [
    {
     "data": {
      "text/plain": [
       "1"
      ]
     },
     "execution_count": 243,
     "metadata": {},
     "output_type": "execute_result"
    }
   ],
   "source": [
    "abs(01)"
   ]
  },
  {
   "cell_type": "code",
   "execution_count": 244,
   "metadata": {
    "collapsed": false
   },
   "outputs": [
    {
     "ename": "TypeError",
     "evalue": "bad operand type for abs(): 'str'",
     "output_type": "error",
     "traceback": [
      "\u001b[0;31m---------------------------------------------------------------------------\u001b[0m",
      "\u001b[0;31mTypeError\u001b[0m                                 Traceback (most recent call last)",
      "\u001b[0;32m<ipython-input-244-d724f1006993>\u001b[0m in \u001b[0;36m<module>\u001b[0;34m()\u001b[0m\n\u001b[0;32m----> 1\u001b[0;31m \u001b[0mabs\u001b[0m\u001b[0;34m(\u001b[0m\u001b[0;34m'01'\u001b[0m\u001b[0;34m)\u001b[0m\u001b[0;34m\u001b[0m\u001b[0m\n\u001b[0m",
      "\u001b[0;31mTypeError\u001b[0m: bad operand type for abs(): 'str'"
     ]
    }
   ],
   "source": [
    "abs('01')"
   ]
  },
  {
   "cell_type": "code",
   "execution_count": 245,
   "metadata": {
    "collapsed": false
   },
   "outputs": [
    {
     "data": {
      "text/plain": [
       "1"
      ]
     },
     "execution_count": 245,
     "metadata": {},
     "output_type": "execute_result"
    }
   ],
   "source": [
    "abs(int('01'))"
   ]
  },
  {
   "cell_type": "code",
   "execution_count": null,
   "metadata": {
    "collapsed": true
   },
   "outputs": [],
   "source": [
    "import datetime\n",
    "\n",
    "def reformat_subway_dates(date):\n",
    "    '''\n",
    "    The dates in our subway data are formatted in the format month-day-year.\n",
    "    The dates in our weather underground data are formatted year-month-day.\n",
    "    \n",
    "    In order to join these two data sets together, we'll want the dates formatted\n",
    "    the same way.  Write a function that takes as its input a date in the MTA Subway\n",
    "    data format, and returns a date in the weather underground format.\n",
    "    \n",
    "    Hint: \n",
    "    There are a couple of useful functions in the datetime library that will\n",
    "    help on this assignment, called strptime and strftime. \n",
    "    More info can be seen here and further in the documentation section:\n",
    "    http://docs.python.org/2/library/datetime.html#datetime.datetime.strptime\n",
    "    '''\n",
    "\n",
    "    date_formatted = # your code here\n",
    "    return date_formatted\n"
   ]
  }
 ],
 "metadata": {
  "kernelspec": {
   "display_name": "Python 2",
   "language": "python",
   "name": "python2"
  },
  "language_info": {
   "codemirror_mode": {
    "name": "ipython",
    "version": 2
   },
   "file_extension": ".py",
   "mimetype": "text/x-python",
   "name": "python",
   "nbconvert_exporter": "python",
   "pygments_lexer": "ipython2",
   "version": "2.7.10"
  }
 },
 "nbformat": 4,
 "nbformat_minor": 0
}
