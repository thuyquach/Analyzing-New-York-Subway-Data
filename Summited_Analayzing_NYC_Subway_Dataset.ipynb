{
 "cells": [
  {
   "cell_type": "markdown",
   "metadata": {},
   "source": [
    "This documment summarized the analysis of the New York City Subway Dataset. It was also a part of final project submission for Project 2 of the \"Introduction for Data Science\", Udacity Data Analyst Nanodegree Program.\n"
   ]
  },
  {
   "cell_type": "markdown",
   "metadata": {},
   "source": [
    "## Analyzing the New York City Subway Dataset"
   ]
  },
  {
   "cell_type": "markdown",
   "metadata": {},
   "source": [
    "### Load the data"
   ]
  },
  {
   "cell_type": "code",
   "execution_count": 104,
   "metadata": {
    "collapsed": false
   },
   "outputs": [
    {
     "data": {
      "text/plain": [
       "'/Users/thuy/Documents/Data-Science'"
      ]
     },
     "execution_count": 104,
     "metadata": {},
     "output_type": "execute_result"
    }
   ],
   "source": [
    "import os\n",
    "os.getcwd()"
   ]
  },
  {
   "cell_type": "code",
   "execution_count": 105,
   "metadata": {
    "collapsed": false
   },
   "outputs": [
    {
     "name": "stdout",
     "output_type": "stream",
     "text": [
      "Analyzing the NYC Subway Dataset.ipynb          baseball_stats.csv\r\n",
      "Final_Analayzing_NYC_Subway_Dataset.ipynb       hr_by_team_year_sf_la.csv\r\n",
      "\u001b[34mP2_Wrangling_Subway_Data\u001b[m\u001b[m/                       hr_year.csv\r\n",
      "Problem set 3.ipynb                             lesson01.ipynb\r\n",
      "Project4_all_functions.ipynb                    lesson3_Data_analysis.ipynb\r\n",
      "README.md                                       lesson4_visualization.ipynb\r\n",
      "Summited_Analayzing_NYC_Subway_Dataset.ipynb    loading_wrangling_data_lesson02.ipynb\r\n",
      "Updated-Analyzing the NYC Subway Dataset.ipynb  turnstile_data_master_with_weather (1).csv\r\n"
     ]
    }
   ],
   "source": [
    "ls"
   ]
  },
  {
   "cell_type": "markdown",
   "metadata": {},
   "source": [
    "###Summary of the data"
   ]
  },
  {
   "cell_type": "code",
   "execution_count": 106,
   "metadata": {
    "collapsed": false
   },
   "outputs": [
    {
     "name": "stdout",
     "output_type": "stream",
     "text": [
      "Total variables: 22\n",
      "List of variables:  ['Unnamed: 0', 'UNIT', 'DATEn', 'TIMEn', 'Hour', 'DESCn', 'ENTRIESn_hourly', 'EXITSn_hourly', 'maxpressurei', 'maxdewpti', 'mindewpti', 'minpressurei', 'meandewpti', 'meanpressurei', 'fog', 'rain', 'meanwindspdi', 'mintempi', 'meantempi', 'maxtempi', 'precipi', 'thunder']\n",
      "Statistics summary\n"
     ]
    },
    {
     "data": {
      "text/html": [
       "<div>\n",
       "<table border=\"1\" class=\"dataframe\">\n",
       "  <thead>\n",
       "    <tr style=\"text-align: right;\">\n",
       "      <th></th>\n",
       "      <th>Unnamed: 0</th>\n",
       "      <th>Hour</th>\n",
       "      <th>ENTRIESn_hourly</th>\n",
       "      <th>EXITSn_hourly</th>\n",
       "      <th>maxpressurei</th>\n",
       "      <th>maxdewpti</th>\n",
       "      <th>mindewpti</th>\n",
       "      <th>minpressurei</th>\n",
       "      <th>meandewpti</th>\n",
       "      <th>meanpressurei</th>\n",
       "      <th>fog</th>\n",
       "      <th>rain</th>\n",
       "      <th>meanwindspdi</th>\n",
       "      <th>mintempi</th>\n",
       "      <th>meantempi</th>\n",
       "      <th>maxtempi</th>\n",
       "      <th>precipi</th>\n",
       "      <th>thunder</th>\n",
       "    </tr>\n",
       "  </thead>\n",
       "  <tbody>\n",
       "    <tr>\n",
       "      <th>count</th>\n",
       "      <td>131951.000000</td>\n",
       "      <td>131951.000000</td>\n",
       "      <td>131951.000000</td>\n",
       "      <td>131951.000000</td>\n",
       "      <td>131951.000000</td>\n",
       "      <td>131951.000000</td>\n",
       "      <td>131951.000000</td>\n",
       "      <td>131951.000000</td>\n",
       "      <td>131951.000000</td>\n",
       "      <td>131951.000000</td>\n",
       "      <td>131951.000000</td>\n",
       "      <td>131951.000000</td>\n",
       "      <td>131951.000000</td>\n",
       "      <td>131951.000000</td>\n",
       "      <td>131951.000000</td>\n",
       "      <td>131951.000000</td>\n",
       "      <td>131951.000000</td>\n",
       "      <td>131951</td>\n",
       "    </tr>\n",
       "    <tr>\n",
       "      <th>mean</th>\n",
       "      <td>65975.000000</td>\n",
       "      <td>10.896158</td>\n",
       "      <td>1095.348478</td>\n",
       "      <td>886.890838</td>\n",
       "      <td>30.031894</td>\n",
       "      <td>57.241302</td>\n",
       "      <td>48.259013</td>\n",
       "      <td>29.892714</td>\n",
       "      <td>52.703526</td>\n",
       "      <td>29.965077</td>\n",
       "      <td>0.167100</td>\n",
       "      <td>0.334245</td>\n",
       "      <td>5.543065</td>\n",
       "      <td>56.169775</td>\n",
       "      <td>64.269729</td>\n",
       "      <td>71.769968</td>\n",
       "      <td>0.172276</td>\n",
       "      <td>0</td>\n",
       "    </tr>\n",
       "    <tr>\n",
       "      <th>std</th>\n",
       "      <td>38091.117022</td>\n",
       "      <td>6.892084</td>\n",
       "      <td>2337.015421</td>\n",
       "      <td>2008.604886</td>\n",
       "      <td>0.125689</td>\n",
       "      <td>8.770891</td>\n",
       "      <td>11.305312</td>\n",
       "      <td>0.146384</td>\n",
       "      <td>9.943590</td>\n",
       "      <td>0.130461</td>\n",
       "      <td>0.373066</td>\n",
       "      <td>0.471728</td>\n",
       "      <td>1.982441</td>\n",
       "      <td>6.338875</td>\n",
       "      <td>6.568289</td>\n",
       "      <td>7.627218</td>\n",
       "      <td>0.429005</td>\n",
       "      <td>0</td>\n",
       "    </tr>\n",
       "    <tr>\n",
       "      <th>min</th>\n",
       "      <td>0.000000</td>\n",
       "      <td>0.000000</td>\n",
       "      <td>0.000000</td>\n",
       "      <td>0.000000</td>\n",
       "      <td>29.740000</td>\n",
       "      <td>39.000000</td>\n",
       "      <td>22.000000</td>\n",
       "      <td>29.540000</td>\n",
       "      <td>31.000000</td>\n",
       "      <td>29.640000</td>\n",
       "      <td>0.000000</td>\n",
       "      <td>0.000000</td>\n",
       "      <td>1.000000</td>\n",
       "      <td>46.000000</td>\n",
       "      <td>55.000000</td>\n",
       "      <td>58.000000</td>\n",
       "      <td>0.000000</td>\n",
       "      <td>0</td>\n",
       "    </tr>\n",
       "    <tr>\n",
       "      <th>25%</th>\n",
       "      <td>32987.500000</td>\n",
       "      <td>5.000000</td>\n",
       "      <td>39.000000</td>\n",
       "      <td>32.000000</td>\n",
       "      <td>29.960000</td>\n",
       "      <td>50.000000</td>\n",
       "      <td>38.000000</td>\n",
       "      <td>29.840000</td>\n",
       "      <td>45.000000</td>\n",
       "      <td>29.910000</td>\n",
       "      <td>0.000000</td>\n",
       "      <td>0.000000</td>\n",
       "      <td>5.000000</td>\n",
       "      <td>52.000000</td>\n",
       "      <td>60.000000</td>\n",
       "      <td>65.000000</td>\n",
       "      <td>0.000000</td>\n",
       "      <td>0</td>\n",
       "    </tr>\n",
       "    <tr>\n",
       "      <th>50%</th>\n",
       "      <td>65975.000000</td>\n",
       "      <td>12.000000</td>\n",
       "      <td>279.000000</td>\n",
       "      <td>232.000000</td>\n",
       "      <td>30.030000</td>\n",
       "      <td>57.000000</td>\n",
       "      <td>51.000000</td>\n",
       "      <td>29.910000</td>\n",
       "      <td>54.000000</td>\n",
       "      <td>29.960000</td>\n",
       "      <td>0.000000</td>\n",
       "      <td>0.000000</td>\n",
       "      <td>5.000000</td>\n",
       "      <td>54.000000</td>\n",
       "      <td>63.000000</td>\n",
       "      <td>71.000000</td>\n",
       "      <td>0.000000</td>\n",
       "      <td>0</td>\n",
       "    </tr>\n",
       "    <tr>\n",
       "      <th>75%</th>\n",
       "      <td>98962.500000</td>\n",
       "      <td>17.000000</td>\n",
       "      <td>1109.000000</td>\n",
       "      <td>847.000000</td>\n",
       "      <td>30.100000</td>\n",
       "      <td>64.000000</td>\n",
       "      <td>55.000000</td>\n",
       "      <td>29.970000</td>\n",
       "      <td>60.000000</td>\n",
       "      <td>30.050000</td>\n",
       "      <td>0.000000</td>\n",
       "      <td>1.000000</td>\n",
       "      <td>6.000000</td>\n",
       "      <td>60.000000</td>\n",
       "      <td>68.000000</td>\n",
       "      <td>78.000000</td>\n",
       "      <td>0.100000</td>\n",
       "      <td>0</td>\n",
       "    </tr>\n",
       "    <tr>\n",
       "      <th>max</th>\n",
       "      <td>131950.000000</td>\n",
       "      <td>23.000000</td>\n",
       "      <td>51839.000000</td>\n",
       "      <td>45249.000000</td>\n",
       "      <td>30.310000</td>\n",
       "      <td>70.000000</td>\n",
       "      <td>66.000000</td>\n",
       "      <td>30.230000</td>\n",
       "      <td>68.000000</td>\n",
       "      <td>30.270000</td>\n",
       "      <td>1.000000</td>\n",
       "      <td>1.000000</td>\n",
       "      <td>12.000000</td>\n",
       "      <td>70.000000</td>\n",
       "      <td>78.000000</td>\n",
       "      <td>86.000000</td>\n",
       "      <td>2.180000</td>\n",
       "      <td>0</td>\n",
       "    </tr>\n",
       "  </tbody>\n",
       "</table>\n",
       "</div>"
      ],
      "text/plain": [
       "          Unnamed: 0           Hour  ENTRIESn_hourly  EXITSn_hourly  \\\n",
       "count  131951.000000  131951.000000    131951.000000  131951.000000   \n",
       "mean    65975.000000      10.896158      1095.348478     886.890838   \n",
       "std     38091.117022       6.892084      2337.015421    2008.604886   \n",
       "min         0.000000       0.000000         0.000000       0.000000   \n",
       "25%     32987.500000       5.000000        39.000000      32.000000   \n",
       "50%     65975.000000      12.000000       279.000000     232.000000   \n",
       "75%     98962.500000      17.000000      1109.000000     847.000000   \n",
       "max    131950.000000      23.000000     51839.000000   45249.000000   \n",
       "\n",
       "        maxpressurei      maxdewpti      mindewpti   minpressurei  \\\n",
       "count  131951.000000  131951.000000  131951.000000  131951.000000   \n",
       "mean       30.031894      57.241302      48.259013      29.892714   \n",
       "std         0.125689       8.770891      11.305312       0.146384   \n",
       "min        29.740000      39.000000      22.000000      29.540000   \n",
       "25%        29.960000      50.000000      38.000000      29.840000   \n",
       "50%        30.030000      57.000000      51.000000      29.910000   \n",
       "75%        30.100000      64.000000      55.000000      29.970000   \n",
       "max        30.310000      70.000000      66.000000      30.230000   \n",
       "\n",
       "          meandewpti  meanpressurei            fog           rain  \\\n",
       "count  131951.000000  131951.000000  131951.000000  131951.000000   \n",
       "mean       52.703526      29.965077       0.167100       0.334245   \n",
       "std         9.943590       0.130461       0.373066       0.471728   \n",
       "min        31.000000      29.640000       0.000000       0.000000   \n",
       "25%        45.000000      29.910000       0.000000       0.000000   \n",
       "50%        54.000000      29.960000       0.000000       0.000000   \n",
       "75%        60.000000      30.050000       0.000000       1.000000   \n",
       "max        68.000000      30.270000       1.000000       1.000000   \n",
       "\n",
       "        meanwindspdi       mintempi      meantempi       maxtempi  \\\n",
       "count  131951.000000  131951.000000  131951.000000  131951.000000   \n",
       "mean        5.543065      56.169775      64.269729      71.769968   \n",
       "std         1.982441       6.338875       6.568289       7.627218   \n",
       "min         1.000000      46.000000      55.000000      58.000000   \n",
       "25%         5.000000      52.000000      60.000000      65.000000   \n",
       "50%         5.000000      54.000000      63.000000      71.000000   \n",
       "75%         6.000000      60.000000      68.000000      78.000000   \n",
       "max        12.000000      70.000000      78.000000      86.000000   \n",
       "\n",
       "             precipi  thunder  \n",
       "count  131951.000000   131951  \n",
       "mean        0.172276        0  \n",
       "std         0.429005        0  \n",
       "min         0.000000        0  \n",
       "25%         0.000000        0  \n",
       "50%         0.000000        0  \n",
       "75%         0.100000        0  \n",
       "max         2.180000        0  "
      ]
     },
     "execution_count": 106,
     "metadata": {},
     "output_type": "execute_result"
    }
   ],
   "source": [
    "import pandas as pd\n",
    "#Read the data as Dataframe\n",
    "turnstile_weather = pd.read_csv(\"turnstile_data_master_with_weather (1).csv\")\n",
    "\n",
    "#Number of variables\n",
    "print 'Total variables:', len(list(turnstile_weather.columns.values))\n",
    "\n",
    "#list of variables\n",
    "print 'List of variables: ', list(turnstile_weather.columns.values)\n",
    "\n",
    "#Statistics summary of the data\n",
    "print 'Statistics summary'\n",
    "turnstile_weather.describe()"
   ]
  },
  {
   "cell_type": "markdown",
   "metadata": {},
   "source": [
    "After having a quick glance at the data, I have some observations:\n",
    "\n",
    "1. The data was colected from May 01 to May 30, 2011. So, the weather was started to increase but in pretty comfortable range from 50-75F.\n",
    "\n",
    "2. The mean and standard deviation of ridership per hour were 1095 and 2337, respectively. However the maximum data is 51839. There must be some extreme factors. \n",
    "\n",
    "From the above observations, I have some questions:\n",
    "\n",
    "2. How many people travel with NYC subway systems at different conditions?\n",
    "\n",
    "2. What are the conditions? Are they the weather, the time, the day, the location, etc?\n",
    "\n",
    "3. How I can build a model to predict how many people will ride the NYC subway at the known conditions?"
   ]
  },
  {
   "cell_type": "markdown",
   "metadata": {},
   "source": [
    "###Methodology"
   ]
  },
  {
   "cell_type": "markdown",
   "metadata": {},
   "source": [
    "In order to answer my questions, I used the following methods:\n",
    "\n",
    "1. Descriptive statistics to get information about the data.\n",
    "2. Mann Whitney U Test to analyze the non-normal distributed data.\n",
    "3. Data visualization to understand the pattern and relationship of variables.\n",
    "4. Linear Regression with Scikit Learn Gradient descent using Scikit Learn.\n",
    "5. Python as programing language."
   ]
  },
  {
   "cell_type": "markdown",
   "metadata": {},
   "source": [
    "###Section 0. References"
   ]
  },
  {
   "cell_type": "markdown",
   "metadata": {},
   "source": [
    "1. http://docs.scipy.org/doc/scipy/reference/generated/scipy.stats.mannwhitneyu.html\n",
    "\n",
    "2. https://www.udacity.com/course/intro-to-data-science--ud359\n",
    "\n",
    "3. Statistical Modeling: The Two Cultures (with comments and a rejoinder by the author) http://projecteuclid.org/euclid.ss/1009213726\n",
    "\n",
    "4. https://discussions.udacity.com/c/nd002-p2-intro-to-data-science\n",
    "\n",
    "5. https://weatherspark.com/averages/30722/5/New-York-United-States\n"
   ]
  },
  {
   "cell_type": "markdown",
   "metadata": {},
   "source": [
    "###Section 1. Statistical Test"
   ]
  },
  {
   "cell_type": "markdown",
   "metadata": {},
   "source": [
    "####1.1 Which statistical test did you use to analyze the NYC subway data? Did you use a one-tail or a two-tail P value? What is the null hypothesis? What is your p-critical value?"
   ]
  },
  {
   "cell_type": "markdown",
   "metadata": {},
   "source": [
    "I used two- tail Mann-Whitney U test to analyze the NYC subway data with the following hypotheses:\n",
    "\n",
    "Null hypothesis Ho: The distribution of the number of entries is the same for rainny and non-rainy days. \n",
    "\n",
    "Alternative hypothesis Ha: The distribution of the number of entries is statistically different for rainny and non-rainy days."
   ]
  },
  {
   "cell_type": "markdown",
   "metadata": {},
   "source": [
    "####1.2 Why is this statistical test applicable to the dataset? In particular, consider the assumptions that the test is making about the distribution of ridership in the two samples."
   ]
  },
  {
   "cell_type": "markdown",
   "metadata": {},
   "source": [
    "Before performing a statistical test, it is useful to take a look at the data and determine what distribution the data follows. Specifically, the hourly entries in the NYC subway data.\n",
    "\n",
    "Weather has a significant impact on what kinds of transportation you want to go. Rain was one of the most important weather factor. Therefore, I wanted to know the difference in ridership of the NYC subway on the days with rain and without rain. \n"
   ]
  },
  {
   "cell_type": "code",
   "execution_count": 107,
   "metadata": {
    "collapsed": false
   },
   "outputs": [
    {
     "data": {
      "text/plain": [
       "count    44104.000000\n",
       "mean      1105.446377\n",
       "std       2370.527674\n",
       "min          0.000000\n",
       "25%         41.000000\n",
       "50%        282.000000\n",
       "75%       1103.250000\n",
       "max      51839.000000\n",
       "Name: ENTRIESn_hourly, dtype: float64"
      ]
     },
     "execution_count": 107,
     "metadata": {},
     "output_type": "execute_result"
    }
   ],
   "source": [
    "#Summary of ridership on rainy days\n",
    "turnstile_weather[turnstile_weather[\"rain\"] ==1]['ENTRIESn_hourly'].describe()"
   ]
  },
  {
   "cell_type": "code",
   "execution_count": 108,
   "metadata": {
    "collapsed": false
   },
   "outputs": [
    {
     "data": {
      "text/plain": [
       "count    87847.000000\n",
       "mean      1090.278780\n",
       "std       2320.004938\n",
       "min          0.000000\n",
       "25%         38.000000\n",
       "50%        278.000000\n",
       "75%       1111.000000\n",
       "max      43199.000000\n",
       "Name: ENTRIESn_hourly, dtype: float64"
      ]
     },
     "execution_count": 108,
     "metadata": {},
     "output_type": "execute_result"
    }
   ],
   "source": [
    "#Summary of ridership on no rainy days\n",
    "turnstile_weather[turnstile_weather[\"rain\"] ==0]['ENTRIESn_hourly'].describe()"
   ]
  },
  {
   "cell_type": "markdown",
   "metadata": {},
   "source": [
    "From the above statistic, we could see that both data had similar means and standard deviations."
   ]
  },
  {
   "cell_type": "markdown",
   "metadata": {},
   "source": [
    "##### Distribution of NYC subway ridership on the days with rain and without rain"
   ]
  },
  {
   "cell_type": "code",
   "execution_count": 109,
   "metadata": {
    "collapsed": false
   },
   "outputs": [
    {
     "data": {
      "text/plain": [
       "(0, 60000)"
      ]
     },
     "execution_count": 109,
     "metadata": {},
     "output_type": "execute_result"
    },
    {
     "data": {
      "image/png": "[encoded data removed]",
      "text/plain": [
       "<matplotlib.figure.Figure at 0x110521ed0>"
      ]
     },
     "metadata": {},
     "output_type": "display_data"
    }
   ],
   "source": [
    "%matplotlib inline\n",
    "import matplotlib.pyplot as plt\n",
    "\n",
    "# Rain\n",
    "turnstile_weather[turnstile_weather[\"rain\"] ==1]['ENTRIESn_hourly'].hist(bins = 60)\n",
    "plt.title('Ridership on days with rain')\n",
    "plt.xlabel('Entries per hour')\n",
    "plt.xlim(0,55000)\n",
    "plt.ylim(0, 60000)"
   ]
  },
  {
   "cell_type": "code",
   "execution_count": 110,
   "metadata": {
    "collapsed": false
   },
   "outputs": [
    {
     "data": {
      "text/plain": [
       "(0, 55000)"
      ]
     },
     "execution_count": 110,
     "metadata": {},
     "output_type": "execute_result"
    },
    {
     "data": {
      "image/png": "[encoded data removed]",
      "text/plain": [
       "<matplotlib.figure.Figure at 0x10e8d7410>"
      ]
     },
     "metadata": {},
     "output_type": "display_data"
    }
   ],
   "source": [
    "# No rain\n",
    "turnstile_weather[turnstile_weather[\"rain\"] ==0]['ENTRIESn_hourly'].hist(color = \"yellow\", bins = 60)\n",
    "plt.title('Ridership on days with no rain')\n",
    "plt.xlabel('Entries per hour')\n",
    "plt.xlim(0,55000)"
   ]
  },
  {
   "cell_type": "markdown",
   "metadata": {},
   "source": [
    "Both of the data have similar shapes and were not normally distributed."
   ]
  },
  {
   "cell_type": "markdown",
   "metadata": {},
   "source": [
    "The statistically summary and distribution results showed that both data had similar means and standard deviations and were not normally distributed. Therefore, T-test was not an option. Since we had two groups of data and numbers of the data were more than 20, we could use Mann Whitney U-test to compare their distributions. We used two-tail test since we did not have any data supporting which group had larger mean."
   ]
  },
  {
   "cell_type": "markdown",
   "metadata": {},
   "source": [
    "####1.3 What results did you get from this statistical test? These should include the following numerical values: p-values, as well as the means for each of the two samples under test."
   ]
  },
  {
   "cell_type": "markdown",
   "metadata": {},
   "source": [
    "#####Mann Whitney U-test"
   ]
  },
  {
   "cell_type": "code",
   "execution_count": 111,
   "metadata": {
    "collapsed": true
   },
   "outputs": [],
   "source": [
    "import numpy as np\n",
    "import scipy\n",
    "import scipy.stats\n",
    "import pandas\n",
    "\n",
    "# Consume turnstile_weather dataframe\n",
    "# Return mean of entries with rain, mean of enteries without rain\n",
    "# Return Mann_Whitney U-statistic and p value \n",
    "\n",
    "def mann_whitney_plus_means(turnstile_weather):\n",
    "    with_rain_mean = turnstile_weather[turnstile_weather[\"rain\"] ==1]['ENTRIESn_hourly'].mean()\n",
    "    without_rain_mean = turnstile_weather[turnstile_weather[\"rain\"] ==0]['ENTRIESn_hourly'].mean()\n",
    "    U,p = scipy.stats.mannwhitneyu(turnstile_weather[turnstile_weather[\"rain\"] ==1]['ENTRIESn_hourly'], turnstile_weather[turnstile_weather[\"rain\"] ==0]['ENTRIESn_hourly'])\n",
    "    print 'P value =', p*2 # the mannwhitenyu returned one-tail p value\n",
    "    print 'Mean on rainy days =', with_rain_mean\n",
    "    print 'Mean on nonrainy days=', without_rain_mean\n",
    "    return with_rain_mean, without_rain_mean, U, p"
   ]
  },
  {
   "cell_type": "code",
   "execution_count": 112,
   "metadata": {
    "collapsed": false
   },
   "outputs": [
    {
     "name": "stdout",
     "output_type": "stream",
     "text": [
      "P value = 0.049999825587\n",
      "Mean on rainy days = 1105.44637675\n",
      "Mean on nonrainy days= 1090.27878015\n"
     ]
    },
    {
     "data": {
      "text/plain": [
       "(1105.4463767458733, 1090.278780151855, 1924409167.0, 0.024999912793489721)"
      ]
     },
     "execution_count": 112,
     "metadata": {},
     "output_type": "execute_result"
    }
   ],
   "source": [
    "mann_whitney_plus_means(turnstile_weather)"
   ]
  },
  {
   "cell_type": "markdown",
   "metadata": {},
   "source": [
    "####1.4 What is the significance and interpretation of these results?"
   ]
  },
  {
   "cell_type": "markdown",
   "metadata": {},
   "source": [
    "P value is less than/almost equal to 0.05. Therefore, we could reject the null hypothesis and conclude that the distribution of the number of entries is statistically different for rainny and non-rainy days.\n"
   ]
  },
  {
   "cell_type": "markdown",
   "metadata": {},
   "source": [
    "###Section 2 and 3. Visualization and Linear Regression"
   ]
  },
  {
   "cell_type": "markdown",
   "metadata": {},
   "source": [
    "#### 2.1 What approach did you use to compute the coefficients theta and produce prediction for ENTRIESn_hourly in your regression model:\n",
    "OLS using Statsmodels or Scikit Learn\n",
    "Gradient descent using Scikit Learn\n",
    "Or something different?\n"
   ]
  },
  {
   "cell_type": "markdown",
   "metadata": {},
   "source": [
    "I used both OLS using Statsmodels and Scikit Learn Gradient descent using Sciket Learn for the problem set 2-4. I found that OLS run really slow because of the large dimension of the dataset. Therefore, I used only gradient descent for the project."
   ]
  },
  {
   "cell_type": "markdown",
   "metadata": {},
   "source": [
    "#### Visualization"
   ]
  },
  {
   "cell_type": "markdown",
   "metadata": {},
   "source": [
    "Before choosing the input variables, it is useful to look at the pattern of the data. \n",
    "\n",
    "Beside rain which was investigated in section 1, time and date might has impacts on what how people would like to transport. Let's explore how the factors effected on the ridership.\n"
   ]
  },
  {
   "cell_type": "code",
   "execution_count": 129,
   "metadata": {
    "collapsed": false
   },
   "outputs": [
    {
     "data": {
      "image/png": "[encoded data removed]",
      "text/plain": [
       "<matplotlib.figure.Figure at 0x11054f110>"
      ]
     },
     "metadata": {},
     "output_type": "display_data"
    },
    {
     "data": {
      "text/plain": [
       "<ggplot: (280193813)>"
      ]
     },
     "execution_count": 129,
     "metadata": {},
     "output_type": "execute_result"
    }
   ],
   "source": [
    "from ggplot import *\n",
    "# # ridership by time of day\n",
    "gg_time = ggplot(turnstile_weather, aes('Hour', 'ENTRIESn_hourly')) + geom_point(color = 'black', fill ='green') + xlim(0,23) + ggtitle('Ridership by time-of-day') + ylab('Entries per hour') + xlab('Time of day')\n",
    "gg_time"
   ]
  },
  {
   "cell_type": "markdown",
   "metadata": {},
   "source": [
    "We could see that number of ridership changed with different times of day."
   ]
  },
  {
   "cell_type": "code",
   "execution_count": 114,
   "metadata": {
    "collapsed": true
   },
   "outputs": [],
   "source": [
    "# Add day of the week DAY variable to the dataframe\n",
    "import datetime as dt\n",
    "turnstile_weather['DAY'] = pandas.Series(turnstile_weather['DATEn'].map(lambda x: dt.datetime.strptime(x, '%Y-%m-%d').weekday()), index=turnstile_weather.index)\n",
    "turnstile_weather.is_copy = False"
   ]
  },
  {
   "cell_type": "code",
   "execution_count": 130,
   "metadata": {
    "collapsed": false
   },
   "outputs": [
    {
     "data": {
      "text/plain": [
       "<matplotlib.text.Text at 0x10e17fed0>"
      ]
     },
     "execution_count": 130,
     "metadata": {},
     "output_type": "execute_result"
    },
    {
     "data": {
      "image/png": "[encoded data removed]",
      "text/plain": [
       "<matplotlib.figure.Figure at 0x10f213910>"
      ]
     },
     "metadata": {},
     "output_type": "display_data"
    }
   ],
   "source": [
    "# ridership by day-of-week\n",
    "turnstile_weather[['DAY','ENTRIESn_hourly']]['DAY'].hist(color = \"yellow\", bins = 7)\n",
    "plt.title('Ridership by day-of-week')\n",
    "plt.xlabel('Day of week')\n",
    "plt.ylabel('Entries per hour')"
   ]
  },
  {
   "cell_type": "markdown",
   "metadata": {},
   "source": [
    "We could see that numbers of entries were more during weekend (day 0 and 6) and almost the same on other weekdays.\n",
    "\n",
    "From above investigations, we could use rain, day-of-week,"
   ]
  },
  {
   "cell_type": "code",
   "execution_count": 131,
   "metadata": {
    "collapsed": false
   },
   "outputs": [
    {
     "data": {
      "text/plain": [
       "<matplotlib.text.Text at 0x112bbe210>"
      ]
     },
     "execution_count": 131,
     "metadata": {},
     "output_type": "execute_result"
    },
    {
     "data": {
      "image/png": "[encoded data removed]",
      "text/plain": [
       "<matplotlib.figure.Figure at 0x10f96f9d0>"
      ]
     },
     "metadata": {},
     "output_type": "display_data"
    }
   ],
   "source": [
    "#maxtempi\n",
    "turnstile_weather[['maxtempi','ENTRIESn_hourly']]['maxtempi'].hist(color = \"yellow\", bins =10)\n",
    "plt.title('Ridership by max temperature')\n",
    "plt.xlabel('Max temperature')\n",
    "plt.ylabel('Entries per hour')"
   ]
  },
  {
   "cell_type": "code",
   "execution_count": 132,
   "metadata": {
    "collapsed": false
   },
   "outputs": [
    {
     "data": {
      "text/plain": [
       "<matplotlib.text.Text at 0x10f4efcd0>"
      ]
     },
     "execution_count": 132,
     "metadata": {},
     "output_type": "execute_result"
    },
    {
     "data": {
      "image/png": "[encoded data removed]",
      "text/plain": [
       "<matplotlib.figure.Figure at 0x11293ff10>"
      ]
     },
     "metadata": {},
     "output_type": "display_data"
    }
   ],
   "source": [
    "#meandewpti\n",
    "turnstile_weather[['meandewpti','ENTRIESn_hourly']]['meandewpti'].hist(color = \"yellow\", bins =10)\n",
    "plt.title('Ridership by meandewpti')\n",
    "plt.xlabel('meandewpti')\n",
    "plt.ylabel('Entries per hour')"
   ]
  },
  {
   "cell_type": "markdown",
   "metadata": {},
   "source": [
    "No relationship with meandewpti"
   ]
  },
  {
   "cell_type": "code",
   "execution_count": 133,
   "metadata": {
    "collapsed": false
   },
   "outputs": [
    {
     "data": {
      "text/plain": [
       "<matplotlib.text.Text at 0x1160d2790>"
      ]
     },
     "execution_count": 133,
     "metadata": {},
     "output_type": "execute_result"
    },
    {
     "data": {
      "image/png": "[encoded data removed]",
      "text/plain": [
       "<matplotlib.figure.Figure at 0x116029510>"
      ]
     },
     "metadata": {},
     "output_type": "display_data"
    }
   ],
   "source": [
    "#meanwindspdi\n",
    "turnstile_weather[['meanwindspdi','ENTRIESn_hourly']]['meanwindspdi'].hist(color = \"yellow\", bins =10)\n",
    "plt.title('Ridership by meanwindspdi')\n",
    "plt.xlabel('meanwindspdi')\n",
    "plt.ylabel('Entries per hour')"
   ]
  },
  {
   "cell_type": "markdown",
   "metadata": {},
   "source": [
    "No relationship"
   ]
  },
  {
   "cell_type": "code",
   "execution_count": 134,
   "metadata": {
    "collapsed": false
   },
   "outputs": [
    {
     "data": {
      "text/plain": [
       "<matplotlib.text.Text at 0x10df9aad0>"
      ]
     },
     "execution_count": 134,
     "metadata": {},
     "output_type": "execute_result"
    },
    {
     "data": {
      "image/png": "[encoded data removed]",
      "text/plain": [
       "<matplotlib.figure.Figure at 0x10dfc3a90>"
      ]
     },
     "metadata": {},
     "output_type": "display_data"
    }
   ],
   "source": [
    "#fog\n",
    "turnstile_weather[['fog','ENTRIESn_hourly']]['fog'].hist(color = \"yellow\")\n",
    "plt.title('Ridership by fog')\n",
    "plt.xlabel('fog')\n",
    "plt.ylabel('Entries per hour')"
   ]
  },
  {
   "cell_type": "markdown",
   "metadata": {},
   "source": [
    "Yes, there was a relationship"
   ]
  },
  {
   "cell_type": "code",
   "execution_count": 135,
   "metadata": {
    "collapsed": false
   },
   "outputs": [
    {
     "data": {
      "text/plain": [
       "<matplotlib.text.Text at 0x10decb650>"
      ]
     },
     "execution_count": 135,
     "metadata": {},
     "output_type": "execute_result"
    },
    {
     "data": {
      "image/png": "[encoded data removed]",
      "text/plain": [
       "<matplotlib.figure.Figure at 0x10de02810>"
      ]
     },
     "metadata": {},
     "output_type": "display_data"
    }
   ],
   "source": [
    "#precipitation\n",
    "turnstile_weather[['precipi','ENTRIESn_hourly']]['precipi'].hist(color = \"yellow\")\n",
    "plt.title('Ridership by precipi')\n",
    "plt.xlabel('precipi')\n",
    "plt.ylabel('Entries per hour')"
   ]
  },
  {
   "cell_type": "markdown",
   "metadata": {},
   "source": [
    "There was a relationship between ridership and precipiation"
   ]
  },
  {
   "cell_type": "code",
   "execution_count": 136,
   "metadata": {
    "collapsed": false
   },
   "outputs": [
    {
     "data": {
      "text/plain": [
       "<matplotlib.text.Text at 0x110609f90>"
      ]
     },
     "execution_count": 136,
     "metadata": {},
     "output_type": "execute_result"
    },
    {
     "data": {
      "image/png": "[encoded data removed]",
      "text/plain": [
       "<matplotlib.figure.Figure at 0x10df1cfd0>"
      ]
     },
     "metadata": {},
     "output_type": "display_data"
    }
   ],
   "source": [
    "#meanpressurei\n",
    "turnstile_weather[['meanpressurei','ENTRIESn_hourly']]['meanpressurei'].hist(color = \"yellow\")\n",
    "plt.title('Ridership by meanpressurei')\n",
    "plt.xlabel('meanpressurei')\n",
    "plt.ylabel('Entries per hour')"
   ]
  },
  {
   "cell_type": "markdown",
   "metadata": {},
   "source": [
    "####2.2 What features (input variables) did you use in your model? Did you use any dummy variables as part of your features?"
   ]
  },
  {
   "cell_type": "markdown",
   "metadata": {},
   "source": [
    "After exploring the variables, I used 'rain', 'precipi', 'fog' and 'maxtempi' variables as my input. \n",
    "\n",
    "The 'UNIT', 'Hour' and 'DAY' were important variable but 'UNIT' was a caterogies data and 'DAY' and 'Hour' are scaling data. Therefore, I used them as dummy variables as part of my features. \n",
    "\n"
   ]
  },
  {
   "cell_type": "code",
   "execution_count": 122,
   "metadata": {
    "collapsed": true
   },
   "outputs": [],
   "source": [
    "input_variables = ['rain', 'precipi', 'fog', 'maxtempi'] "
   ]
  },
  {
   "cell_type": "markdown",
   "metadata": {},
   "source": [
    "####2.3 Why did you select these features in your model? "
   ]
  },
  {
   "cell_type": "markdown",
   "metadata": {},
   "source": [
    "I selected the features because the exploratory analysis suggested that weather, time and date had impacts on what how people would like to ride the subway. Therefore, variables such as rain, precipitation, temperature, foggy condition, time of the day and day of week were used as features for the model. \n",
    "\n",
    "In order to validate my assumptions, I also included and withdrawed the variables in my features and investigated how it increased or decreased my coefficients of determination (R2) value. The results showed that using rain, precipitation, temperature, time of the day and day of week get the best R2 value of 0.49. Since the data was in a large range, I also used the subset with more than 10000 and 20000 number of entries per hour and found the R2 value of 0.61 and 0.76, respectively.\n",
    "\n",
    "The code were showed below.\n"
   ]
  },
  {
   "cell_type": "markdown",
   "metadata": {},
   "source": [
    "####2.4 What are the parameters (also known as \"coefficients\" or \"weights\") of the non-dummy features in your linear regression model?"
   ]
  },
  {
   "cell_type": "code",
   "execution_count": 123,
   "metadata": {
    "collapsed": true
   },
   "outputs": [],
   "source": [
    "import numpy as np\n",
    "import pandas\n",
    "from sklearn.linear_model import SGDRegressor\n",
    "\n",
    "\n",
    "def normalize_features(features):\n",
    "    ''' \n",
    "    Returns the means and standard deviations of the given features, along with a normalized feature\n",
    "    matrix.\n",
    "    ''' \n",
    "    means = np.mean(features, axis=0)\n",
    "    std_devs = np.std(features, axis=0)\n",
    "    normalized_features = (features - means) / std_devs\n",
    "    return means, std_devs, normalized_features\n",
    "\n",
    "def recover_params(means, std_devs, norm_intercept, norm_params):\n",
    "    ''' \n",
    "    Recovers the weights for a linear model given parameters that were fitted using\n",
    "    normalized features. Takes the means and standard deviations of the original\n",
    "    features, along with the intercept and parameters computed using the normalized\n",
    "    features, and returns the intercept and parameters that correspond to the original\n",
    "    features.\n",
    "    ''' \n",
    "    intercept = norm_intercept - np.sum(means * norm_params / std_devs)\n",
    "    params = norm_params / std_devs\n",
    "    return intercept, params\n",
    "\n",
    "def linear_regression(features, values):\n",
    "    \"\"\"\n",
    "    Perform linear regression given a data set with an arbitrary number of features.\n",
    "    \"\"\"\n",
    "    clf = SGDRegressor(n_iter = 60) # select iteration = 20 to improve R2\n",
    "    intercept = clf.fit(features,values).intercept_\n",
    "    params = clf.fit(features,values).coef_\n",
    "    return intercept, params\n",
    "\n",
    "def predictions(dataframe, input_val):\n",
    "    \n",
    "    features = dataframe[input_val]\n",
    "    dummy_days = pandas.get_dummies(dataframe['DAY'], prefix='day')\n",
    "    dummy_units =pandas.get_dummies(dataframe['UNIT'], prefix='unit')\n",
    "    dummy_hours = pandas.get_dummies(dataframe['Hour'], prefix='hour')\n",
    "    days_units= pandas.concat([dummy_days, dummy_units, dummy_hours], axis=1)\n",
    "    features = features.join(days_units)\n",
    "    \n",
    "    # Values\n",
    "    values = dataframe['ENTRIESn_hourly']\n",
    "    \n",
    "    # Get numpy arrays\n",
    "    features_array = features.values\n",
    "    values_array = values.values\n",
    "    \n",
    "    means, std_devs, normalized_features_array = normalize_features(features_array)\n",
    "\n",
    "    # Perform gradient descent\n",
    "    norm_intercept, norm_params = linear_regression(normalized_features_array, values_array)\n",
    "    \n",
    "    intercept, params = recover_params(means, std_devs, norm_intercept, norm_params)\n",
    "    print len(params)\n",
    "    print params[:4]\n",
    "    \n",
    "    predictions = intercept + np.dot(features_array, params)\n",
    "    # The following line would be equivalent:\n",
    "    # predictions = norm_intercept + np.dot(normalized_features_array, norm_params)\n",
    "    \n",
    "    return predictions\n"
   ]
  },
  {
   "cell_type": "code",
   "execution_count": 124,
   "metadata": {
    "collapsed": true
   },
   "outputs": [],
   "source": [
    "def compute_r_squared(data, predictions):\n",
    "    # Write a function that, given two input numpy arrays, 'data', and 'predictions,'\n",
    "    # returns the coefficient of determination, R^2, for the model that produced \n",
    "    # predictions.\n",
    "    \n",
    "    difference_squared = map(lambda data, predictions: (data - predictions)**2, data, predictions)\n",
    "    mean_data = np.mean(data)\n",
    "    variance = map(lambda data: (data - mean_data)**2, data)\n",
    "    r_squared = 1 - sum(difference_squared)/sum(variance)\n",
    "    print r_squared"
   ]
  },
  {
   "cell_type": "markdown",
   "metadata": {},
   "source": [
    "#### Prediction for the whole data"
   ]
  },
  {
   "cell_type": "code",
   "execution_count": 125,
   "metadata": {
    "collapsed": false
   },
   "outputs": [
    {
     "name": "stdout",
     "output_type": "stream",
     "text": [
      "500\n",
      "[-86.90092044 -81.06692308  73.20263969  -9.50311086]\n",
      "0.489170849673\n"
     ]
    }
   ],
   "source": [
    "#With 4 variables as input\n",
    "input_val_1 = ['rain', 'precipi', 'fog', 'maxtempi']\n",
    "compute_r_squared(turnstile_weather['ENTRIESn_hourly'], predictions(turnstile_weather, input_val_1))"
   ]
  },
  {
   "cell_type": "code",
   "execution_count": 126,
   "metadata": {
    "collapsed": false
   },
   "outputs": [
    {
     "name": "stdout",
     "output_type": "stream",
     "text": [
      "499\n",
      "[-136.60517507  120.54303076   -9.70318492  -20.61421557]\n",
      "0.494720593538\n"
     ]
    }
   ],
   "source": [
    "# With 3 variables as input\n",
    "input_val_2 = ['rain', 'fog', 'maxtempi']\n",
    "compute_r_squared(turnstile_weather['ENTRIESn_hourly'], predictions(turnstile_weather, input_val_2))"
   ]
  },
  {
   "cell_type": "markdown",
   "metadata": {},
   "source": [
    "####Prediction for the high number of entries"
   ]
  },
  {
   "cell_type": "code",
   "execution_count": 127,
   "metadata": {
    "collapsed": false
   },
   "outputs": [
    {
     "name": "stdout",
     "output_type": "stream",
     "text": [
      "117\n",
      "[-267.48316204 -515.49641783  530.57078192  -45.8722026 ]\n",
      "0.606343713884\n"
     ]
    }
   ],
   "source": [
    "# Predict for Entries_hourly>10000:\n",
    "input_val_1 = ['rain', 'precipi', 'fog', 'maxtempi']\n",
    "more_10000_ridership = turnstile_weather[turnstile_weather['ENTRIESn_hourly']>=10000]\n",
    "compute_r_squared(more_10000_ridership['ENTRIESn_hourly'], predictions(more_10000_ridership, input_val_1 ))"
   ]
  },
  {
   "cell_type": "code",
   "execution_count": 128,
   "metadata": {
    "collapsed": false
   },
   "outputs": [
    {
     "name": "stdout",
     "output_type": "stream",
     "text": [
      "45\n",
      "[ 574.55665169 -838.80062916  466.62306214  -43.60398598]\n",
      "0.759966988907\n"
     ]
    }
   ],
   "source": [
    "# Predict for Entries_hourly>20000:\n",
    "input_val_1 = ['rain', 'precipi', 'fog', 'maxtempi']\n",
    "more_20000_ridership = turnstile_weather[turnstile_weather['ENTRIESn_hourly']>=20000]\n",
    "compute_r_squared(more_20000_ridership['ENTRIESn_hourly'], predictions(more_20000_ridership, input_val_1 ))"
   ]
  },
  {
   "cell_type": "markdown",
   "metadata": {},
   "source": [
    "R2 value is relatively small if we used the whole data set. It my linear regression model may not be the best fit for the data. "
   ]
  },
  {
   "cell_type": "markdown",
   "metadata": {},
   "source": [
    "###Section 4. Conclusion"
   ]
  },
  {
   "cell_type": "markdown",
   "metadata": {},
   "source": [
    "The data analysis results showed that weather conditions (rain, precipitation, fog and maximum temperature), location of the subway station, time and date had impacts on the number of riders of NYC subway. Linear regression with gradient descent was implemented and got R2 value in range of 0.49 to 0.76 depending on the subsets of the data.\n",
    "\n",
    "The results of Mann Whitney U Test (p = 0.49) showed that there was a statistical difference in the distribution of the number of riders when it is rain and when it is not rain. Further investigation in linear regression showed coefficient of 'rain' was -92. It looks like if it rains there is less people riding the NYC subway. However, we must be careful not to conclude that since in linear regression we care more about the final prediction than the coefficients which could vary depending on variable selection. My R2 was also only 0.49 for the whole data set. It suggested that in order to get more precise conclusion, I need further investigation with different feature selections and statistical tests along with more background information about NYC subway and other related transportation data in NYC.\n",
    "\n"
   ]
  },
  {
   "cell_type": "markdown",
   "metadata": {},
   "source": [
    "###Section 5. Reflection"
   ]
  },
  {
   "cell_type": "markdown",
   "metadata": {
    "collapsed": true
   },
   "source": [
    "The dataset contains only one month data of NYC subway. It was colected from May 01 to May 30, 2011. So, the weather may not be significant factor since it was in a short window of time. The mean and standard deviation of ridership per hour were 1095 and 2337, respectively. However the maximum data is 51839. There must be some extreme unknown factors which required further background research.\n",
    "\n",
    "Mann Whitney U Test showed only the statistical difference in the distribution of the data but not more than that. Linear regression had a R2 value of 0.49 for the whole dataset and 0.76 for the subset of entries hourly more than 20000. The coefficient for 'rain' was negative suggesting there was some things more need to investigate before conclusion. \n",
    "\n",
    "I think the dataset is interesting and a bit challenge for the Introduction course if our goal is higher R2 value. I have tried many combinations of the input variables and also dummy variables but the results (not shown here) were not improved much. I hope to improve my model with the Machine Learning course in the program."
   ]
  }
 ],
 "metadata": {
  "kernelspec": {
   "display_name": "Python 2",
   "language": "python",
   "name": "python2"
  },
  "language_info": {
   "codemirror_mode": {
    "name": "ipython",
    "version": 2
   },
   "file_extension": ".py",
   "mimetype": "text/x-python",
   "name": "python",
   "nbconvert_exporter": "python",
   "pygments_lexer": "ipython2",
   "version": "2.7.10"
  }
 },
 "nbformat": 4,
 "nbformat_minor": 0
}
