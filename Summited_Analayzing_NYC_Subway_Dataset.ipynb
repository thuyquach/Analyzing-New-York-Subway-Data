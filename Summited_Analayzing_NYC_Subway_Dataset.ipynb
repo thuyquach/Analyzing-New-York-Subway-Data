{
 "cells": [
  {
   "cell_type": "markdown",
   "metadata": {},
   "source": [
    "This documment summarized the analysis of the New York City Subway Dataset. It was also a part of final project submission for Project 2 of the \"Introduction for Data Science\", Udacity Data Analyst Nanodegree Program.\n"
   ]
  },
  {
   "cell_type": "markdown",
   "metadata": {},
   "source": [
    "## Analyzing the New York City Subway Dataset"
   ]
  },
  {
   "cell_type": "markdown",
   "metadata": {},
   "source": [
    "### Load the data"
   ]
  },
  {
   "cell_type": "code",
   "execution_count": 1,
   "metadata": {
    "collapsed": false
   },
   "outputs": [
    {
     "data": {
      "text/plain": [
       "'/Users/thuy/Documents/Data-Science'"
      ]
     },
     "execution_count": 1,
     "metadata": {},
     "output_type": "execute_result"
    }
   ],
   "source": [
    "import os\n",
    "os.getcwd()"
   ]
  },
  {
   "cell_type": "code",
   "execution_count": 2,
   "metadata": {
    "collapsed": false
   },
   "outputs": [
    {
     "name": "stdout",
     "output_type": "stream",
     "text": [
      "Analyzing the NYC Subway Dataset.ipynb          baseball_stats.csv\r\n",
      "Final_Analayzing_NYC_Subway_Dataset.ipynb       hr_by_team_year_sf_la.csv\r\n",
      "\u001b[34mP2_Wrangling_Subway_Data\u001b[m\u001b[m/                       hr_year.csv\r\n",
      "Problem set 3.ipynb                             lesson01.ipynb\r\n",
      "Project4_all_functions.ipynb                    lesson3_Data_analysis.ipynb\r\n",
      "README.md                                       lesson4_visualization.ipynb\r\n",
      "Summited_Analayzing_NYC_Subway_Dataset.ipynb    loading_wrangling_data_lesson02.ipynb\r\n",
      "Updated-Analyzing the NYC Subway Dataset.ipynb  turnstile_data_master_with_weather (1).csv\r\n"
     ]
    }
   ],
   "source": [
    "ls"
   ]
  },
  {
   "cell_type": "markdown",
   "metadata": {},
   "source": [
    "###Summary of the data"
   ]
  },
  {
   "cell_type": "code",
   "execution_count": 3,
   "metadata": {
    "collapsed": false
   },
   "outputs": [
    {
     "name": "stdout",
     "output_type": "stream",
     "text": [
      "Total variables: 22\n",
      "List of variables:  ['Unnamed: 0', 'UNIT', 'DATEn', 'TIMEn', 'Hour', 'DESCn', 'ENTRIESn_hourly', 'EXITSn_hourly', 'maxpressurei', 'maxdewpti', 'mindewpti', 'minpressurei', 'meandewpti', 'meanpressurei', 'fog', 'rain', 'meanwindspdi', 'mintempi', 'meantempi', 'maxtempi', 'precipi', 'thunder']\n",
      "Statistics summary\n"
     ]
    },
    {
     "data": {
      "text/html": [
       "<div>\n",
       "<table border=\"1\" class=\"dataframe\">\n",
       "  <thead>\n",
       "    <tr style=\"text-align: right;\">\n",
       "      <th></th>\n",
       "      <th>Unnamed: 0</th>\n",
       "      <th>Hour</th>\n",
       "      <th>ENTRIESn_hourly</th>\n",
       "      <th>EXITSn_hourly</th>\n",
       "      <th>maxpressurei</th>\n",
       "      <th>maxdewpti</th>\n",
       "      <th>mindewpti</th>\n",
       "      <th>minpressurei</th>\n",
       "      <th>meandewpti</th>\n",
       "      <th>meanpressurei</th>\n",
       "      <th>fog</th>\n",
       "      <th>rain</th>\n",
       "      <th>meanwindspdi</th>\n",
       "      <th>mintempi</th>\n",
       "      <th>meantempi</th>\n",
       "      <th>maxtempi</th>\n",
       "      <th>precipi</th>\n",
       "      <th>thunder</th>\n",
       "    </tr>\n",
       "  </thead>\n",
       "  <tbody>\n",
       "    <tr>\n",
       "      <th>count</th>\n",
       "      <td>131951.000000</td>\n",
       "      <td>131951.000000</td>\n",
       "      <td>131951.000000</td>\n",
       "      <td>131951.000000</td>\n",
       "      <td>131951.000000</td>\n",
       "      <td>131951.000000</td>\n",
       "      <td>131951.000000</td>\n",
       "      <td>131951.000000</td>\n",
       "      <td>131951.000000</td>\n",
       "      <td>131951.000000</td>\n",
       "      <td>131951.000000</td>\n",
       "      <td>131951.000000</td>\n",
       "      <td>131951.000000</td>\n",
       "      <td>131951.000000</td>\n",
       "      <td>131951.000000</td>\n",
       "      <td>131951.000000</td>\n",
       "      <td>131951.000000</td>\n",
       "      <td>131951</td>\n",
       "    </tr>\n",
       "    <tr>\n",
       "      <th>mean</th>\n",
       "      <td>65975.000000</td>\n",
       "      <td>10.896158</td>\n",
       "      <td>1095.348478</td>\n",
       "      <td>886.890838</td>\n",
       "      <td>30.031894</td>\n",
       "      <td>57.241302</td>\n",
       "      <td>48.259013</td>\n",
       "      <td>29.892714</td>\n",
       "      <td>52.703526</td>\n",
       "      <td>29.965077</td>\n",
       "      <td>0.167100</td>\n",
       "      <td>0.334245</td>\n",
       "      <td>5.543065</td>\n",
       "      <td>56.169775</td>\n",
       "      <td>64.269729</td>\n",
       "      <td>71.769968</td>\n",
       "      <td>0.172276</td>\n",
       "      <td>0</td>\n",
       "    </tr>\n",
       "    <tr>\n",
       "      <th>std</th>\n",
       "      <td>38091.117022</td>\n",
       "      <td>6.892084</td>\n",
       "      <td>2337.015421</td>\n",
       "      <td>2008.604886</td>\n",
       "      <td>0.125689</td>\n",
       "      <td>8.770891</td>\n",
       "      <td>11.305312</td>\n",
       "      <td>0.146384</td>\n",
       "      <td>9.943590</td>\n",
       "      <td>0.130461</td>\n",
       "      <td>0.373066</td>\n",
       "      <td>0.471728</td>\n",
       "      <td>1.982441</td>\n",
       "      <td>6.338875</td>\n",
       "      <td>6.568289</td>\n",
       "      <td>7.627218</td>\n",
       "      <td>0.429005</td>\n",
       "      <td>0</td>\n",
       "    </tr>\n",
       "    <tr>\n",
       "      <th>min</th>\n",
       "      <td>0.000000</td>\n",
       "      <td>0.000000</td>\n",
       "      <td>0.000000</td>\n",
       "      <td>0.000000</td>\n",
       "      <td>29.740000</td>\n",
       "      <td>39.000000</td>\n",
       "      <td>22.000000</td>\n",
       "      <td>29.540000</td>\n",
       "      <td>31.000000</td>\n",
       "      <td>29.640000</td>\n",
       "      <td>0.000000</td>\n",
       "      <td>0.000000</td>\n",
       "      <td>1.000000</td>\n",
       "      <td>46.000000</td>\n",
       "      <td>55.000000</td>\n",
       "      <td>58.000000</td>\n",
       "      <td>0.000000</td>\n",
       "      <td>0</td>\n",
       "    </tr>\n",
       "    <tr>\n",
       "      <th>25%</th>\n",
       "      <td>32987.500000</td>\n",
       "      <td>5.000000</td>\n",
       "      <td>39.000000</td>\n",
       "      <td>32.000000</td>\n",
       "      <td>29.960000</td>\n",
       "      <td>50.000000</td>\n",
       "      <td>38.000000</td>\n",
       "      <td>29.840000</td>\n",
       "      <td>45.000000</td>\n",
       "      <td>29.910000</td>\n",
       "      <td>0.000000</td>\n",
       "      <td>0.000000</td>\n",
       "      <td>5.000000</td>\n",
       "      <td>52.000000</td>\n",
       "      <td>60.000000</td>\n",
       "      <td>65.000000</td>\n",
       "      <td>0.000000</td>\n",
       "      <td>0</td>\n",
       "    </tr>\n",
       "    <tr>\n",
       "      <th>50%</th>\n",
       "      <td>65975.000000</td>\n",
       "      <td>12.000000</td>\n",
       "      <td>279.000000</td>\n",
       "      <td>232.000000</td>\n",
       "      <td>30.030000</td>\n",
       "      <td>57.000000</td>\n",
       "      <td>51.000000</td>\n",
       "      <td>29.910000</td>\n",
       "      <td>54.000000</td>\n",
       "      <td>29.960000</td>\n",
       "      <td>0.000000</td>\n",
       "      <td>0.000000</td>\n",
       "      <td>5.000000</td>\n",
       "      <td>54.000000</td>\n",
       "      <td>63.000000</td>\n",
       "      <td>71.000000</td>\n",
       "      <td>0.000000</td>\n",
       "      <td>0</td>\n",
       "    </tr>\n",
       "    <tr>\n",
       "      <th>75%</th>\n",
       "      <td>98962.500000</td>\n",
       "      <td>17.000000</td>\n",
       "      <td>1109.000000</td>\n",
       "      <td>847.000000</td>\n",
       "      <td>30.100000</td>\n",
       "      <td>64.000000</td>\n",
       "      <td>55.000000</td>\n",
       "      <td>29.970000</td>\n",
       "      <td>60.000000</td>\n",
       "      <td>30.050000</td>\n",
       "      <td>0.000000</td>\n",
       "      <td>1.000000</td>\n",
       "      <td>6.000000</td>\n",
       "      <td>60.000000</td>\n",
       "      <td>68.000000</td>\n",
       "      <td>78.000000</td>\n",
       "      <td>0.100000</td>\n",
       "      <td>0</td>\n",
       "    </tr>\n",
       "    <tr>\n",
       "      <th>max</th>\n",
       "      <td>131950.000000</td>\n",
       "      <td>23.000000</td>\n",
       "      <td>51839.000000</td>\n",
       "      <td>45249.000000</td>\n",
       "      <td>30.310000</td>\n",
       "      <td>70.000000</td>\n",
       "      <td>66.000000</td>\n",
       "      <td>30.230000</td>\n",
       "      <td>68.000000</td>\n",
       "      <td>30.270000</td>\n",
       "      <td>1.000000</td>\n",
       "      <td>1.000000</td>\n",
       "      <td>12.000000</td>\n",
       "      <td>70.000000</td>\n",
       "      <td>78.000000</td>\n",
       "      <td>86.000000</td>\n",
       "      <td>2.180000</td>\n",
       "      <td>0</td>\n",
       "    </tr>\n",
       "  </tbody>\n",
       "</table>\n",
       "</div>"
      ],
      "text/plain": [
       "          Unnamed: 0           Hour  ENTRIESn_hourly  EXITSn_hourly  \\\n",
       "count  131951.000000  131951.000000    131951.000000  131951.000000   \n",
       "mean    65975.000000      10.896158      1095.348478     886.890838   \n",
       "std     38091.117022       6.892084      2337.015421    2008.604886   \n",
       "min         0.000000       0.000000         0.000000       0.000000   \n",
       "25%     32987.500000       5.000000        39.000000      32.000000   \n",
       "50%     65975.000000      12.000000       279.000000     232.000000   \n",
       "75%     98962.500000      17.000000      1109.000000     847.000000   \n",
       "max    131950.000000      23.000000     51839.000000   45249.000000   \n",
       "\n",
       "        maxpressurei      maxdewpti      mindewpti   minpressurei  \\\n",
       "count  131951.000000  131951.000000  131951.000000  131951.000000   \n",
       "mean       30.031894      57.241302      48.259013      29.892714   \n",
       "std         0.125689       8.770891      11.305312       0.146384   \n",
       "min        29.740000      39.000000      22.000000      29.540000   \n",
       "25%        29.960000      50.000000      38.000000      29.840000   \n",
       "50%        30.030000      57.000000      51.000000      29.910000   \n",
       "75%        30.100000      64.000000      55.000000      29.970000   \n",
       "max        30.310000      70.000000      66.000000      30.230000   \n",
       "\n",
       "          meandewpti  meanpressurei            fog           rain  \\\n",
       "count  131951.000000  131951.000000  131951.000000  131951.000000   \n",
       "mean       52.703526      29.965077       0.167100       0.334245   \n",
       "std         9.943590       0.130461       0.373066       0.471728   \n",
       "min        31.000000      29.640000       0.000000       0.000000   \n",
       "25%        45.000000      29.910000       0.000000       0.000000   \n",
       "50%        54.000000      29.960000       0.000000       0.000000   \n",
       "75%        60.000000      30.050000       0.000000       1.000000   \n",
       "max        68.000000      30.270000       1.000000       1.000000   \n",
       "\n",
       "        meanwindspdi       mintempi      meantempi       maxtempi  \\\n",
       "count  131951.000000  131951.000000  131951.000000  131951.000000   \n",
       "mean        5.543065      56.169775      64.269729      71.769968   \n",
       "std         1.982441       6.338875       6.568289       7.627218   \n",
       "min         1.000000      46.000000      55.000000      58.000000   \n",
       "25%         5.000000      52.000000      60.000000      65.000000   \n",
       "50%         5.000000      54.000000      63.000000      71.000000   \n",
       "75%         6.000000      60.000000      68.000000      78.000000   \n",
       "max        12.000000      70.000000      78.000000      86.000000   \n",
       "\n",
       "             precipi  thunder  \n",
       "count  131951.000000   131951  \n",
       "mean        0.172276        0  \n",
       "std         0.429005        0  \n",
       "min         0.000000        0  \n",
       "25%         0.000000        0  \n",
       "50%         0.000000        0  \n",
       "75%         0.100000        0  \n",
       "max         2.180000        0  "
      ]
     },
     "execution_count": 3,
     "metadata": {},
     "output_type": "execute_result"
    }
   ],
   "source": [
    "import pandas as pd\n",
    "#Read the data as Dataframe\n",
    "turnstile_weather = pd.read_csv(\"turnstile_data_master_with_weather (1).csv\")\n",
    "\n",
    "#Number of variables\n",
    "print 'Total variables:', len(list(turnstile_weather.columns.values))\n",
    "\n",
    "#list of variables\n",
    "print 'List of variables: ', list(turnstile_weather.columns.values)\n",
    "\n",
    "#Statistics summary of the data\n",
    "print 'Statistics summary'\n",
    "turnstile_weather.describe()"
   ]
  },
  {
   "cell_type": "markdown",
   "metadata": {},
   "source": [
    "After having a quick glance at the data, I have some observations:\n",
    "\n",
    "1. The data was colected from May 01 to May 30, 2011. So, the weather was started to increase but in pretty comfortable range from 50-75F. There was a Memorial Day on Monday May 30, 2011.\n",
    "\n",
    "2. The mean and standard deviation of ridership per hour were 1095 and 2337, respectively. However the maximum data is 51839. There must be some extreme factors. \n",
    "\n",
    "From the above observations, I have some questions:\n",
    "\n",
    "2. How many people travel with NYC subway systems at different conditions?\n",
    "\n",
    "2. What are the conditions? Are they the weather, the time, the day, the location, etc?\n",
    "\n",
    "3. How I can build a model to predict how many people will ride the NYC subway at the known conditions?"
   ]
  },
  {
   "cell_type": "markdown",
   "metadata": {},
   "source": [
    "###Methodology"
   ]
  },
  {
   "cell_type": "markdown",
   "metadata": {},
   "source": [
    "In order to answer my questions, I used the following methods:\n",
    "\n",
    "1. Descriptive statistics to get information about the data.\n",
    "2. Mann Whitney U Test to analyze the non-normal distributed data.\n",
    "3. Data visualization to understand the pattern and relationship of variables.\n",
    "4. Linear Regression with Scikit Learn Gradient descent using Scikit Learn.\n",
    "5. Python as programing language."
   ]
  },
  {
   "cell_type": "markdown",
   "metadata": {},
   "source": [
    "###Section 0. References"
   ]
  },
  {
   "cell_type": "markdown",
   "metadata": {},
   "source": [
    "1. http://docs.scipy.org/doc/scipy/reference/generated/scipy.stats.mannwhitneyu.html\n",
    "\n",
    "2. https://www.udacity.com/course/intro-to-data-science--ud359\n",
    "\n",
    "3. Statistical Modeling: The Two Cultures (with comments and a rejoinder by the author) http://projecteuclid.org/euclid.ss/1009213726\n",
    "\n",
    "4. https://discussions.udacity.com/c/nd002-p2-intro-to-data-science\n",
    "\n",
    "5. https://weatherspark.com/averages/30722/5/New-York-United-States\n"
   ]
  },
  {
   "cell_type": "markdown",
   "metadata": {},
   "source": [
    "###Section 1. Statistical Test"
   ]
  },
  {
   "cell_type": "markdown",
   "metadata": {},
   "source": [
    "####1.1 Which statistical test did you use to analyze the NYC subway data? Did you use a one-tail or a two-tail P value? What is the null hypothesis? What is your p-critical value?"
   ]
  },
  {
   "cell_type": "markdown",
   "metadata": {},
   "source": [
    "\n",
    "I used two- tail Mann-Whitney U test to analyze the NYC subway data with the following hypotheses:\n",
    "\n",
    "Null hypothesis Ho: The distribution of the number of entries is the same for rainny and non-rainy days \n",
    "\n",
    "Alternative hypothesis Ha: The distribution of the number of entries is statistically different for rainny and non-rainy days.\n",
    "\n",
    "p-critical value was 0.05\n"
   ]
  },
  {
   "cell_type": "markdown",
   "metadata": {},
   "source": [
    "####1.2 Why is this statistical test applicable to the dataset? In particular, consider the assumptions that the test is making about the distribution of ridership in the two samples."
   ]
  },
  {
   "cell_type": "markdown",
   "metadata": {},
   "source": [
    "Before performing a statistical test, it is useful to take a look at the data and determine what distribution the data follows. Specifically, the hourly entries in the NYC subway data.\n",
    "\n",
    "Weather has a significant impact on what kinds of transportation you want to go. Rain was one of the most important weather factor. Therefore, I wanted to know the difference in ridership of the NYC subway on the days with rain and without rain. \n"
   ]
  },
  {
   "cell_type": "code",
   "execution_count": 4,
   "metadata": {
    "collapsed": false
   },
   "outputs": [
    {
     "data": {
      "text/plain": [
       "count    44104.000000\n",
       "mean      1105.446377\n",
       "std       2370.527674\n",
       "min          0.000000\n",
       "25%         41.000000\n",
       "50%        282.000000\n",
       "75%       1103.250000\n",
       "max      51839.000000\n",
       "Name: ENTRIESn_hourly, dtype: float64"
      ]
     },
     "execution_count": 4,
     "metadata": {},
     "output_type": "execute_result"
    }
   ],
   "source": [
    "#Summary of ridership on rainy days\n",
    "turnstile_weather[turnstile_weather[\"rain\"] ==1]['ENTRIESn_hourly'].describe()"
   ]
  },
  {
   "cell_type": "code",
   "execution_count": 5,
   "metadata": {
    "collapsed": false
   },
   "outputs": [
    {
     "data": {
      "text/plain": [
       "count    87847.000000\n",
       "mean      1090.278780\n",
       "std       2320.004938\n",
       "min          0.000000\n",
       "25%         38.000000\n",
       "50%        278.000000\n",
       "75%       1111.000000\n",
       "max      43199.000000\n",
       "Name: ENTRIESn_hourly, dtype: float64"
      ]
     },
     "execution_count": 5,
     "metadata": {},
     "output_type": "execute_result"
    }
   ],
   "source": [
    "#Summary of ridership on no rainy days\n",
    "turnstile_weather[turnstile_weather[\"rain\"] ==0]['ENTRIESn_hourly'].describe()"
   ]
  },
  {
   "cell_type": "markdown",
   "metadata": {},
   "source": [
    "From the above statistic, we could see that both data had similar means and standard deviations."
   ]
  },
  {
   "cell_type": "markdown",
   "metadata": {},
   "source": [
    "##### Distribution of NYC subway ridership on the days with rain and without rain"
   ]
  },
  {
   "cell_type": "markdown",
   "metadata": {},
   "source": [
    "####Distribution of ridership"
   ]
  },
  {
   "cell_type": "code",
   "execution_count": 33,
   "metadata": {
    "collapsed": false
   },
   "outputs": [
    {
     "data": {
      "text/plain": [
       "(0, 15000)"
      ]
     },
     "execution_count": 33,
     "metadata": {},
     "output_type": "execute_result"
    },
    {
     "data": {
      "image/png": "[encoded data removed]",
      "text/plain": [
       "<matplotlib.figure.Figure at 0x112195050>"
      ]
     },
     "metadata": {},
     "output_type": "display_data"
    }
   ],
   "source": [
    "\n",
    "turnstile_weather['ENTRIESn_hourly'].hist(bins = 60)\n",
    "plt.title('Distribution of Ridership')\n",
    "plt.xlabel('Entries per hour')\n",
    "plt.xlim(0,15000)"
   ]
  },
  {
   "cell_type": "code",
   "execution_count": 6,
   "metadata": {
    "collapsed": false
   },
   "outputs": [
    {
     "data": {
      "text/plain": [
       "(0, 60000)"
      ]
     },
     "execution_count": 6,
     "metadata": {},
     "output_type": "execute_result"
    },
    {
     "data": {
      "image/png": "[encoded data removed]",
      "text/plain": [
       "<matplotlib.figure.Figure at 0x10a6da690>"
      ]
     },
     "metadata": {},
     "output_type": "display_data"
    }
   ],
   "source": [
    "%matplotlib inline\n",
    "import matplotlib.pyplot as plt\n",
    "\n",
    "# Rain\n",
    "turnstile_weather[turnstile_weather[\"rain\"] ==1]['ENTRIESn_hourly'].hist(bins = 60)\n",
    "plt.title('Ridership on days with rain')\n",
    "plt.xlabel('Entries per hour')\n",
    "plt.xlim(0,15000)\n",
    "plt.ylim(0, 60000)"
   ]
  },
  {
   "cell_type": "code",
   "execution_count": 7,
   "metadata": {
    "collapsed": false
   },
   "outputs": [
    {
     "data": {
      "text/plain": [
       "(0, 15000)"
      ]
     },
     "execution_count": 7,
     "metadata": {},
     "output_type": "execute_result"
    },
    {
     "data": {
      "image/png": "[encoded data removed]",
      "text/plain": [
       "<matplotlib.figure.Figure at 0x10a0b9890>"
      ]
     },
     "metadata": {},
     "output_type": "display_data"
    }
   ],
   "source": [
    "# No rain\n",
    "turnstile_weather[turnstile_weather[\"rain\"] ==0]['ENTRIESn_hourly'].hist(color = \"yellow\", bins = 60)\n",
    "plt.title('Ridership on days with no rain')\n",
    "plt.xlabel('Entries per hour')\n",
    "plt.xlim(0,15000)"
   ]
  },
  {
   "cell_type": "markdown",
   "metadata": {},
   "source": [
    "Both of the data have similar shapes and were not normally distributed."
   ]
  },
  {
   "cell_type": "markdown",
   "metadata": {},
   "source": [
    "The statistically summary and distribution results showed that both data had similar means and standard deviations and were not normally distributed. Therefore, T-test was not an option. Since we had two groups of data and numbers of the data were more than 20, we could use Mann Whitney U-test to compare their distributions. We used two-tail test since we did not have any data supporting which group had larger mean."
   ]
  },
  {
   "cell_type": "markdown",
   "metadata": {},
   "source": [
    "####1.3 What results did you get from this statistical test? These should include the following numerical values: p-values, as well as the means for each of the two samples under test."
   ]
  },
  {
   "cell_type": "markdown",
   "metadata": {},
   "source": [
    "#####Mann Whitney U-test"
   ]
  },
  {
   "cell_type": "code",
   "execution_count": 8,
   "metadata": {
    "collapsed": true
   },
   "outputs": [],
   "source": [
    "import numpy as np\n",
    "import scipy\n",
    "import scipy.stats\n",
    "import pandas\n",
    "\n",
    "# Consume turnstile_weather dataframe\n",
    "# Return mean of entries with rain, mean of enteries without rain\n",
    "# Return Mann_Whitney U-statistic and p value \n",
    "\n",
    "def mann_whitney_plus_means(turnstile_weather):\n",
    "    with_rain_mean = turnstile_weather[turnstile_weather[\"rain\"] ==1]['ENTRIESn_hourly'].mean()\n",
    "    without_rain_mean = turnstile_weather[turnstile_weather[\"rain\"] ==0]['ENTRIESn_hourly'].mean()\n",
    "    U,p = scipy.stats.mannwhitneyu(turnstile_weather[turnstile_weather[\"rain\"] ==1]['ENTRIESn_hourly'], turnstile_weather[turnstile_weather[\"rain\"] ==0]['ENTRIESn_hourly'])\n",
    "    print 'P value =', p*2 # the mannwhitenyu returned one-tail p value\n",
    "    print 'Mean on rainy days =', with_rain_mean\n",
    "    print 'Mean on nonrainy days=', without_rain_mean\n",
    "    return with_rain_mean, without_rain_mean, U, p"
   ]
  },
  {
   "cell_type": "code",
   "execution_count": 9,
   "metadata": {
    "collapsed": false
   },
   "outputs": [
    {
     "name": "stdout",
     "output_type": "stream",
     "text": [
      "P value = 0.049999825587\n",
      "Mean on rainy days = 1105.44637675\n",
      "Mean on nonrainy days= 1090.27878015\n"
     ]
    },
    {
     "data": {
      "text/plain": [
       "(1105.4463767458733, 1090.278780151855, 1924409167.0, 0.024999912793489721)"
      ]
     },
     "execution_count": 9,
     "metadata": {},
     "output_type": "execute_result"
    }
   ],
   "source": [
    "mann_whitney_plus_means(turnstile_weather)"
   ]
  },
  {
   "cell_type": "markdown",
   "metadata": {},
   "source": [
    "####1.4 What is the significance and interpretation of these results?"
   ]
  },
  {
   "cell_type": "markdown",
   "metadata": {},
   "source": [
    "P value of 0.049 was less than p-critical value of 0.05. Therefore, we could reject the null hypothesis and conclude that the distribution of the number of entries is statistically different for rainny and non-rainy days.\n"
   ]
  },
  {
   "cell_type": "markdown",
   "metadata": {},
   "source": [
    "###Section 2 and 3. Visualization and Linear Regression"
   ]
  },
  {
   "cell_type": "markdown",
   "metadata": {},
   "source": [
    "#### 2.1 What approach did you use to compute the coefficients theta and produce prediction for ENTRIESn_hourly in your regression model:\n",
    "OLS using Statsmodels or Scikit Learn\n",
    "Gradient descent using Scikit Learn\n",
    "Or something different?\n"
   ]
  },
  {
   "cell_type": "markdown",
   "metadata": {},
   "source": [
    "I used both OLS using Statsmodels and Scikit Learn Gradient descent using Sciket Learn for the problem set 2-4. I found that OLS run really slow because of the large dimension of the dataset. Therefore, I used only gradient descent for the project."
   ]
  },
  {
   "cell_type": "markdown",
   "metadata": {},
   "source": [
    "#### Visualization"
   ]
  },
  {
   "cell_type": "markdown",
   "metadata": {},
   "source": [
    "Before choosing the input variables, it is useful to look at the pattern of the data. \n",
    "\n",
    "Beside rain which was investigated in section 1, time and date might has impacts on what how people would like to transport. Let's explore how the factors effected on the ridership.\n"
   ]
  },
  {
   "cell_type": "markdown",
   "metadata": {},
   "source": [
    "#####UNIT"
   ]
  },
  {
   "cell_type": "code",
   "execution_count": 10,
   "metadata": {
    "collapsed": false
   },
   "outputs": [
    {
     "data": {
      "text/plain": [
       "<matplotlib.text.Text at 0x10a962610>"
      ]
     },
     "execution_count": 10,
     "metadata": {},
     "output_type": "execute_result"
    },
    {
     "data": {
      "image/png": "[encoded data removed]",
      "text/plain": [
       "<matplotlib.figure.Figure at 0x10ab750d0>"
      ]
     },
     "metadata": {},
     "output_type": "display_data"
    }
   ],
   "source": [
    "turnstile_weather.groupby(['UNIT'])['ENTRIESn_hourly'].mean().plot(color = \"black\")\n",
    "plt.yscale('log', nonposy='clip')\n",
    "plt.title('Average ridership by UNIT')\n",
    "plt.xlabel('UNIT')\n",
    "plt.ylabel('Entries per hour')"
   ]
  },
  {
   "cell_type": "markdown",
   "metadata": {},
   "source": [
    "We could see from the plot that the average ridership was varied with log scale by UNIT. It suggested that the location of the station (UNIT) has impacted on ridership."
   ]
  },
  {
   "cell_type": "markdown",
   "metadata": {},
   "source": [
    "####Time of day"
   ]
  },
  {
   "cell_type": "code",
   "execution_count": 11,
   "metadata": {
    "collapsed": false
   },
   "outputs": [
    {
     "data": {
      "text/plain": [
       "<matplotlib.text.Text at 0x10c6467d0>"
      ]
     },
     "execution_count": 11,
     "metadata": {},
     "output_type": "execute_result"
    },
    {
     "data": {
      "image/png": "[encoded data removed]",
      "text/plain": [
       "<matplotlib.figure.Figure at 0x10a0b9290>"
      ]
     },
     "metadata": {},
     "output_type": "display_data"
    }
   ],
   "source": [
    "\n",
    "turnstile_weather[turnstile_weather.rain == 0].groupby([\"Hour\"])[\"ENTRIESn_hourly\"].mean().plot(kind = 'bar')\n",
    "plt.title('Average ridership by time in no rainy days')\n",
    "plt.xlabel('Time of day')\n",
    "plt.ylabel('Entries per hour')"
   ]
  },
  {
   "cell_type": "code",
   "execution_count": 12,
   "metadata": {
    "collapsed": false
   },
   "outputs": [
    {
     "data": {
      "text/plain": [
       "<matplotlib.text.Text at 0x10f79a290>"
      ]
     },
     "execution_count": 12,
     "metadata": {},
     "output_type": "execute_result"
    },
    {
     "data": {
      "image/png": "[encoded data removed]",
      "text/plain": [
       "<matplotlib.figure.Figure at 0x10a0b94d0>"
      ]
     },
     "metadata": {},
     "output_type": "display_data"
    }
   ],
   "source": [
    "turnstile_weather[turnstile_weather.rain == 1].groupby([\"Hour\"])[\"ENTRIESn_hourly\"].mean().plot(kind = 'bar')\n",
    "plt.title('Average ridership by time in rainy days')\n",
    "plt.xlabel('Time of day')\n",
    "plt.ylabel('Entries per hour')"
   ]
  },
  {
   "cell_type": "markdown",
   "metadata": {},
   "source": [
    "We could see that number of ridership changed with different times of day. They had the same patterns for both rainy and no rainy days. The most busiest hours were 8-9am, noon to 1pm, 4-5pm, 7-8pm and midnight. It was expected that 8-9am and 4-5pm were the commute time for working people. However it was interesting that noon time, late evening and midnight were also busy. It could be New York is a lively city with many activities at lunch or late night."
   ]
  },
  {
   "cell_type": "markdown",
   "metadata": {},
   "source": [
    "####Day of week"
   ]
  },
  {
   "cell_type": "code",
   "execution_count": 13,
   "metadata": {
    "collapsed": false
   },
   "outputs": [],
   "source": [
    "# Add day of the week DAY variable to the dataframe\n",
    "import datetime as dt\n",
    "turnstile_weather['DAY'] = pandas.Series(turnstile_weather['DATEn'].map(lambda x: dt.datetime.strptime(x, '%Y-%m-%d').weekday()), index=turnstile_weather.index)\n",
    "turnstile_weather.is_copy = False"
   ]
  },
  {
   "cell_type": "code",
   "execution_count": 14,
   "metadata": {
    "collapsed": false
   },
   "outputs": [
    {
     "data": {
      "text/plain": [
       "<matplotlib.text.Text at 0x10fd0e490>"
      ]
     },
     "execution_count": 14,
     "metadata": {},
     "output_type": "execute_result"
    },
    {
     "data": {
      "image/png": "[encoded data removed]",
      "text/plain": [
       "<matplotlib.figure.Figure at 0x1036a6e10>"
      ]
     },
     "metadata": {},
     "output_type": "display_data"
    }
   ],
   "source": [
    "turnstile_weather.groupby(['DAY'])['ENTRIESn_hourly'].mean().plot(kind = 'bar',color = \"yellow\")\n",
    "plt.title('Average ridership by day-of-week')\n",
    "plt.xlabel('Day of week')\n",
    "plt.ylabel('Entries per hour')"
   ]
  },
  {
   "cell_type": "code",
   "execution_count": 15,
   "metadata": {
    "collapsed": false
   },
   "outputs": [],
   "source": [
    "# Add day of the week DAY name variable to the dataframe\n",
    "import datetime as dt\n",
    "turnstile_weather['Day_of_week'] = pandas.Series(turnstile_weather['DATEn'].map(lambda x: dt.datetime.strptime(x, '%Y-%m-%d').strftime('%a')), index=turnstile_weather.index)\n",
    "turnstile_weather.is_copy = False"
   ]
  },
  {
   "cell_type": "code",
   "execution_count": 16,
   "metadata": {
    "collapsed": false
   },
   "outputs": [
    {
     "data": {
      "text/plain": [
       "<matplotlib.text.Text at 0x10c3f6ed0>"
      ]
     },
     "execution_count": 16,
     "metadata": {},
     "output_type": "execute_result"
    },
    {
     "data": {
      "image/png": "[encoded data removed]",
      "text/plain": [
       "<matplotlib.figure.Figure at 0x10a915e10>"
      ]
     },
     "metadata": {},
     "output_type": "display_data"
    }
   ],
   "source": [
    "# ridership by day-of-week\n",
    "\n",
    "turnstile_weather.groupby(['Day_of_week'])['ENTRIESn_hourly'].mean().plot(kind = 'bar',color = \"yellow\")\n",
    "plt.title('Average ridership by day-of-week')\n",
    "plt.xlabel('Day of week')\n",
    "plt.ylabel('Entries per hour')"
   ]
  },
  {
   "cell_type": "code",
   "execution_count": 17,
   "metadata": {
    "collapsed": false
   },
   "outputs": [
    {
     "data": {
      "text/plain": [
       "Day_of_week\n",
       "Fri    1333.800773\n",
       "Mon    1084.888769\n",
       "Sat     809.925317\n",
       "Sun     604.620120\n",
       "Thu    1305.176382\n",
       "Tue    1307.073259\n",
       "Wed    1335.901803\n",
       "Name: ENTRIESn_hourly, dtype: float64"
      ]
     },
     "execution_count": 17,
     "metadata": {},
     "output_type": "execute_result"
    }
   ],
   "source": [
    "turnstile_weather.groupby(['Day_of_week'])['ENTRIESn_hourly'].mean()"
   ]
  },
  {
   "cell_type": "markdown",
   "metadata": {},
   "source": [
    "As expected the most busiest day during weekday with average entries per hour were around 1100 to 1300. It was less busier were on weekend. "
   ]
  },
  {
   "cell_type": "markdown",
   "metadata": {},
   "source": [
    "####Fog"
   ]
  },
  {
   "cell_type": "code",
   "execution_count": 22,
   "metadata": {
    "collapsed": false
   },
   "outputs": [
    {
     "data": {
      "text/plain": [
       "<matplotlib.text.Text at 0x110feb610>"
      ]
     },
     "execution_count": 22,
     "metadata": {},
     "output_type": "execute_result"
    },
    {
     "data": {
      "image/png": "[encoded data removed]",
      "text/plain": [
       "<matplotlib.figure.Figure at 0x110babd50>"
      ]
     },
     "metadata": {},
     "output_type": "display_data"
    }
   ],
   "source": [
    "#fog\n",
    "turnstile_weather.groupby(['fog'])['ENTRIESn_hourly'].mean().plot(kind = 'bar', color = \"yellow\")\n",
    "plt.title('Average Ridership by fog')\n",
    "plt.xlabel('fog')\n",
    "plt.ylabel('Entries per hour')"
   ]
  },
  {
   "cell_type": "markdown",
   "metadata": {},
   "source": [
    "Fog had impact on the ridership since we could notice the average entries per hour on  on the foggy days was higher than non foggy days. "
   ]
  },
  {
   "cell_type": "markdown",
   "metadata": {},
   "source": [
    "#### Precipitation"
   ]
  },
  {
   "cell_type": "code",
   "execution_count": 57,
   "metadata": {
    "collapsed": false
   },
   "outputs": [
    {
     "data": {
      "text/plain": [
       "<matplotlib.axes._subplots.AxesSubplot at 0x12abe0850>"
      ]
     },
     "execution_count": 57,
     "metadata": {},
     "output_type": "execute_result"
    },
    {
     "data": {
      "image/png": "[encoded data removed]",
      "text/plain": [
       "<matplotlib.figure.Figure at 0x12aa91f90>"
      ]
     },
     "metadata": {},
     "output_type": "display_data"
    }
   ],
   "source": [
    "turnstile_weather['precipi'].hist(bins = 20)"
   ]
  },
  {
   "cell_type": "markdown",
   "metadata": {},
   "source": [
    "The distribution of the data showed that most of precipitation were less than 0.1 which means very light to no rain (http://usatoday30.usatoday.com/weather/wds8.htm). "
   ]
  },
  {
   "cell_type": "code",
   "execution_count": 82,
   "metadata": {
    "collapsed": false
   },
   "outputs": [
    {
     "data": {
      "text/plain": [
       "(400, 1400)"
      ]
     },
     "execution_count": 82,
     "metadata": {},
     "output_type": "execute_result"
    },
    {
     "data": {
      "image/png": "[encoded data removed]",
      "text/plain": [
       "<matplotlib.figure.Figure at 0x12a17b690>"
      ]
     },
     "metadata": {},
     "output_type": "display_data"
    }
   ],
   "source": [
    "#precipitation\n",
    "turnstile_weather.groupby(['precipi'])['ENTRIESn_hourly'].mean().plot(kind = 'bar', color = \"yellow\")\n",
    "plt.title('Average Ridership by Precipitation')\n",
    "plt.xlabel('precipi')\n",
    "plt.ylabel('Entries per hour')\n",
    "plt.ylim(400,1400)"
   ]
  },
  {
   "cell_type": "markdown",
   "metadata": {},
   "source": [
    "Precipitation did not have a clear impact on the ridership. It looked like the as rain heavier than 0.17 there more people riding the subway except on days with precipitation of 0.29 and 0.89. Let us explore why."
   ]
  },
  {
   "cell_type": "code",
   "execution_count": 77,
   "metadata": {
    "collapsed": false
   },
   "outputs": [
    {
     "data": {
      "text/plain": [
       "count    4350\n",
       "mean        0\n",
       "std         0\n",
       "min         0\n",
       "25%         0\n",
       "50%         0\n",
       "75%         0\n",
       "max         0\n",
       "Name: DAY, dtype: float64"
      ]
     },
     "execution_count": 77,
     "metadata": {},
     "output_type": "execute_result"
    }
   ],
   "source": [
    "# day with 0.29 precipi\n",
    "turnstile_weather[turnstile_weather['precipi'] == 0.29].DAY.describe()"
   ]
  },
  {
   "cell_type": "code",
   "execution_count": 78,
   "metadata": {
    "collapsed": false
   },
   "outputs": [
    {
     "data": {
      "text/plain": [
       "127601    2011-05-30\n",
       "Name: DATEn, dtype: object"
      ]
     },
     "execution_count": 78,
     "metadata": {},
     "output_type": "execute_result"
    }
   ],
   "source": [
    "turnstile_weather[turnstile_weather['precipi'] == 0.29].DATEn.head(1)"
   ]
  },
  {
   "cell_type": "markdown",
   "metadata": {},
   "source": [
    "The day that had precipitation of 0.29 (heavy rain) was May 30, 2011. It was Memorial Day. Therefore, it could be explained that there was less ridership on that day even though it rained heavy."
   ]
  },
  {
   "cell_type": "code",
   "execution_count": 79,
   "metadata": {
    "collapsed": false
   },
   "outputs": [
    {
     "data": {
      "text/plain": [
       "count    4333\n",
       "mean        6\n",
       "std         0\n",
       "min         6\n",
       "25%         6\n",
       "50%         6\n",
       "75%         6\n",
       "max         6\n",
       "Name: DAY, dtype: float64"
      ]
     },
     "execution_count": 79,
     "metadata": {},
     "output_type": "execute_result"
    }
   ],
   "source": [
    "# day with 0.29 precipi\n",
    "turnstile_weather[turnstile_weather['precipi'] == 0.89].DAY.describe()"
   ]
  },
  {
   "cell_type": "code",
   "execution_count": 80,
   "metadata": {
    "collapsed": false
   },
   "outputs": [
    {
     "data": {
      "text/plain": [
       "61640    2011-05-15\n",
       "Name: DATEn, dtype: object"
      ]
     },
     "execution_count": 80,
     "metadata": {},
     "output_type": "execute_result"
    }
   ],
   "source": [
    "turnstile_weather[turnstile_weather['precipi'] == 0.89].DATEn.head(1)"
   ]
  },
  {
   "cell_type": "markdown",
   "metadata": {},
   "source": [
    "The day that had precipitation of 0.89 was  May 15 which also was a Sunday. Therefore, it could be explained that there was less ridership on that day even though it rained very heavy."
   ]
  },
  {
   "cell_type": "markdown",
   "metadata": {},
   "source": [
    "From all above exploration about precipitation data, we could conclude that precipitation did impact on ridership except on holidays or weekends."
   ]
  },
  {
   "cell_type": "code",
   "execution_count": 83,
   "metadata": {
    "collapsed": false
   },
   "outputs": [
    {
     "data": {
      "text/plain": [
       "<matplotlib.text.Text at 0x12a7629d0>"
      ]
     },
     "execution_count": 83,
     "metadata": {},
     "output_type": "execute_result"
    },
    {
     "data": {
      "image/png": "[encoded data removed]",
      "text/plain": [
       "<matplotlib.figure.Figure at 0x12a174bd0>"
      ]
     },
     "metadata": {},
     "output_type": "display_data"
    }
   ],
   "source": [
    "#maxtempi\n",
    "turnstile_weather[['maxtempi','ENTRIESn_hourly']].groupby(['maxtempi'])['ENTRIESn_hourly'].mean().plot(kind = 'bar', color = \"black\")\n",
    "plt.title('Average ridership by max temperature')\n",
    "plt.xlabel('Max temperature')\n",
    "plt.ylabel('Entries per hour')"
   ]
  },
  {
   "cell_type": "markdown",
   "metadata": {
    "collapsed": true
   },
   "source": [
    "The temperature ranged from 58 to 86F while the average ridership changed from around 600 to 1300 toentries per hour. Above 80F may be a bit hot but it seems like the temparature did have clear affect on the ridership. Let us explore why"
   ]
  },
  {
   "cell_type": "code",
   "execution_count": 95,
   "metadata": {
    "collapsed": false
   },
   "outputs": [
    {
     "data": {
      "text/plain": [
       "count           4346\n",
       "unique             1\n",
       "top       2011-05-29\n",
       "freq            4346\n",
       "Name: DATEn, dtype: object"
      ]
     },
     "execution_count": 95,
     "metadata": {},
     "output_type": "execute_result"
    }
   ],
   "source": [
    "#days with 82F\n",
    "turnstile_weather[turnstile_weather['maxtempi']==82].DATEn.describe()"
   ]
  },
  {
   "cell_type": "code",
   "execution_count": 97,
   "metadata": {
    "collapsed": false
   },
   "outputs": [
    {
     "data": {
      "text/plain": [
       "count           4350\n",
       "unique             1\n",
       "top       2011-05-30\n",
       "freq            4350\n",
       "Name: DATEn, dtype: object"
      ]
     },
     "execution_count": 97,
     "metadata": {},
     "output_type": "execute_result"
    }
   ],
   "source": [
    "# days with 86F\n",
    "turnstile_weather[turnstile_weather['maxtempi']==86].DATEn.describe()"
   ]
  },
  {
   "cell_type": "markdown",
   "metadata": {},
   "source": [
    "Both days with high temperature but less ridership were on Memorial holiday weekend (May 29 and May 30). "
   ]
  },
  {
   "cell_type": "markdown",
   "metadata": {},
   "source": [
    "#### Mean dew point"
   ]
  },
  {
   "cell_type": "code",
   "execution_count": 20,
   "metadata": {
    "collapsed": false
   },
   "outputs": [
    {
     "data": {
      "text/plain": [
       "<matplotlib.text.Text at 0x109564e10>"
      ]
     },
     "execution_count": 20,
     "metadata": {},
     "output_type": "execute_result"
    },
    {
     "data": {
      "image/png": "[encoded data removed]",
      "text/plain": [
       "<matplotlib.figure.Figure at 0x10b8174d0>"
      ]
     },
     "metadata": {},
     "output_type": "display_data"
    }
   ],
   "source": [
    "#meandewpti\n",
    "turnstile_weather[['meandewpti','ENTRIESn_hourly']].groupby(['meandewpti'])['ENTRIESn_hourly'].mean().plot(kind = 'bar',color = \"yellow\")\n",
    "plt.title('Average ridership by meandewpti')\n",
    "plt.xlabel('meandewpti')\n",
    "plt.ylabel('Entries per hour')"
   ]
  },
  {
   "cell_type": "markdown",
   "metadata": {},
   "source": [
    "The mean dew point which indicates the amount of the moisture in the air had no relationship with the average ridership."
   ]
  },
  {
   "cell_type": "markdown",
   "metadata": {},
   "source": [
    "#### Mean wind speed."
   ]
  },
  {
   "cell_type": "code",
   "execution_count": 99,
   "metadata": {
    "collapsed": false
   },
   "outputs": [
    {
     "data": {
      "text/plain": [
       "<matplotlib.text.Text at 0x12a1fea90>"
      ]
     },
     "execution_count": 99,
     "metadata": {},
     "output_type": "execute_result"
    },
    {
     "data": {
      "image/png": "[encoded data removed]",
      "text/plain": [
       "<matplotlib.figure.Figure at 0x129c49290>"
      ]
     },
     "metadata": {},
     "output_type": "display_data"
    }
   ],
   "source": [
    "#meanwindspdi\n",
    "turnstile_weather.groupby(['meanwindspdi'])['ENTRIESn_hourly'].mean().plot(kind = 'bar', color = \"yellow\")\n",
    "plt.title('Average Ridership by meanwindspdi')\n",
    "plt.xlabel('meanwindspdi')\n",
    "plt.ylabel('Entries per hour')"
   ]
  },
  {
   "cell_type": "markdown",
   "metadata": {},
   "source": [
    "#### Mean pressure"
   ]
  },
  {
   "cell_type": "code",
   "execution_count": 104,
   "metadata": {
    "collapsed": false
   },
   "outputs": [
    {
     "data": {
      "text/plain": [
       "<matplotlib.text.Text at 0x116f06990>"
      ]
     },
     "execution_count": 104,
     "metadata": {},
     "output_type": "execute_result"
    },
    {
     "data": {
      "image/png": "[encoded data removed]",
      "text/plain": [
       "<matplotlib.figure.Figure at 0x12a7d06d0>"
      ]
     },
     "metadata": {},
     "output_type": "display_data"
    }
   ],
   "source": [
    "#meanpressurei\n",
    "turnstile_weather.groupby(['meanpressurei'])['ENTRIESn_hourly'].mean().plot(kind = 'bar', color = \"yellow\")\n",
    "plt.title('Average Ridership by meanpressurei')\n",
    "plt.xlabel('meanpressurei')\n",
    "plt.ylabel('Entries per hour')"
   ]
  },
  {
   "cell_type": "markdown",
   "metadata": {},
   "source": [
    "There was no relationship between mean pressure and average ridership."
   ]
  },
  {
   "cell_type": "markdown",
   "metadata": {},
   "source": [
    "####2.2 What features (input variables) did you use in your model? Did you use any dummy variables as part of your features?"
   ]
  },
  {
   "cell_type": "markdown",
   "metadata": {},
   "source": [
    "After exploring the variables, I used 'rain', 'precipi', 'fog' and 'maxtempi' variables as my input because those variables affected on ridership. To avoid the multicollinearity, I run my model with add a variable at one time to see if they are highly linearly related.\n",
    "\n",
    "The 'UNIT', 'Hour' and 'day_of_week' were important variable but 'UNIT' was a caterogies data and 'day_of_week' and 'Hour' are scaling data. Therefore, I used them as dummy variables as part of my features. \n",
    "\n",
    "There was a holiday on the data set which significant impact on the ridership. That was the Memorial holiday on May 30, 2015. \n",
    "\n"
   ]
  },
  {
   "cell_type": "code",
   "execution_count": 105,
   "metadata": {
    "collapsed": true
   },
   "outputs": [],
   "source": [
    "input_variables = ['rain', 'precipi', 'fog', 'maxtempi'] "
   ]
  },
  {
   "cell_type": "markdown",
   "metadata": {},
   "source": [
    "####2.3 Why did you select these features in your model? "
   ]
  },
  {
   "cell_type": "markdown",
   "metadata": {},
   "source": [
    "I selected the features because the exploratory analysis suggested that weather, time and date had impacts on what how people would like to ride the subway. Therefore, variables such as rain, precipitation, temperature, foggy condition, time of the day and day of week were used as features for the model. \n",
    "\n",
    "In order to validate my assumptions, I also included and withdrawed the variables in my features and investigated how it increased or decreased my coefficients of determination (R2) value. The results showed that using rain, precipitation, temperature, time of the day and day of week get the best R2 value of 0.498. There was no clear evidence of multicollinearity among those variables. Therefore, I used all the four 'rain', 'precipi', 'fog' and 'maxtempi' as my non-dummy input features. Since the data was in a large range, I also used the subset with more than 10000 and 20000 number of entries per hour and found the R2 value of 0.61 and 0.76, respectively. The R2 value was also significant improved if I applied the model with only high traffic hours.\n",
    "\n",
    "The code were showed below.\n"
   ]
  },
  {
   "cell_type": "markdown",
   "metadata": {},
   "source": [
    "####2.4 What are the parameters (also known as \"coefficients\" or \"weights\") of the non-dummy features in your linear regression model?"
   ]
  },
  {
   "cell_type": "code",
   "execution_count": 203,
   "metadata": {
    "collapsed": false
   },
   "outputs": [],
   "source": [
    "import numpy as np\n",
    "import pandas\n",
    "from sklearn.linear_model import SGDRegressor\n",
    "\n",
    "\n",
    "def normalize_features(features):\n",
    "    ''' \n",
    "    Returns the means and standard deviations of the given features, along with a normalized feature\n",
    "    matrix.\n",
    "    ''' \n",
    "    means = np.mean(features, axis=0)\n",
    "    std_devs = np.std(features, axis=0)\n",
    "    normalized_features = (features - means) / std_devs\n",
    "    return means, std_devs, normalized_features\n",
    "\n",
    "def recover_params(means, std_devs, norm_intercept, norm_params):\n",
    "    ''' \n",
    "    Recovers the weights for a linear model given parameters that were fitted using\n",
    "    normalized features. Takes the means and standard deviations of the original\n",
    "    features, along with the intercept and parameters computed using the normalized\n",
    "    features, and returns the intercept and parameters that correspond to the original\n",
    "    features.\n",
    "    ''' \n",
    "    intercept = norm_intercept - np.sum(means * norm_params / std_devs)\n",
    "    params = norm_params / std_devs\n",
    "    return intercept, params\n",
    "\n",
    "def linear_regression(features, values):\n",
    "    \"\"\"\n",
    "    Perform linear regression given a data set with an arbitrary number of features.\n",
    "    \"\"\"\n",
    "    clf = SGDRegressor(n_iter = 60) # select iteration = 20 to improve R2\n",
    "    intercept = clf.fit(features,values).intercept_\n",
    "    params = clf.fit(features,values).coef_\n",
    "    return intercept, params\n",
    "\n",
    "def predictions(dataframe, input_val):\n",
    "    \n",
    "    features = dataframe[input_val]\n",
    "    dummy_days = pandas.get_dummies(dataframe['DAY'], prefix='day')\n",
    "    dummy_units =pandas.get_dummies(dataframe['UNIT'], prefix='unit')\n",
    "    dummy_hours = pandas.get_dummies(dataframe['Hour'], prefix='hour')\n",
    "    days_units= pandas.concat([dummy_days, dummy_units, dummy_hours], axis=1)\n",
    "    features = features.join(days_units)\n",
    "    \n",
    "    # Values\n",
    "    values = dataframe['ENTRIESn_hourly']\n",
    "    \n",
    "    # Get numpy arrays\n",
    "    features_array = features.values\n",
    "    values_array = values.values\n",
    "    \n",
    "    means, std_devs, normalized_features_array = normalize_features(features_array)\n",
    "\n",
    "    # Perform gradient descent\n",
    "    norm_intercept, norm_params = linear_regression(normalized_features_array, values_array)\n",
    "    \n",
    "    intercept, params = recover_params(means, std_devs, norm_intercept, norm_params)\n",
    "    print \"\\nTotal parameters:\", len(params)\n",
    "    print \"\\nCoeffient values:\"\n",
    "    print input_val, \":\", params[:len(input_val)]\n",
    "\n",
    "    \n",
    "    predictions = intercept + np.dot(features_array, params)\n",
    "    # The following line would be equivalent:\n",
    "    # predictions = norm_intercept + np.dot(normalized_features_array, norm_params)\n",
    "    \n",
    "    return predictions\n"
   ]
  },
  {
   "cell_type": "code",
   "execution_count": 123,
   "metadata": {
    "collapsed": true
   },
   "outputs": [],
   "source": [
    "def compute_r_squared(data, predictions):\n",
    "    # Write a function that, given two input numpy arrays, 'data', and 'predictions,'\n",
    "    # returns the coefficient of determination, R^2, for the model that produced \n",
    "    # predictions.\n",
    "    \n",
    "    difference_squared = map(lambda data, predictions: (data - predictions)**2, data, predictions)\n",
    "    mean_data = np.mean(data)\n",
    "    variance = map(lambda data: (data - mean_data)**2, data)\n",
    "    r_squared = 1 - sum(difference_squared)/sum(variance)\n",
    "    print \"R_square value: \", r_squared"
   ]
  },
  {
   "cell_type": "markdown",
   "metadata": {},
   "source": [
    "#### Prediction for the whole data"
   ]
  },
  {
   "cell_type": "code",
   "execution_count": 206,
   "metadata": {
    "collapsed": false
   },
   "outputs": [
    {
     "name": "stdout",
     "output_type": "stream",
     "text": [
      "\n",
      "Total parameters: 497\n",
      "\n",
      "Coeffient values:\n",
      "['rain'] : [-48.33055438]\n",
      "R_square value:  0.485389851936\n"
     ]
    }
   ],
   "source": [
    "# With rain as input\n",
    "input_rain = ['rain']\n",
    "compute_r_squared(turnstile_weather['ENTRIESn_hourly'], predictions(turnstile_weather, input_rain))"
   ]
  },
  {
   "cell_type": "code",
   "execution_count": 207,
   "metadata": {
    "collapsed": false
   },
   "outputs": [
    {
     "data": {
      "text/html": [
       "<div>\n",
       "<table border=\"1\" class=\"dataframe\">\n",
       "  <thead>\n",
       "    <tr style=\"text-align: right;\">\n",
       "      <th></th>\n",
       "      <th>Unnamed: 0</th>\n",
       "      <th>UNIT</th>\n",
       "      <th>DATEn</th>\n",
       "      <th>TIMEn</th>\n",
       "      <th>Hour</th>\n",
       "      <th>DESCn</th>\n",
       "      <th>ENTRIESn_hourly</th>\n",
       "      <th>EXITSn_hourly</th>\n",
       "      <th>maxpressurei</th>\n",
       "      <th>maxdewpti</th>\n",
       "      <th>...</th>\n",
       "      <th>fog</th>\n",
       "      <th>rain</th>\n",
       "      <th>meanwindspdi</th>\n",
       "      <th>mintempi</th>\n",
       "      <th>meantempi</th>\n",
       "      <th>maxtempi</th>\n",
       "      <th>precipi</th>\n",
       "      <th>thunder</th>\n",
       "      <th>DAY</th>\n",
       "      <th>Day_of_week</th>\n",
       "    </tr>\n",
       "  </thead>\n",
       "  <tbody>\n",
       "    <tr>\n",
       "      <th>127596</th>\n",
       "      <td>127596</td>\n",
       "      <td>R552</td>\n",
       "      <td>2011-05-29</td>\n",
       "      <td>23:17:36</td>\n",
       "      <td>23</td>\n",
       "      <td>REGULAR</td>\n",
       "      <td>58</td>\n",
       "      <td>472</td>\n",
       "      <td>30.14</td>\n",
       "      <td>69</td>\n",
       "      <td>...</td>\n",
       "      <td>0</td>\n",
       "      <td>0</td>\n",
       "      <td>5</td>\n",
       "      <td>67</td>\n",
       "      <td>75</td>\n",
       "      <td>82</td>\n",
       "      <td>0</td>\n",
       "      <td>0</td>\n",
       "      <td>6</td>\n",
       "      <td>Sun</td>\n",
       "    </tr>\n",
       "    <tr>\n",
       "      <th>127597</th>\n",
       "      <td>127597</td>\n",
       "      <td>R552</td>\n",
       "      <td>2011-05-29</td>\n",
       "      <td>23:23:06</td>\n",
       "      <td>23</td>\n",
       "      <td>REGULAR</td>\n",
       "      <td>60</td>\n",
       "      <td>659</td>\n",
       "      <td>30.14</td>\n",
       "      <td>69</td>\n",
       "      <td>...</td>\n",
       "      <td>0</td>\n",
       "      <td>0</td>\n",
       "      <td>5</td>\n",
       "      <td>67</td>\n",
       "      <td>75</td>\n",
       "      <td>82</td>\n",
       "      <td>0</td>\n",
       "      <td>0</td>\n",
       "      <td>6</td>\n",
       "      <td>Sun</td>\n",
       "    </tr>\n",
       "    <tr>\n",
       "      <th>127598</th>\n",
       "      <td>127598</td>\n",
       "      <td>R552</td>\n",
       "      <td>2011-05-29</td>\n",
       "      <td>23:44:21</td>\n",
       "      <td>23</td>\n",
       "      <td>REGULAR</td>\n",
       "      <td>41</td>\n",
       "      <td>36</td>\n",
       "      <td>30.14</td>\n",
       "      <td>69</td>\n",
       "      <td>...</td>\n",
       "      <td>0</td>\n",
       "      <td>0</td>\n",
       "      <td>5</td>\n",
       "      <td>67</td>\n",
       "      <td>75</td>\n",
       "      <td>82</td>\n",
       "      <td>0</td>\n",
       "      <td>0</td>\n",
       "      <td>6</td>\n",
       "      <td>Sun</td>\n",
       "    </tr>\n",
       "    <tr>\n",
       "      <th>127599</th>\n",
       "      <td>127599</td>\n",
       "      <td>R552</td>\n",
       "      <td>2011-05-29</td>\n",
       "      <td>23:51:44</td>\n",
       "      <td>23</td>\n",
       "      <td>REGULAR</td>\n",
       "      <td>1</td>\n",
       "      <td>0</td>\n",
       "      <td>30.14</td>\n",
       "      <td>69</td>\n",
       "      <td>...</td>\n",
       "      <td>0</td>\n",
       "      <td>0</td>\n",
       "      <td>5</td>\n",
       "      <td>67</td>\n",
       "      <td>75</td>\n",
       "      <td>82</td>\n",
       "      <td>0</td>\n",
       "      <td>0</td>\n",
       "      <td>6</td>\n",
       "      <td>Sun</td>\n",
       "    </tr>\n",
       "    <tr>\n",
       "      <th>127600</th>\n",
       "      <td>127600</td>\n",
       "      <td>R552</td>\n",
       "      <td>2011-05-29</td>\n",
       "      <td>23:58:04</td>\n",
       "      <td>23</td>\n",
       "      <td>REGULAR</td>\n",
       "      <td>147</td>\n",
       "      <td>257</td>\n",
       "      <td>30.14</td>\n",
       "      <td>69</td>\n",
       "      <td>...</td>\n",
       "      <td>0</td>\n",
       "      <td>0</td>\n",
       "      <td>5</td>\n",
       "      <td>67</td>\n",
       "      <td>75</td>\n",
       "      <td>82</td>\n",
       "      <td>0</td>\n",
       "      <td>0</td>\n",
       "      <td>6</td>\n",
       "      <td>Sun</td>\n",
       "    </tr>\n",
       "  </tbody>\n",
       "</table>\n",
       "<p>5 rows × 24 columns</p>\n",
       "</div>"
      ],
      "text/plain": [
       "        Unnamed: 0  UNIT       DATEn     TIMEn  Hour    DESCn  \\\n",
       "127596      127596  R552  2011-05-29  23:17:36    23  REGULAR   \n",
       "127597      127597  R552  2011-05-29  23:23:06    23  REGULAR   \n",
       "127598      127598  R552  2011-05-29  23:44:21    23  REGULAR   \n",
       "127599      127599  R552  2011-05-29  23:51:44    23  REGULAR   \n",
       "127600      127600  R552  2011-05-29  23:58:04    23  REGULAR   \n",
       "\n",
       "        ENTRIESn_hourly  EXITSn_hourly  maxpressurei  maxdewpti     ...       \\\n",
       "127596               58            472         30.14         69     ...        \n",
       "127597               60            659         30.14         69     ...        \n",
       "127598               41             36         30.14         69     ...        \n",
       "127599                1              0         30.14         69     ...        \n",
       "127600              147            257         30.14         69     ...        \n",
       "\n",
       "        fog  rain  meanwindspdi  mintempi  meantempi  maxtempi  precipi  \\\n",
       "127596    0     0             5        67         75        82        0   \n",
       "127597    0     0             5        67         75        82        0   \n",
       "127598    0     0             5        67         75        82        0   \n",
       "127599    0     0             5        67         75        82        0   \n",
       "127600    0     0             5        67         75        82        0   \n",
       "\n",
       "        thunder  DAY  Day_of_week  \n",
       "127596        0    6          Sun  \n",
       "127597        0    6          Sun  \n",
       "127598        0    6          Sun  \n",
       "127599        0    6          Sun  \n",
       "127600        0    6          Sun  \n",
       "\n",
       "[5 rows x 24 columns]"
      ]
     },
     "execution_count": 207,
     "metadata": {},
     "output_type": "execute_result"
    }
   ],
   "source": [
    "#exclude memorial day\n",
    "weather_subset = turnstile_weather[turnstile_weather['DATEn']!= '2011-05-30']\n",
    "weather_subset.tail()"
   ]
  },
  {
   "cell_type": "code",
   "execution_count": 224,
   "metadata": {
    "collapsed": false
   },
   "outputs": [
    {
     "name": "stdout",
     "output_type": "stream",
     "text": [
      "\n",
      "Total parameters: 497\n",
      "\n",
      "Coeffient values:\n",
      "['rain'] : [ 14.1071621]\n",
      "R_square value:  0.490354898733\n"
     ]
    }
   ],
   "source": [
    "input_rain = ['rain']\n",
    "compute_r_squared(weather_subset['ENTRIESn_hourly'], predictions(weather_subset, input_rain))\n"
   ]
  },
  {
   "cell_type": "markdown",
   "metadata": {},
   "source": [
    "Coefficent values for rain was positive (14.1) indicating that there was more ridership on the rainy days."
   ]
  },
  {
   "cell_type": "code",
   "execution_count": 209,
   "metadata": {
    "collapsed": false
   },
   "outputs": [
    {
     "name": "stdout",
     "output_type": "stream",
     "text": [
      "\n",
      "Total parameters: 498\n",
      "\n",
      "Coeffient values:\n",
      "['rain', 'precipi'] : [-83.97131092 -66.34953199]\n",
      "R_square value:  0.481627870191\n"
     ]
    }
   ],
   "source": [
    "#With 2 variables as input\n",
    "input_rain_pre = ['rain', 'precipi']\n",
    "compute_r_squared(turnstile_weather['ENTRIESn_hourly'], predictions(turnstile_weather, input_rain_pre))"
   ]
  },
  {
   "cell_type": "code",
   "execution_count": 210,
   "metadata": {
    "collapsed": false
   },
   "outputs": [
    {
     "name": "stdout",
     "output_type": "stream",
     "text": [
      "\n",
      "Total parameters: 498\n",
      "\n",
      "Coeffient values:\n",
      "['rain', 'maxtempi'] : [-77.12598242  -3.22958087]\n",
      "R_square value:  0.482483560326\n"
     ]
    }
   ],
   "source": [
    "# rain and maxtempi as input\n",
    "input_rain_tem = ['rain', 'maxtempi']\n",
    "compute_r_squared(turnstile_weather['ENTRIESn_hourly'], predictions(turnstile_weather, input_rain_tem))"
   ]
  },
  {
   "cell_type": "code",
   "execution_count": 211,
   "metadata": {
    "collapsed": false
   },
   "outputs": [
    {
     "name": "stdout",
     "output_type": "stream",
     "text": [
      "\n",
      "Total parameters: 499\n",
      "\n",
      "Coeffient values:\n",
      "['rain', 'fog', 'maxtempi'] : [-162.05049727  124.46576406   -4.47781813]\n",
      "R_square value:  0.487901327877\n"
     ]
    }
   ],
   "source": [
    "# With 3 variables as input\n",
    "input_rain_fog_maxtemp = ['rain', 'fog', 'maxtempi']\n",
    "compute_r_squared(turnstile_weather['ENTRIESn_hourly'], predictions(turnstile_weather, input_rain_fog_maxtemp))"
   ]
  },
  {
   "cell_type": "code",
   "execution_count": 226,
   "metadata": {
    "collapsed": false
   },
   "outputs": [
    {
     "name": "stdout",
     "output_type": "stream",
     "text": [
      "\n",
      "Total parameters: 500\n",
      "\n",
      "Coeffient values:\n",
      "['rain', 'precipi', 'fog', 'maxtempi'] : [  -8.33401093  -82.67834431  116.81149498   -7.41896803]\n",
      "R_square value:  0.476919165784\n"
     ]
    }
   ],
   "source": [
    "# With 4 variables as input\n",
    "input_rain_fog_maxtemp = ['rain', 'precipi', 'fog', 'maxtempi']\n",
    "compute_r_squared(turnstile_weather['ENTRIESn_hourly'], predictions(turnstile_weather, input_rain_fog_maxtemp))"
   ]
  },
  {
   "cell_type": "markdown",
   "metadata": {},
   "source": [
    "####Prediction for the low and high number of entries subsets"
   ]
  },
  {
   "cell_type": "markdown",
   "metadata": {},
   "source": [
    "- Select some subsets with number of entries less than 1000, more than 1000, more than 10,000 and more than 20,000."
   ]
  },
  {
   "cell_type": "code",
   "execution_count": 214,
   "metadata": {
    "collapsed": false
   },
   "outputs": [
    {
     "name": "stdout",
     "output_type": "stream",
     "text": [
      "\n",
      "Total parameters: 147\n",
      "\n",
      "Coeffient values:\n",
      "['rain', 'precipi', 'fog', 'maxtempi'] : [ -44.68823138 -325.48970165  467.13765654  -39.38071704]\n",
      "R_square value:  0.524256115258\n"
     ]
    }
   ],
   "source": [
    "# Predict for Entries_hourly>1000:\n",
    "input_val_1 = ['rain', 'precipi', 'fog', 'maxtempi']\n",
    "more_8000_ridership = turnstile_weather[turnstile_weather['ENTRIESn_hourly']>=8000]\n",
    "compute_r_squared(more_8000_ridership['ENTRIESn_hourly'], predictions(more_8000_ridership, input_val_1 ))"
   ]
  },
  {
   "cell_type": "code",
   "execution_count": 215,
   "metadata": {
    "collapsed": false
   },
   "outputs": [
    {
     "name": "stdout",
     "output_type": "stream",
     "text": [
      "\n",
      "Total parameters: 500\n",
      "\n",
      "Coeffient values:\n",
      "['rain', 'precipi', 'fog', 'maxtempi'] : [-35.63118635 -60.82670426  56.44131613  -6.4030978 ]\n",
      "R_square value:  0.53947284271\n"
     ]
    }
   ],
   "source": [
    "# Predict for Entries_hourly<1000:\n",
    "input_val_1 = ['rain', 'precipi', 'fog', 'maxtempi']\n",
    "less_1000_ridership = turnstile_weather[turnstile_weather['ENTRIESn_hourly']<7000]\n",
    "compute_r_squared(less_1000_ridership['ENTRIESn_hourly'], predictions(less_1000_ridership, input_val_1 ))"
   ]
  },
  {
   "cell_type": "code",
   "execution_count": 216,
   "metadata": {
    "collapsed": false
   },
   "outputs": [
    {
     "name": "stdout",
     "output_type": "stream",
     "text": [
      "\n",
      "Total parameters: 117\n",
      "\n",
      "Coeffient values:\n",
      "['rain', 'precipi', 'fog', 'maxtempi'] : [-256.86048463 -500.42149491  536.96366823  -48.78804468]\n",
      "R_square value:  0.606667693459\n"
     ]
    }
   ],
   "source": [
    "# Predict for Entries_hourly>10000:\n",
    "input_val_1 = ['rain', 'precipi', 'fog', 'maxtempi']\n",
    "more_10000_ridership = turnstile_weather[turnstile_weather['ENTRIESn_hourly']>=10000]\n",
    "compute_r_squared(more_10000_ridership['ENTRIESn_hourly'], predictions(more_10000_ridership, input_val_1 ))"
   ]
  },
  {
   "cell_type": "code",
   "execution_count": 228,
   "metadata": {
    "collapsed": false
   },
   "outputs": [
    {
     "name": "stdout",
     "output_type": "stream",
     "text": [
      "\n",
      "Total parameters: 45\n",
      "\n",
      "Coeffient values:\n",
      "['rain', 'precipi', 'fog', 'maxtempi'] : [ 565.43282546 -840.12769279  423.27709163  -41.74088486]\n",
      "R_square value:  0.759967420351\n"
     ]
    }
   ],
   "source": [
    "# Predict for Entries_hourly>20000:\n",
    "input_val_1 = ['rain', 'precipi', 'fog', 'maxtempi']\n",
    "more_20000_ridership = turnstile_weather[turnstile_weather['ENTRIESn_hourly']>=20000]\n",
    "compute_r_squared(more_20000_ridership['ENTRIESn_hourly'], predictions(more_20000_ridership, input_val_1 ))"
   ]
  },
  {
   "cell_type": "markdown",
   "metadata": {},
   "source": [
    "R2 value was 0.48 if we used the whole data set. It means my model only could explain 49% of the original variability, and are left with 51% residual variability. Ideally, we would like to explain most if not all of the original variability. The R-square value was an indicator that I should improve my model by trying different ways of selecting of features.\n",
    "\n",
    "If I only applied to a subset of high traffic data with more than 10000 or 20000 numbers of entries per hour, I got much better R2 value. It suggested that I could improve my model prediction by grouping the data into different subsets."
   ]
  },
  {
   "cell_type": "markdown",
   "metadata": {},
   "source": [
    "#### Predict for high traffic hours"
   ]
  },
  {
   "cell_type": "markdown",
   "metadata": {},
   "source": [
    "- Remove the 'hour' as dummy features from the prediction function.\n",
    "- Select some high traffic hours such as 8pm and noon to see the change in predictions."
   ]
  },
  {
   "cell_type": "code",
   "execution_count": 217,
   "metadata": {
    "collapsed": false
   },
   "outputs": [],
   "source": [
    "\n",
    "def predictions_traffic(dataframe, input_val):\n",
    "    \n",
    "    features = dataframe[input_val]\n",
    "    dummy_days = pandas.get_dummies(dataframe['DAY'], prefix='day')\n",
    "    dummy_units =pandas.get_dummies(dataframe['UNIT'], prefix='unit')\n",
    "    days_units= pandas.concat([dummy_days, dummy_units], axis=1)\n",
    "    features = features.join(days_units)\n",
    "    \n",
    "    # Values\n",
    "    values = dataframe['ENTRIESn_hourly']\n",
    "    \n",
    "    # Get numpy arrays\n",
    "    features_array = features.values\n",
    "    values_array = values.values\n",
    "    \n",
    "    means, std_devs, normalized_features_array = normalize_features(features_array)\n",
    "\n",
    "    # Perform gradient descent\n",
    "    norm_intercept, norm_params = linear_regression(normalized_features_array, values_array)\n",
    "    \n",
    "    intercept, params = recover_params(means, std_devs, norm_intercept, norm_params)\n",
    "    print \"\\nTotal parameters:\", len(params)\n",
    "    print \"\\nCoeffient values:\"\n",
    "    print input_val, \":\", params[:len(input_val)]\n",
    "\n",
    "    \n",
    "    predictions = intercept + np.dot(features_array, params)\n",
    "    # The following line would be equivalent:\n",
    "    # predictions = norm_intercept + np.dot(normalized_features_array, norm_params)\n",
    "    \n",
    "    return predictions\n"
   ]
  },
  {
   "cell_type": "code",
   "execution_count": 223,
   "metadata": {
    "collapsed": false
   },
   "outputs": [
    {
     "name": "stdout",
     "output_type": "stream",
     "text": [
      "\n",
      "Total parameters: 473\n",
      "\n",
      "Coeffient values:\n",
      "['rain'] : [-86.82997788]\n",
      "R_square value:  0.783432754749\n"
     ]
    }
   ],
   "source": [
    "input_val_1 = ['rain','precipi', 'fog', 'maxtempi']\n",
    "high_traffic_hours = turnstile_weather[turnstile_weather['Hour'] >= 20]\n",
    "compute_r_squared(high_traffic_hours['ENTRIESn_hourly'], predictions_traffic(high_traffic_hours, input_val_1 ))"
   ]
  },
  {
   "cell_type": "code",
   "execution_count": 220,
   "metadata": {
    "collapsed": false
   },
   "outputs": [
    {
     "name": "stdout",
     "output_type": "stream",
     "text": [
      "\n",
      "Total parameters: 476\n",
      "\n",
      "Coeffient values:\n",
      "['rain', 'precipi', 'fog', 'maxtempi'] : [-162.31265614 -169.44500431   94.28244657  -14.51718898]\n",
      "R_square value:  0.79619929971\n"
     ]
    }
   ],
   "source": [
    "input_val_1 = ['rain', 'precipi', 'fog', 'maxtempi']\n",
    "noon_high_traffic_hours = turnstile_weather[turnstile_weather['Hour'] == 12]\n",
    "compute_r_squared(high_traffic_hours['ENTRIESn_hourly'], predictions_traffic(high_traffic_hours, input_val_1 ))"
   ]
  },
  {
   "cell_type": "code",
   "execution_count": null,
   "metadata": {
    "collapsed": true
   },
   "outputs": [],
   "source": []
  },
  {
   "cell_type": "markdown",
   "metadata": {},
   "source": [
    "###Section 4. Conclusion"
   ]
  },
  {
   "cell_type": "markdown",
   "metadata": {},
   "source": [
    "The data analysis results showed that weather conditions (rain, precipitation, fog and maximum temperature), location of the subway station, time and date had impacts on the number of riders of NYC subway. Linear regression with gradient descent was implemented and got R2 value in range of 0.48 to 0.80 depending on the subsets of the data.\n",
    "\n",
    "The results of Mann Whitney U Test (p = 0.049) showed that there was a statistical difference in the distribution of the number of riders when it is rain and when it is not rain. Further investigation in linear regression showed coefficient of 'rain' was -48. It looks like if it rains there are less people riding the NYC subway. However, we must be careful that there was a Memorial holiday during the collecting data time frame. When I excluded the day, the coefficient for 'rain' was 14 which means if it rains there are more people riding the subway. \n",
    "\n",
    "My R2 was also only 0.48 for the whole data set but significantly improved up to 0.8 depending on which subsets of data or just predicting for high traffic hours. It suggested that in order to get more precise conclusion, I need further investigation with different feature selections and statistical tests along with more background information about NYC subway and other related transportation data in NYC.\n",
    "\n",
    "\n"
   ]
  },
  {
   "cell_type": "markdown",
   "metadata": {},
   "source": [
    "###Section 5. Reflection"
   ]
  },
  {
   "cell_type": "markdown",
   "metadata": {
    "collapsed": true
   },
   "source": [
    "The dataset contains only one month data of NYC subway. It was colected from May 01 to May 30, 2011. So, the weather may not be significant factor since it was in a short window of time. The mean and standard deviation of ridership per hour were 1095 and 2337, respectively. However the maximum data is 51839. There must be some extreme unknown factors which required further background research.\n",
    "\n",
    "Mann Whitney U Test showed only the statistical difference in the distribution of the data but not more than that. Linear regression had a R2 value of 0.48 for the whole dataset and 0.76 for the subset of entries hourly more than 20000. The coefficient for 'rain' was negative suggesting there was some things more need to investigate before conclusion. \n",
    "\n",
    "I think the dataset is interesting and a bit challenge for the Introduction course if our goal is higher R2 value. I hope to improve my model with the Machine Learning course in the program. I also learned a lot while spending hours with the data, specially ask the right questions before digging too deep in the data: 1) How and when the data collected?; 2)If the model does not work well, is there any important background information that I miss?; 3) Learn about all the variables and what they are really mean to the output and also with other variables.\n",
    "\n"
   ]
  }
 ],
 "metadata": {
  "kernelspec": {
   "display_name": "Python 2",
   "language": "python",
   "name": "python2"
  },
  "language_info": {
   "codemirror_mode": {
    "name": "ipython",
    "version": 2
   },
   "file_extension": ".py",
   "mimetype": "text/x-python",
   "name": "python",
   "nbconvert_exporter": "python",
   "pygments_lexer": "ipython2",
   "version": "2.7.10"
  }
 },
 "nbformat": 4,
 "nbformat_minor": 0
}
