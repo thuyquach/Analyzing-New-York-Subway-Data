{
 "metadata": {
  "name": "",
  "signature": "sha256:439c5e83fe83951c7a7d4e721c1bad357a691db97592fe037e97dcfec3b30636"
 },
 "nbformat": 3,
 "nbformat_minor": 0,
 "worksheets": [
  {
   "cells": [
    {
     "cell_type": "heading",
     "level": 1,
     "metadata": {},
     "source": [
      "1. Change directory"
     ]
    },
    {
     "cell_type": "code",
     "collapsed": false,
     "input": [
      "pwd"
     ],
     "language": "python",
     "metadata": {},
     "outputs": [
      {
       "metadata": {},
       "output_type": "pyout",
       "prompt_number": 6,
       "text": [
        "u'/Users/thuy'"
       ]
      }
     ],
     "prompt_number": 6
    },
    {
     "cell_type": "code",
     "collapsed": false,
     "input": [],
     "language": "python",
     "metadata": {},
     "outputs": []
    },
    {
     "cell_type": "code",
     "collapsed": false,
     "input": [
      "import os"
     ],
     "language": "python",
     "metadata": {},
     "outputs": [],
     "prompt_number": 5
    },
    {
     "cell_type": "code",
     "collapsed": false,
     "input": [
      "os.getcwd()"
     ],
     "language": "python",
     "metadata": {},
     "outputs": [
      {
       "metadata": {},
       "output_type": "pyout",
       "prompt_number": 3,
       "text": [
        "'/Users/thuy'"
       ]
      }
     ],
     "prompt_number": 3
    },
    {
     "cell_type": "code",
     "collapsed": false,
     "input": [
      "os.chdir('./Downloads/')\n"
     ],
     "language": "python",
     "metadata": {},
     "outputs": [],
     "prompt_number": 4
    },
    {
     "cell_type": "heading",
     "level": 2,
     "metadata": {},
     "source": [
      "2. Examples"
     ]
    },
    {
     "cell_type": "code",
     "collapsed": false,
     "input": [],
     "language": "python",
     "metadata": {},
     "outputs": []
    },
    {
     "cell_type": "heading",
     "level": 2,
     "metadata": {},
     "source": [
      "The data is University of California-Berkeley's 1973 graduate school admission. Here is the link to the data http://www.calvin.edu/~stob/data/Berkeley.csv"
     ]
    },
    {
     "cell_type": "code",
     "collapsed": false,
     "input": [
      "import pandas as pd"
     ],
     "language": "python",
     "metadata": {},
     "outputs": [],
     "prompt_number": 3
    },
    {
     "cell_type": "code",
     "collapsed": false,
     "input": [],
     "language": "python",
     "metadata": {},
     "outputs": []
    },
    {
     "cell_type": "code",
     "collapsed": false,
     "input": [
      "data1 = pd.read_csv(\"http://www.calvin.edu/~stob/data/Berkeley.csv\")"
     ],
     "language": "python",
     "metadata": {},
     "outputs": [],
     "prompt_number": 4
    },
    {
     "cell_type": "code",
     "collapsed": false,
     "input": [],
     "language": "python",
     "metadata": {},
     "outputs": []
    },
    {
     "cell_type": "code",
     "collapsed": false,
     "input": [],
     "language": "python",
     "metadata": {},
     "outputs": []
    },
    {
     "cell_type": "code",
     "collapsed": false,
     "input": [
      "data1"
     ],
     "language": "python",
     "metadata": {},
     "outputs": [
      {
       "html": [
        "<div style=\"max-height:1000px;max-width:1500px;overflow:auto;\">\n",
        "<table border=\"1\" class=\"dataframe\">\n",
        "  <thead>\n",
        "    <tr style=\"text-align: right;\">\n",
        "      <th></th>\n",
        "      <th>Admit</th>\n",
        "      <th>Gender</th>\n",
        "      <th>Dept</th>\n",
        "      <th>Freq</th>\n",
        "    </tr>\n",
        "  </thead>\n",
        "  <tbody>\n",
        "    <tr>\n",
        "      <th>0 </th>\n",
        "      <td> Admitted</td>\n",
        "      <td>   Male</td>\n",
        "      <td> A</td>\n",
        "      <td> 512</td>\n",
        "    </tr>\n",
        "    <tr>\n",
        "      <th>1 </th>\n",
        "      <td> Rejected</td>\n",
        "      <td>   Male</td>\n",
        "      <td> A</td>\n",
        "      <td> 313</td>\n",
        "    </tr>\n",
        "    <tr>\n",
        "      <th>2 </th>\n",
        "      <td> Admitted</td>\n",
        "      <td> Female</td>\n",
        "      <td> A</td>\n",
        "      <td>  89</td>\n",
        "    </tr>\n",
        "    <tr>\n",
        "      <th>3 </th>\n",
        "      <td> Rejected</td>\n",
        "      <td> Female</td>\n",
        "      <td> A</td>\n",
        "      <td>  19</td>\n",
        "    </tr>\n",
        "    <tr>\n",
        "      <th>4 </th>\n",
        "      <td> Admitted</td>\n",
        "      <td>   Male</td>\n",
        "      <td> B</td>\n",
        "      <td> 353</td>\n",
        "    </tr>\n",
        "    <tr>\n",
        "      <th>5 </th>\n",
        "      <td> Rejected</td>\n",
        "      <td>   Male</td>\n",
        "      <td> B</td>\n",
        "      <td> 207</td>\n",
        "    </tr>\n",
        "    <tr>\n",
        "      <th>6 </th>\n",
        "      <td> Admitted</td>\n",
        "      <td> Female</td>\n",
        "      <td> B</td>\n",
        "      <td>  17</td>\n",
        "    </tr>\n",
        "    <tr>\n",
        "      <th>7 </th>\n",
        "      <td> Rejected</td>\n",
        "      <td> Female</td>\n",
        "      <td> B</td>\n",
        "      <td>   8</td>\n",
        "    </tr>\n",
        "    <tr>\n",
        "      <th>8 </th>\n",
        "      <td> Admitted</td>\n",
        "      <td>   Male</td>\n",
        "      <td> C</td>\n",
        "      <td> 120</td>\n",
        "    </tr>\n",
        "    <tr>\n",
        "      <th>9 </th>\n",
        "      <td> Rejected</td>\n",
        "      <td>   Male</td>\n",
        "      <td> C</td>\n",
        "      <td> 205</td>\n",
        "    </tr>\n",
        "    <tr>\n",
        "      <th>10</th>\n",
        "      <td> Admitted</td>\n",
        "      <td> Female</td>\n",
        "      <td> C</td>\n",
        "      <td> 202</td>\n",
        "    </tr>\n",
        "    <tr>\n",
        "      <th>11</th>\n",
        "      <td> Rejected</td>\n",
        "      <td> Female</td>\n",
        "      <td> C</td>\n",
        "      <td> 391</td>\n",
        "    </tr>\n",
        "    <tr>\n",
        "      <th>12</th>\n",
        "      <td> Admitted</td>\n",
        "      <td>   Male</td>\n",
        "      <td> D</td>\n",
        "      <td> 138</td>\n",
        "    </tr>\n",
        "    <tr>\n",
        "      <th>13</th>\n",
        "      <td> Rejected</td>\n",
        "      <td>   Male</td>\n",
        "      <td> D</td>\n",
        "      <td> 279</td>\n",
        "    </tr>\n",
        "    <tr>\n",
        "      <th>14</th>\n",
        "      <td> Admitted</td>\n",
        "      <td> Female</td>\n",
        "      <td> D</td>\n",
        "      <td> 131</td>\n",
        "    </tr>\n",
        "    <tr>\n",
        "      <th>15</th>\n",
        "      <td> Rejected</td>\n",
        "      <td> Female</td>\n",
        "      <td> D</td>\n",
        "      <td> 244</td>\n",
        "    </tr>\n",
        "    <tr>\n",
        "      <th>16</th>\n",
        "      <td> Admitted</td>\n",
        "      <td>   Male</td>\n",
        "      <td> E</td>\n",
        "      <td>  53</td>\n",
        "    </tr>\n",
        "    <tr>\n",
        "      <th>17</th>\n",
        "      <td> Rejected</td>\n",
        "      <td>   Male</td>\n",
        "      <td> E</td>\n",
        "      <td> 138</td>\n",
        "    </tr>\n",
        "    <tr>\n",
        "      <th>18</th>\n",
        "      <td> Admitted</td>\n",
        "      <td> Female</td>\n",
        "      <td> E</td>\n",
        "      <td>  94</td>\n",
        "    </tr>\n",
        "    <tr>\n",
        "      <th>19</th>\n",
        "      <td> Rejected</td>\n",
        "      <td> Female</td>\n",
        "      <td> E</td>\n",
        "      <td> 299</td>\n",
        "    </tr>\n",
        "    <tr>\n",
        "      <th>20</th>\n",
        "      <td> Admitted</td>\n",
        "      <td>   Male</td>\n",
        "      <td> F</td>\n",
        "      <td>  22</td>\n",
        "    </tr>\n",
        "    <tr>\n",
        "      <th>21</th>\n",
        "      <td> Rejected</td>\n",
        "      <td>   Male</td>\n",
        "      <td> F</td>\n",
        "      <td> 351</td>\n",
        "    </tr>\n",
        "    <tr>\n",
        "      <th>22</th>\n",
        "      <td> Admitted</td>\n",
        "      <td> Female</td>\n",
        "      <td> F</td>\n",
        "      <td>  24</td>\n",
        "    </tr>\n",
        "    <tr>\n",
        "      <th>23</th>\n",
        "      <td> Rejected</td>\n",
        "      <td> Female</td>\n",
        "      <td> F</td>\n",
        "      <td> 317</td>\n",
        "    </tr>\n",
        "  </tbody>\n",
        "</table>\n",
        "</div>"
       ],
       "metadata": {},
       "output_type": "pyout",
       "prompt_number": 5,
       "text": [
        "       Admit  Gender Dept  Freq\n",
        "0   Admitted    Male    A   512\n",
        "1   Rejected    Male    A   313\n",
        "2   Admitted  Female    A    89\n",
        "3   Rejected  Female    A    19\n",
        "4   Admitted    Male    B   353\n",
        "5   Rejected    Male    B   207\n",
        "6   Admitted  Female    B    17\n",
        "7   Rejected  Female    B     8\n",
        "8   Admitted    Male    C   120\n",
        "9   Rejected    Male    C   205\n",
        "10  Admitted  Female    C   202\n",
        "11  Rejected  Female    C   391\n",
        "12  Admitted    Male    D   138\n",
        "13  Rejected    Male    D   279\n",
        "14  Admitted  Female    D   131\n",
        "15  Rejected  Female    D   244\n",
        "16  Admitted    Male    E    53\n",
        "17  Rejected    Male    E   138\n",
        "18  Admitted  Female    E    94\n",
        "19  Rejected  Female    E   299\n",
        "20  Admitted    Male    F    22\n",
        "21  Rejected    Male    F   351\n",
        "22  Admitted  Female    F    24\n",
        "23  Rejected  Female    F   317"
       ]
      }
     ],
     "prompt_number": 5
    },
    {
     "cell_type": "code",
     "collapsed": false,
     "input": [],
     "language": "python",
     "metadata": {},
     "outputs": []
    },
    {
     "cell_type": "code",
     "collapsed": false,
     "input": [],
     "language": "python",
     "metadata": {},
     "outputs": []
    },
    {
     "cell_type": "code",
     "collapsed": false,
     "input": [],
     "language": "python",
     "metadata": {},
     "outputs": []
    },
    {
     "cell_type": "code",
     "collapsed": false,
     "input": [],
     "language": "python",
     "metadata": {},
     "outputs": []
    },
    {
     "cell_type": "code",
     "collapsed": false,
     "input": [
      "data1.Freq"
     ],
     "language": "python",
     "metadata": {},
     "outputs": [
      {
       "metadata": {},
       "output_type": "pyout",
       "prompt_number": 7,
       "text": [
        "0     512\n",
        "1     313\n",
        "2      89\n",
        "3      19\n",
        "4     353\n",
        "5     207\n",
        "6      17\n",
        "7       8\n",
        "8     120\n",
        "9     205\n",
        "10    202\n",
        "11    391\n",
        "12    138\n",
        "13    279\n",
        "14    131\n",
        "15    244\n",
        "16     53\n",
        "17    138\n",
        "18     94\n",
        "19    299\n",
        "20     22\n",
        "21    351\n",
        "22     24\n",
        "23    317\n",
        "Name: Freq, dtype: int64"
       ]
      }
     ],
     "prompt_number": 7
    },
    {
     "cell_type": "code",
     "collapsed": false,
     "input": [
      "data1.Freq[0]"
     ],
     "language": "python",
     "metadata": {},
     "outputs": [
      {
       "metadata": {},
       "output_type": "pyout",
       "prompt_number": 33,
       "text": [
        "512"
       ]
      }
     ],
     "prompt_number": 33
    },
    {
     "cell_type": "code",
     "collapsed": false,
     "input": [],
     "language": "python",
     "metadata": {},
     "outputs": []
    },
    {
     "cell_type": "code",
     "collapsed": false,
     "input": [
      "total = []\n",
      "n = len(data1.Freq)\n",
      "for i in range(n):\n",
      "    if i % 2 == 0:\n",
      "        t = data1.Freq[i] + data1.Freq[i + 1]\n",
      "        total.append(t)\n",
      "\n",
      "print total\n",
      "assert total[0] == 825\n",
      "        \n",
      "        "
     ],
     "language": "python",
     "metadata": {},
     "outputs": [
      {
       "output_type": "stream",
       "stream": "stdout",
       "text": [
        "[825, 108, 560, 25, 325, 593, 417, 375, 191, 393, 373, 341]\n"
       ]
      }
     ],
     "prompt_number": 46
    },
    {
     "cell_type": "code",
     "collapsed": false,
     "input": [
      "t = [825, 108, 560, 25, 325, 593, 417, 375, 191, 393, 373, 341]"
     ],
     "language": "python",
     "metadata": {},
     "outputs": [],
     "prompt_number": 20
    },
    {
     "cell_type": "code",
     "collapsed": false,
     "input": [
      "len(data1.Freq) - "
     ],
     "language": "python",
     "metadata": {},
     "outputs": [
      {
       "metadata": {},
       "output_type": "pyout",
       "prompt_number": 20,
       "text": [
        "19"
       ]
      }
     ],
     "prompt_number": 20
    },
    {
     "cell_type": "code",
     "collapsed": false,
     "input": [
      "admitted_data = data1[data1.Admit == 'Admitted']"
     ],
     "language": "python",
     "metadata": {},
     "outputs": [],
     "prompt_number": 28
    },
    {
     "cell_type": "code",
     "collapsed": false,
     "input": [
      "# Add the total application to the data:\n",
      "admitted_data.loc[:,'Total_app'] = pd.Series([825, 108, 560, 25, 325, 593, 417, 375, 191, 393, 373, 341], index=admitted_data.index)"
     ],
     "language": "python",
     "metadata": {},
     "outputs": [],
     "prompt_number": 33
    },
    {
     "cell_type": "code",
     "collapsed": false,
     "input": [
      "admitted_data"
     ],
     "language": "python",
     "metadata": {},
     "outputs": [
      {
       "html": [
        "<div style=\"max-height:1000px;max-width:1500px;overflow:auto;\">\n",
        "<table border=\"1\" class=\"dataframe\">\n",
        "  <thead>\n",
        "    <tr style=\"text-align: right;\">\n",
        "      <th></th>\n",
        "      <th>Admit</th>\n",
        "      <th>Gender</th>\n",
        "      <th>Dept</th>\n",
        "      <th>Freq</th>\n",
        "      <th>Total_app</th>\n",
        "    </tr>\n",
        "  </thead>\n",
        "  <tbody>\n",
        "    <tr>\n",
        "      <th>0 </th>\n",
        "      <td> Admitted</td>\n",
        "      <td>   Male</td>\n",
        "      <td> A</td>\n",
        "      <td> 512</td>\n",
        "      <td> 825</td>\n",
        "    </tr>\n",
        "    <tr>\n",
        "      <th>2 </th>\n",
        "      <td> Admitted</td>\n",
        "      <td> Female</td>\n",
        "      <td> A</td>\n",
        "      <td>  89</td>\n",
        "      <td> 108</td>\n",
        "    </tr>\n",
        "    <tr>\n",
        "      <th>4 </th>\n",
        "      <td> Admitted</td>\n",
        "      <td>   Male</td>\n",
        "      <td> B</td>\n",
        "      <td> 353</td>\n",
        "      <td> 560</td>\n",
        "    </tr>\n",
        "    <tr>\n",
        "      <th>6 </th>\n",
        "      <td> Admitted</td>\n",
        "      <td> Female</td>\n",
        "      <td> B</td>\n",
        "      <td>  17</td>\n",
        "      <td>  25</td>\n",
        "    </tr>\n",
        "    <tr>\n",
        "      <th>8 </th>\n",
        "      <td> Admitted</td>\n",
        "      <td>   Male</td>\n",
        "      <td> C</td>\n",
        "      <td> 120</td>\n",
        "      <td> 325</td>\n",
        "    </tr>\n",
        "    <tr>\n",
        "      <th>10</th>\n",
        "      <td> Admitted</td>\n",
        "      <td> Female</td>\n",
        "      <td> C</td>\n",
        "      <td> 202</td>\n",
        "      <td> 593</td>\n",
        "    </tr>\n",
        "    <tr>\n",
        "      <th>12</th>\n",
        "      <td> Admitted</td>\n",
        "      <td>   Male</td>\n",
        "      <td> D</td>\n",
        "      <td> 138</td>\n",
        "      <td> 417</td>\n",
        "    </tr>\n",
        "    <tr>\n",
        "      <th>14</th>\n",
        "      <td> Admitted</td>\n",
        "      <td> Female</td>\n",
        "      <td> D</td>\n",
        "      <td> 131</td>\n",
        "      <td> 375</td>\n",
        "    </tr>\n",
        "    <tr>\n",
        "      <th>16</th>\n",
        "      <td> Admitted</td>\n",
        "      <td>   Male</td>\n",
        "      <td> E</td>\n",
        "      <td>  53</td>\n",
        "      <td> 191</td>\n",
        "    </tr>\n",
        "    <tr>\n",
        "      <th>18</th>\n",
        "      <td> Admitted</td>\n",
        "      <td> Female</td>\n",
        "      <td> E</td>\n",
        "      <td>  94</td>\n",
        "      <td> 393</td>\n",
        "    </tr>\n",
        "    <tr>\n",
        "      <th>20</th>\n",
        "      <td> Admitted</td>\n",
        "      <td>   Male</td>\n",
        "      <td> F</td>\n",
        "      <td>  22</td>\n",
        "      <td> 373</td>\n",
        "    </tr>\n",
        "    <tr>\n",
        "      <th>22</th>\n",
        "      <td> Admitted</td>\n",
        "      <td> Female</td>\n",
        "      <td> F</td>\n",
        "      <td>  24</td>\n",
        "      <td> 341</td>\n",
        "    </tr>\n",
        "  </tbody>\n",
        "</table>\n",
        "</div>"
       ],
       "metadata": {},
       "output_type": "pyout",
       "prompt_number": 34,
       "text": [
        "       Admit  Gender Dept  Freq  Total_app\n",
        "0   Admitted    Male    A   512        825\n",
        "2   Admitted  Female    A    89        108\n",
        "4   Admitted    Male    B   353        560\n",
        "6   Admitted  Female    B    17         25\n",
        "8   Admitted    Male    C   120        325\n",
        "10  Admitted  Female    C   202        593\n",
        "12  Admitted    Male    D   138        417\n",
        "14  Admitted  Female    D   131        375\n",
        "16  Admitted    Male    E    53        191\n",
        "18  Admitted  Female    E    94        393\n",
        "20  Admitted    Male    F    22        373\n",
        "22  Admitted  Female    F    24        341"
       ]
      }
     ],
     "prompt_number": 34
    },
    {
     "cell_type": "code",
     "collapsed": false,
     "input": [
      "# % of Admit"
     ],
     "language": "python",
     "metadata": {},
     "outputs": [],
     "prompt_number": 14
    },
    {
     "cell_type": "code",
     "collapsed": false,
     "input": [
      "data = admitted_data\n",
      "x = admitted_data['Freq']*100/admitted_data['Total_app']\n",
      "x"
     ],
     "language": "python",
     "metadata": {},
     "outputs": [
      {
       "metadata": {},
       "output_type": "pyout",
       "prompt_number": 35,
       "text": [
        "0     62.060606\n",
        "2     82.407407\n",
        "4     63.035714\n",
        "6     68.000000\n",
        "8     36.923077\n",
        "10    34.064081\n",
        "12    33.093525\n",
        "14    34.933333\n",
        "16    27.748691\n",
        "18    23.918575\n",
        "20     5.898123\n",
        "22     7.038123\n",
        "dtype: float64"
       ]
      }
     ],
     "prompt_number": 35
    },
    {
     "cell_type": "code",
     "collapsed": false,
     "input": [
      "admitted_data.loc[:,'Acception_percentage'] = pd.Series(x, index=admitted_data.index)"
     ],
     "language": "python",
     "metadata": {},
     "outputs": [],
     "prompt_number": 36
    },
    {
     "cell_type": "code",
     "collapsed": false,
     "input": [
      "admitted_data"
     ],
     "language": "python",
     "metadata": {},
     "outputs": [
      {
       "html": [
        "<div style=\"max-height:1000px;max-width:1500px;overflow:auto;\">\n",
        "<table border=\"1\" class=\"dataframe\">\n",
        "  <thead>\n",
        "    <tr style=\"text-align: right;\">\n",
        "      <th></th>\n",
        "      <th>Admit</th>\n",
        "      <th>Gender</th>\n",
        "      <th>Dept</th>\n",
        "      <th>Freq</th>\n",
        "      <th>Total_app</th>\n",
        "      <th>Acception_percentage</th>\n",
        "    </tr>\n",
        "  </thead>\n",
        "  <tbody>\n",
        "    <tr>\n",
        "      <th>0 </th>\n",
        "      <td> Admitted</td>\n",
        "      <td>   Male</td>\n",
        "      <td> A</td>\n",
        "      <td> 512</td>\n",
        "      <td> 825</td>\n",
        "      <td> 62.060606</td>\n",
        "    </tr>\n",
        "    <tr>\n",
        "      <th>2 </th>\n",
        "      <td> Admitted</td>\n",
        "      <td> Female</td>\n",
        "      <td> A</td>\n",
        "      <td>  89</td>\n",
        "      <td> 108</td>\n",
        "      <td> 82.407407</td>\n",
        "    </tr>\n",
        "    <tr>\n",
        "      <th>4 </th>\n",
        "      <td> Admitted</td>\n",
        "      <td>   Male</td>\n",
        "      <td> B</td>\n",
        "      <td> 353</td>\n",
        "      <td> 560</td>\n",
        "      <td> 63.035714</td>\n",
        "    </tr>\n",
        "    <tr>\n",
        "      <th>6 </th>\n",
        "      <td> Admitted</td>\n",
        "      <td> Female</td>\n",
        "      <td> B</td>\n",
        "      <td>  17</td>\n",
        "      <td>  25</td>\n",
        "      <td> 68.000000</td>\n",
        "    </tr>\n",
        "    <tr>\n",
        "      <th>8 </th>\n",
        "      <td> Admitted</td>\n",
        "      <td>   Male</td>\n",
        "      <td> C</td>\n",
        "      <td> 120</td>\n",
        "      <td> 325</td>\n",
        "      <td> 36.923077</td>\n",
        "    </tr>\n",
        "    <tr>\n",
        "      <th>10</th>\n",
        "      <td> Admitted</td>\n",
        "      <td> Female</td>\n",
        "      <td> C</td>\n",
        "      <td> 202</td>\n",
        "      <td> 593</td>\n",
        "      <td> 34.064081</td>\n",
        "    </tr>\n",
        "    <tr>\n",
        "      <th>12</th>\n",
        "      <td> Admitted</td>\n",
        "      <td>   Male</td>\n",
        "      <td> D</td>\n",
        "      <td> 138</td>\n",
        "      <td> 417</td>\n",
        "      <td> 33.093525</td>\n",
        "    </tr>\n",
        "    <tr>\n",
        "      <th>14</th>\n",
        "      <td> Admitted</td>\n",
        "      <td> Female</td>\n",
        "      <td> D</td>\n",
        "      <td> 131</td>\n",
        "      <td> 375</td>\n",
        "      <td> 34.933333</td>\n",
        "    </tr>\n",
        "    <tr>\n",
        "      <th>16</th>\n",
        "      <td> Admitted</td>\n",
        "      <td>   Male</td>\n",
        "      <td> E</td>\n",
        "      <td>  53</td>\n",
        "      <td> 191</td>\n",
        "      <td> 27.748691</td>\n",
        "    </tr>\n",
        "    <tr>\n",
        "      <th>18</th>\n",
        "      <td> Admitted</td>\n",
        "      <td> Female</td>\n",
        "      <td> E</td>\n",
        "      <td>  94</td>\n",
        "      <td> 393</td>\n",
        "      <td> 23.918575</td>\n",
        "    </tr>\n",
        "    <tr>\n",
        "      <th>20</th>\n",
        "      <td> Admitted</td>\n",
        "      <td>   Male</td>\n",
        "      <td> F</td>\n",
        "      <td>  22</td>\n",
        "      <td> 373</td>\n",
        "      <td>  5.898123</td>\n",
        "    </tr>\n",
        "    <tr>\n",
        "      <th>22</th>\n",
        "      <td> Admitted</td>\n",
        "      <td> Female</td>\n",
        "      <td> F</td>\n",
        "      <td>  24</td>\n",
        "      <td> 341</td>\n",
        "      <td>  7.038123</td>\n",
        "    </tr>\n",
        "  </tbody>\n",
        "</table>\n",
        "</div>"
       ],
       "metadata": {},
       "output_type": "pyout",
       "prompt_number": 37,
       "text": [
        "       Admit  Gender Dept  Freq  Total_app  Acception_percentage\n",
        "0   Admitted    Male    A   512        825             62.060606\n",
        "2   Admitted  Female    A    89        108             82.407407\n",
        "4   Admitted    Male    B   353        560             63.035714\n",
        "6   Admitted  Female    B    17         25             68.000000\n",
        "8   Admitted    Male    C   120        325             36.923077\n",
        "10  Admitted  Female    C   202        593             34.064081\n",
        "12  Admitted    Male    D   138        417             33.093525\n",
        "14  Admitted  Female    D   131        375             34.933333\n",
        "16  Admitted    Male    E    53        191             27.748691\n",
        "18  Admitted  Female    E    94        393             23.918575\n",
        "20  Admitted    Male    F    22        373              5.898123\n",
        "22  Admitted  Female    F    24        341              7.038123"
       ]
      }
     ],
     "prompt_number": 37
    },
    {
     "cell_type": "code",
     "collapsed": false,
     "input": [],
     "language": "python",
     "metadata": {},
     "outputs": []
    },
    {
     "cell_type": "code",
     "collapsed": false,
     "input": [],
     "language": "python",
     "metadata": {},
     "outputs": []
    },
    {
     "cell_type": "code",
     "collapsed": false,
     "input": [],
     "language": "python",
     "metadata": {},
     "outputs": []
    },
    {
     "cell_type": "code",
     "collapsed": false,
     "input": [],
     "language": "python",
     "metadata": {},
     "outputs": []
    },
    {
     "cell_type": "code",
     "collapsed": false,
     "input": [],
     "language": "python",
     "metadata": {},
     "outputs": []
    },
    {
     "cell_type": "code",
     "collapsed": false,
     "input": [],
     "language": "python",
     "metadata": {},
     "outputs": []
    },
    {
     "cell_type": "code",
     "collapsed": false,
     "input": [],
     "language": "python",
     "metadata": {},
     "outputs": []
    },
    {
     "cell_type": "code",
     "collapsed": false,
     "input": [],
     "language": "python",
     "metadata": {},
     "outputs": []
    },
    {
     "cell_type": "code",
     "collapsed": false,
     "input": [],
     "language": "python",
     "metadata": {},
     "outputs": []
    },
    {
     "cell_type": "code",
     "collapsed": false,
     "input": [],
     "language": "python",
     "metadata": {},
     "outputs": []
    },
    {
     "cell_type": "code",
     "collapsed": false,
     "input": [],
     "language": "python",
     "metadata": {},
     "outputs": []
    },
    {
     "cell_type": "code",
     "collapsed": false,
     "input": [],
     "language": "python",
     "metadata": {},
     "outputs": []
    },
    {
     "cell_type": "code",
     "collapsed": false,
     "input": [],
     "language": "python",
     "metadata": {},
     "outputs": []
    },
    {
     "cell_type": "code",
     "collapsed": false,
     "input": [
      "total = []\n",
      "for i in range(len(data1.Freq)):\n",
      "    print data1.Freq[i]"
     ],
     "language": "python",
     "metadata": {},
     "outputs": [
      {
       "output_type": "stream",
       "stream": "stdout",
       "text": [
        "512\n",
        "313\n",
        "89\n",
        "19\n",
        "353\n",
        "207\n",
        "17\n",
        "8\n",
        "120\n",
        "205\n",
        "202\n",
        "391\n",
        "138\n",
        "279\n",
        "131\n",
        "244\n",
        "53\n",
        "138\n",
        "94\n",
        "299\n",
        "22\n",
        "351\n",
        "24\n",
        "317\n"
       ]
      }
     ],
     "prompt_number": 18
    },
    {
     "cell_type": "code",
     "collapsed": false,
     "input": [],
     "language": "python",
     "metadata": {},
     "outputs": []
    },
    {
     "cell_type": "code",
     "collapsed": false,
     "input": [],
     "language": "python",
     "metadata": {},
     "outputs": []
    },
    {
     "cell_type": "code",
     "collapsed": false,
     "input": [],
     "language": "python",
     "metadata": {},
     "outputs": []
    },
    {
     "cell_type": "code",
     "collapsed": false,
     "input": [],
     "language": "python",
     "metadata": {},
     "outputs": []
    },
    {
     "cell_type": "code",
     "collapsed": false,
     "input": [],
     "language": "python",
     "metadata": {},
     "outputs": []
    },
    {
     "cell_type": "code",
     "collapsed": false,
     "input": [],
     "language": "python",
     "metadata": {},
     "outputs": []
    },
    {
     "cell_type": "code",
     "collapsed": false,
     "input": [],
     "language": "python",
     "metadata": {},
     "outputs": []
    },
    {
     "cell_type": "code",
     "collapsed": false,
     "input": [],
     "language": "python",
     "metadata": {},
     "outputs": []
    },
    {
     "cell_type": "code",
     "collapsed": false,
     "input": [],
     "language": "python",
     "metadata": {},
     "outputs": []
    },
    {
     "cell_type": "code",
     "collapsed": false,
     "input": [],
     "language": "python",
     "metadata": {},
     "outputs": []
    },
    {
     "cell_type": "code",
     "collapsed": false,
     "input": [],
     "language": "python",
     "metadata": {},
     "outputs": []
    },
    {
     "cell_type": "code",
     "collapsed": false,
     "input": [],
     "language": "python",
     "metadata": {},
     "outputs": [
      {
       "ename": "NameError",
       "evalue": "name 'length' is not defined",
       "output_type": "pyerr",
       "traceback": [
        "\u001b[0;31m---------------------------------------------------------------------------\u001b[0m\n\u001b[0;31mNameError\u001b[0m                                 Traceback (most recent call last)",
        "\u001b[0;32m<ipython-input-216-b6d0af738bda>\u001b[0m in \u001b[0;36m<module>\u001b[0;34m()\u001b[0m\n\u001b[0;32m----> 1\u001b[0;31m \u001b[0mlength\u001b[0m\u001b[0;34m(\u001b[0m\u001b[0mdata1\u001b[0m\u001b[0;34m.\u001b[0m\u001b[0mFreq\u001b[0m\u001b[0;34m)\u001b[0m\u001b[0;34m\u001b[0m\u001b[0m\n\u001b[0m",
        "\u001b[0;31mNameError\u001b[0m: name 'length' is not defined"
       ]
      }
     ],
     "prompt_number": 216
    },
    {
     "cell_type": "code",
     "collapsed": false,
     "input": [],
     "language": "python",
     "metadata": {},
     "outputs": []
    },
    {
     "cell_type": "code",
     "collapsed": false,
     "input": [],
     "language": "python",
     "metadata": {},
     "outputs": []
    },
    {
     "cell_type": "code",
     "collapsed": false,
     "input": [],
     "language": "python",
     "metadata": {},
     "outputs": []
    },
    {
     "cell_type": "code",
     "collapsed": false,
     "input": [],
     "language": "python",
     "metadata": {},
     "outputs": []
    },
    {
     "cell_type": "code",
     "collapsed": false,
     "input": [],
     "language": "python",
     "metadata": {},
     "outputs": []
    },
    {
     "cell_type": "code",
     "collapsed": false,
     "input": [],
     "language": "python",
     "metadata": {},
     "outputs": []
    },
    {
     "cell_type": "code",
     "collapsed": false,
     "input": [],
     "language": "python",
     "metadata": {},
     "outputs": []
    },
    {
     "cell_type": "code",
     "collapsed": false,
     "input": [],
     "language": "python",
     "metadata": {},
     "outputs": []
    },
    {
     "cell_type": "code",
     "collapsed": false,
     "input": [],
     "language": "python",
     "metadata": {},
     "outputs": []
    },
    {
     "cell_type": "code",
     "collapsed": false,
     "input": [],
     "language": "python",
     "metadata": {},
     "outputs": []
    },
    {
     "cell_type": "code",
     "collapsed": false,
     "input": [],
     "language": "python",
     "metadata": {},
     "outputs": []
    },
    {
     "cell_type": "code",
     "collapsed": false,
     "input": [],
     "language": "python",
     "metadata": {},
     "outputs": []
    },
    {
     "cell_type": "code",
     "collapsed": false,
     "input": [],
     "language": "python",
     "metadata": {},
     "outputs": []
    },
    {
     "cell_type": "code",
     "collapsed": false,
     "input": [],
     "language": "python",
     "metadata": {},
     "outputs": []
    },
    {
     "cell_type": "code",
     "collapsed": false,
     "input": [
      "import numpy as np"
     ],
     "language": "python",
     "metadata": {},
     "outputs": [],
     "prompt_number": 8
    },
    {
     "cell_type": "code",
     "collapsed": false,
     "input": [
      "data1"
     ],
     "language": "python",
     "metadata": {},
     "outputs": [
      {
       "metadata": {},
       "output_type": "pyout",
       "prompt_number": 198,
       "text": [
        "{'losses': [5, 8, 6, 1, 5, 10, 6, 12],\n",
        " 'team': ['Bears',\n",
        "  'Bears',\n",
        "  'Bears',\n",
        "  'Packers',\n",
        "  'Packers',\n",
        "  'Lions',\n",
        "  'Lions',\n",
        "  'Lions'],\n",
        " 'wins': [11, 8, 10, 15, 11, 6, 10, 4],\n",
        " 'year': [2010, 2011, 2012, 2011, 2012, 2010, 2011, 2012]}"
       ]
      }
     ],
     "prompt_number": 198
    },
    {
     "cell_type": "code",
     "collapsed": false,
     "input": [],
     "language": "python",
     "metadata": {},
     "outputs": []
    },
    {
     "cell_type": "code",
     "collapsed": false,
     "input": [],
     "language": "python",
     "metadata": {},
     "outputs": []
    },
    {
     "cell_type": "code",
     "collapsed": false,
     "input": [],
     "language": "python",
     "metadata": {},
     "outputs": []
    },
    {
     "cell_type": "code",
     "collapsed": false,
     "input": [],
     "language": "python",
     "metadata": {},
     "outputs": []
    },
    {
     "cell_type": "code",
     "collapsed": false,
     "input": [],
     "language": "python",
     "metadata": {},
     "outputs": []
    },
    {
     "cell_type": "code",
     "collapsed": false,
     "input": [],
     "language": "python",
     "metadata": {},
     "outputs": []
    },
    {
     "cell_type": "code",
     "collapsed": false,
     "input": [
      "query1 = data['Admit'].str.contains('Admitted')\n",
      "data_filtered_admit = data[query1]\n",
      "print data_filtered_admit"
     ],
     "language": "python",
     "metadata": {},
     "outputs": [
      {
       "output_type": "stream",
       "stream": "stdout",
       "text": [
        "       Admit  Gender Dept  Freq\n",
        "0   Admitted    Male    A   512\n",
        "2   Admitted  Female    A    89\n",
        "4   Admitted    Male    B   353\n",
        "6   Admitted  Female    B    17\n",
        "8   Admitted    Male    C   120\n",
        "10  Admitted  Female    C   202\n",
        "12  Admitted    Male    D   138\n",
        "14  Admitted  Female    D   131\n",
        "16  Admitted    Male    E    53\n",
        "18  Admitted  Female    E    94\n",
        "20  Admitted    Male    F    22\n",
        "22  Admitted  Female    F    24\n"
       ]
      }
     ],
     "prompt_number": 9
    },
    {
     "cell_type": "code",
     "collapsed": false,
     "input": [
      "query2 = data_filtered_admit['Gender'].str.contains('Male')\n",
      "data_filtered_admit_male = data_filtered_admit[query2]\n",
      "print data_filtered_admit_male"
     ],
     "language": "python",
     "metadata": {},
     "outputs": [
      {
       "output_type": "stream",
       "stream": "stdout",
       "text": [
        "       Admit Gender Dept  Freq\n",
        "0   Admitted   Male    A   512\n",
        "4   Admitted   Male    B   353\n",
        "8   Admitted   Male    C   120\n",
        "12  Admitted   Male    D   138\n",
        "16  Admitted   Male    E    53\n",
        "20  Admitted   Male    F    22\n"
       ]
      }
     ],
     "prompt_number": 10
    },
    {
     "cell_type": "code",
     "collapsed": false,
     "input": [
      "query2 = data_filtered_admit['Gender'].str.contains('Female')\n",
      "data_filtered_admit_female = data_filtered_admit[query2]\n",
      "print data_filtered_admit_female"
     ],
     "language": "python",
     "metadata": {},
     "outputs": [
      {
       "output_type": "stream",
       "stream": "stdout",
       "text": [
        "       Admit  Gender Dept  Freq\n",
        "2   Admitted  Female    A    89\n",
        "6   Admitted  Female    B    17\n",
        "10  Admitted  Female    C   202\n",
        "14  Admitted  Female    D   131\n",
        "18  Admitted  Female    E    94\n",
        "22  Admitted  Female    F    24\n"
       ]
      }
     ],
     "prompt_number": 17
    },
    {
     "cell_type": "code",
     "collapsed": false,
     "input": [
      "a_total = data_filtered_admit['Freq'].sum()\n",
      "a_total"
     ],
     "language": "python",
     "metadata": {},
     "outputs": [
      {
       "metadata": {},
       "output_type": "pyout",
       "prompt_number": 40,
       "text": [
        "1755"
       ]
      }
     ],
     "prompt_number": 40
    },
    {
     "cell_type": "code",
     "collapsed": false,
     "input": [],
     "language": "python",
     "metadata": {},
     "outputs": []
    },
    {
     "cell_type": "code",
     "collapsed": false,
     "input": [
      "query1 = data['Admit'].str.contains('Rejected')\n",
      "data_filtered_reject = data[query1]\n",
      "print data_filtered_reject"
     ],
     "language": "python",
     "metadata": {},
     "outputs": [
      {
       "output_type": "stream",
       "stream": "stdout",
       "text": [
        "       Admit  Gender Dept  Freq\n",
        "1   Rejected    Male    A   313\n",
        "3   Rejected  Female    A    19\n",
        "5   Rejected    Male    B   207\n",
        "7   Rejected  Female    B     8\n",
        "9   Rejected    Male    C   205\n",
        "11  Rejected  Female    C   391\n",
        "13  Rejected    Male    D   279\n",
        "15  Rejected  Female    D   244\n",
        "17  Rejected    Male    E   138\n",
        "19  Rejected  Female    E   299\n",
        "21  Rejected    Male    F   351\n",
        "23  Rejected  Female    F   317\n"
       ]
      }
     ],
     "prompt_number": 25
    },
    {
     "cell_type": "code",
     "collapsed": false,
     "input": [
      "s_total = data['Freq'].sum()\n",
      "s_total"
     ],
     "language": "python",
     "metadata": {},
     "outputs": [
      {
       "metadata": {},
       "output_type": "pyout",
       "prompt_number": 48,
       "text": [
        "4526"
       ]
      }
     ],
     "prompt_number": 48
    },
    {
     "cell_type": "code",
     "collapsed": false,
     "input": [],
     "language": "python",
     "metadata": {},
     "outputs": []
    },
    {
     "cell_type": "code",
     "collapsed": false,
     "input": [
      "r_total = data_filtered_reject['Freq'].sum()\n",
      "r_total"
     ],
     "language": "python",
     "metadata": {},
     "outputs": [
      {
       "metadata": {},
       "output_type": "pyout",
       "prompt_number": 49,
       "text": [
        "2771"
       ]
      }
     ],
     "prompt_number": 49
    },
    {
     "cell_type": "code",
     "collapsed": false,
     "input": [
      "a_total = data_filtered_admit['Freq'].sum()\n",
      "a_total"
     ],
     "language": "python",
     "metadata": {},
     "outputs": [
      {
       "metadata": {},
       "output_type": "pyout",
       "prompt_number": 51,
       "text": [
        "1755"
       ]
      }
     ],
     "prompt_number": 51
    },
    {
     "cell_type": "code",
     "collapsed": false,
     "input": [],
     "language": "python",
     "metadata": {},
     "outputs": []
    },
    {
     "cell_type": "code",
     "collapsed": false,
     "input": [],
     "language": "python",
     "metadata": {},
     "outputs": []
    },
    {
     "cell_type": "code",
     "collapsed": false,
     "input": [],
     "language": "python",
     "metadata": {},
     "outputs": []
    },
    {
     "cell_type": "code",
     "collapsed": false,
     "input": [
      "a_f = data_filtered_admit_female['Freq'].sum()\n",
      "a_f"
     ],
     "language": "python",
     "metadata": {},
     "outputs": [
      {
       "metadata": {},
       "output_type": "pyout",
       "prompt_number": 42,
       "text": [
        "557"
       ]
      }
     ],
     "prompt_number": 42
    },
    {
     "cell_type": "code",
     "collapsed": false,
     "input": [],
     "language": "python",
     "metadata": {},
     "outputs": []
    },
    {
     "cell_type": "code",
     "collapsed": false,
     "input": [
      "a_m = data_filtered_admit_male['Freq'].sum()\n",
      "a_m"
     ],
     "language": "python",
     "metadata": {},
     "outputs": [
      {
       "metadata": {},
       "output_type": "pyout",
       "prompt_number": 43,
       "text": [
        "1198"
       ]
      }
     ],
     "prompt_number": 43
    },
    {
     "cell_type": "code",
     "collapsed": false,
     "input": [],
     "language": "python",
     "metadata": {},
     "outputs": []
    },
    {
     "cell_type": "code",
     "collapsed": false,
     "input": [
      "query3 = data_filtered_reject['Gender'].str.contains('Male')\n",
      "data_filtered_reject_male = data_filtered_reject[query3]\n",
      "print data_filtered_reject_male"
     ],
     "language": "python",
     "metadata": {},
     "outputs": [
      {
       "output_type": "stream",
       "stream": "stdout",
       "text": [
        "       Admit Gender Dept  Freq\n",
        "1   Rejected   Male    A   313\n",
        "5   Rejected   Male    B   207\n",
        "9   Rejected   Male    C   205\n",
        "13  Rejected   Male    D   279\n",
        "17  Rejected   Male    E   138\n",
        "21  Rejected   Male    F   351\n"
       ]
      }
     ],
     "prompt_number": 35
    },
    {
     "cell_type": "code",
     "collapsed": false,
     "input": [
      "query4 = data_filtered_reject['Gender'].str.contains('Female')\n",
      "data_filtered_reject_female = data_filtered_reject[query4]\n",
      "print data_filtered_reject_female"
     ],
     "language": "python",
     "metadata": {},
     "outputs": [
      {
       "output_type": "stream",
       "stream": "stdout",
       "text": [
        "       Admit  Gender Dept  Freq\n",
        "3   Rejected  Female    A    19\n",
        "7   Rejected  Female    B     8\n",
        "11  Rejected  Female    C   391\n",
        "15  Rejected  Female    D   244\n",
        "19  Rejected  Female    E   299\n",
        "23  Rejected  Female    F   317\n"
       ]
      }
     ],
     "prompt_number": 36
    },
    {
     "cell_type": "code",
     "collapsed": false,
     "input": [
      "r_f = data_filtered_reject_female['Freq'].sum()\n",
      "r_f"
     ],
     "language": "python",
     "metadata": {},
     "outputs": [
      {
       "metadata": {},
       "output_type": "pyout",
       "prompt_number": 44,
       "text": [
        "1278"
       ]
      }
     ],
     "prompt_number": 44
    },
    {
     "cell_type": "code",
     "collapsed": false,
     "input": [],
     "language": "python",
     "metadata": {},
     "outputs": []
    },
    {
     "cell_type": "code",
     "collapsed": false,
     "input": [
      "r_m = data_filtered_reject_male['Freq'].sum()\n",
      "r_m"
     ],
     "language": "python",
     "metadata": {},
     "outputs": [
      {
       "metadata": {},
       "output_type": "pyout",
       "prompt_number": 45,
       "text": [
        "1493"
       ]
      }
     ],
     "prompt_number": 45
    },
    {
     "cell_type": "code",
     "collapsed": false,
     "input": [
      "d = {'Admit' : pd.Series([a_m, a_f, a_total], index=['Male', 'Female', 'Total']), \n",
      "   ....:      'Reject' : pd.Series([r_m, r_f, r_total], index=['Male', 'Female', 'Total'])}\n",
      "   ....: \n",
      "\n",
      "In [31]: df = pd.DataFrame(d)"
     ],
     "language": "python",
     "metadata": {},
     "outputs": [],
     "prompt_number": 54
    },
    {
     "cell_type": "code",
     "collapsed": false,
     "input": [
      "x = d['Admit']['Male']\n",
      "x"
     ],
     "language": "python",
     "metadata": {},
     "outputs": [
      {
       "metadata": {},
       "output_type": "pyout",
       "prompt_number": 57,
       "text": [
        "1198"
       ]
      }
     ],
     "prompt_number": 57
    },
    {
     "cell_type": "code",
     "collapsed": false,
     "input": [],
     "language": "python",
     "metadata": {},
     "outputs": []
    },
    {
     "cell_type": "code",
     "collapsed": false,
     "input": [],
     "language": "python",
     "metadata": {},
     "outputs": []
    },
    {
     "cell_type": "code",
     "collapsed": false,
     "input": [],
     "language": "python",
     "metadata": {},
     "outputs": []
    },
    {
     "cell_type": "code",
     "collapsed": false,
     "input": [
      "df"
     ],
     "language": "python",
     "metadata": {},
     "outputs": [
      {
       "html": [
        "<div style=\"max-height:1000px;max-width:1500px;overflow:auto;\">\n",
        "<table border=\"1\" class=\"dataframe\">\n",
        "  <thead>\n",
        "    <tr style=\"text-align: right;\">\n",
        "      <th></th>\n",
        "      <th>Admit</th>\n",
        "      <th>Reject</th>\n",
        "    </tr>\n",
        "  </thead>\n",
        "  <tbody>\n",
        "    <tr>\n",
        "      <th>Male</th>\n",
        "      <td> 1198</td>\n",
        "      <td> 1493</td>\n",
        "    </tr>\n",
        "    <tr>\n",
        "      <th>Female</th>\n",
        "      <td>  557</td>\n",
        "      <td> 1278</td>\n",
        "    </tr>\n",
        "    <tr>\n",
        "      <th>Total</th>\n",
        "      <td> 1755</td>\n",
        "      <td> 2771</td>\n",
        "    </tr>\n",
        "  </tbody>\n",
        "</table>\n",
        "</div>"
       ],
       "metadata": {},
       "output_type": "pyout",
       "prompt_number": 55,
       "text": [
        "        Admit  Reject\n",
        "Male     1198    1493\n",
        "Female    557    1278\n",
        "Total    1755    2771"
       ]
      }
     ],
     "prompt_number": 55
    },
    {
     "cell_type": "code",
     "collapsed": false,
     "input": [
      "d1 = {'Admit' : pd.Series([a_m, a_f, a_total], index=['Male', 'Female', 'Total']), \n",
      "   ....:      'Reject' : pd.Series([r_m, r_f, r_total], index=['Male', 'Female', 'Total']),\n",
      "                   'Total_app' : pd.Series([d['Admit']['Male'] + d['Reject']['Male'], d['Admit']['Female'] + d['Reject']['Female'], d['Admit']['Total'] + d['Reject']['Total']], index = ['Male', 'Female', 'Total'])}\n",
      "   ....: \n",
      "\n",
      "df1 = pd.DataFrame(d1)\n",
      "df1"
     ],
     "language": "python",
     "metadata": {},
     "outputs": [
      {
       "html": [
        "<div style=\"max-height:1000px;max-width:1500px;overflow:auto;\">\n",
        "<table border=\"1\" class=\"dataframe\">\n",
        "  <thead>\n",
        "    <tr style=\"text-align: right;\">\n",
        "      <th></th>\n",
        "      <th>Admit</th>\n",
        "      <th>Reject</th>\n",
        "      <th>Total_app</th>\n",
        "    </tr>\n",
        "  </thead>\n",
        "  <tbody>\n",
        "    <tr>\n",
        "      <th>Male</th>\n",
        "      <td> 1198</td>\n",
        "      <td> 1493</td>\n",
        "      <td> 2691</td>\n",
        "    </tr>\n",
        "    <tr>\n",
        "      <th>Female</th>\n",
        "      <td>  557</td>\n",
        "      <td> 1278</td>\n",
        "      <td> 1835</td>\n",
        "    </tr>\n",
        "    <tr>\n",
        "      <th>Total</th>\n",
        "      <td> 1755</td>\n",
        "      <td> 2771</td>\n",
        "      <td> 4526</td>\n",
        "    </tr>\n",
        "  </tbody>\n",
        "</table>\n",
        "</div>"
       ],
       "metadata": {},
       "output_type": "pyout",
       "prompt_number": 63,
       "text": [
        "        Admit  Reject  Total_app\n",
        "Male     1198    1493       2691\n",
        "Female    557    1278       1835\n",
        "Total    1755    2771       4526"
       ]
      }
     ],
     "prompt_number": 63
    },
    {
     "cell_type": "heading",
     "level": 6,
     "metadata": {},
     "source": [
      "    Trying using Stackover flow addvices"
     ]
    },
    {
     "cell_type": "code",
     "collapsed": false,
     "input": [
      "import scipy\n",
      "row1 = [91,90,51]\n",
      "row2 = [150,200,155]\n",
      "row3 = [109,198,172]\n",
      "data=[row1,row2,row3]\n",
      "scipy.stats.chisquare(data)"
     ],
     "language": "python",
     "metadata": {},
     "outputs": [
      {
       "ename": "AttributeError",
       "evalue": "'module' object has no attribute 'stats'",
       "output_type": "pyerr",
       "traceback": [
        "\u001b[0;31m---------------------------------------------------------------------------\u001b[0m\n\u001b[0;31mAttributeError\u001b[0m                            Traceback (most recent call last)",
        "\u001b[0;32m<ipython-input-68-4802c1393bc3>\u001b[0m in \u001b[0;36m<module>\u001b[0;34m()\u001b[0m\n\u001b[1;32m      4\u001b[0m \u001b[0mrow3\u001b[0m \u001b[0;34m=\u001b[0m \u001b[0;34m[\u001b[0m\u001b[0;36m109\u001b[0m\u001b[0;34m,\u001b[0m\u001b[0;36m198\u001b[0m\u001b[0;34m,\u001b[0m\u001b[0;36m172\u001b[0m\u001b[0;34m]\u001b[0m\u001b[0;34m\u001b[0m\u001b[0m\n\u001b[1;32m      5\u001b[0m \u001b[0mdata\u001b[0m\u001b[0;34m=\u001b[0m\u001b[0;34m[\u001b[0m\u001b[0mrow1\u001b[0m\u001b[0;34m,\u001b[0m\u001b[0mrow2\u001b[0m\u001b[0;34m,\u001b[0m\u001b[0mrow3\u001b[0m\u001b[0;34m]\u001b[0m\u001b[0;34m\u001b[0m\u001b[0m\n\u001b[0;32m----> 6\u001b[0;31m \u001b[0mscipy\u001b[0m\u001b[0;34m.\u001b[0m\u001b[0mstats\u001b[0m\u001b[0;34m.\u001b[0m\u001b[0mchisquare\u001b[0m\u001b[0;34m(\u001b[0m\u001b[0mdata\u001b[0m\u001b[0;34m)\u001b[0m\u001b[0;34m\u001b[0m\u001b[0m\n\u001b[0m",
        "\u001b[0;31mAttributeError\u001b[0m: 'module' object has no attribute 'stats'"
       ]
      }
     ],
     "prompt_number": 68
    },
    {
     "cell_type": "heading",
     "level": 1,
     "metadata": {},
     "source": [
      "3. Numpy\n"
     ]
    },
    {
     "cell_type": "heading",
     "level": 2,
     "metadata": {},
     "source": [
      "3.1 Functions for statistics:"
     ]
    },
    {
     "cell_type": "code",
     "collapsed": false,
     "input": [
      "numbers = [1, 2, 4, 5]\n",
      "np.mean(numbers)"
     ],
     "language": "python",
     "metadata": {},
     "outputs": [
      {
       "metadata": {},
       "output_type": "pyout",
       "prompt_number": 69,
       "text": [
        "3.0"
       ]
      }
     ],
     "prompt_number": 69
    },
    {
     "cell_type": "code",
     "collapsed": false,
     "input": [
      "np.median(numbers)"
     ],
     "language": "python",
     "metadata": {},
     "outputs": [
      {
       "metadata": {},
       "output_type": "pyout",
       "prompt_number": 70,
       "text": [
        "3.0"
       ]
      }
     ],
     "prompt_number": 70
    },
    {
     "cell_type": "code",
     "collapsed": false,
     "input": [
      "np.std(numbers)"
     ],
     "language": "python",
     "metadata": {},
     "outputs": [
      {
       "metadata": {},
       "output_type": "pyout",
       "prompt_number": 71,
       "text": [
        "1.5811388300841898"
       ]
      }
     ],
     "prompt_number": 71
    },
    {
     "cell_type": "markdown",
     "metadata": {},
     "source": [
      "import numpy as np\n",
      "\n",
      "'''\n",
      "The following code is to help you play with Numpy, which is a library \n",
      "that provides functions that are especially useful when you have to\n",
      "work with large arrays and matrices of numeric data, like doing \n",
      "matrix matrix multiplications. Also, Numpy is battle tested and \n",
      "optimized so that it runs fast, much faster than if you were working\n",
      "with Python lists directly.\n",
      "'''\n",
      "\n",
      "'''\n",
      "The array object class is the foundation of Numpy, and Numpy arrays are like\n",
      "lists in Python, except that every thing inside an array must be of the\n",
      "same type, like int or float.\n",
      "'''\n",
      "# Change False to True to see Numpy arrays in action\n",
      "if False:\n",
      "    array = np.array([1, 4, 5, 8], float)\n",
      "    print array\n",
      "    print \"\"\n",
      "    array = np.array([[1, 2, 3], [4, 5, 6]], float)  # a 2D array/Matrix\n",
      "    print array\n",
      "\n",
      "'''\n",
      "You can index, slice, and manipulate a Numpy array much like you would with a\n",
      "a Python list.\n",
      "'''\n",
      "# Change False to True to see array indexing and slicing in action\n",
      "if False:\n",
      "    array = np.array([1, 4, 5, 8], float)\n",
      "    print array\n",
      "    print \"\"\n",
      "    print array[1]\n",
      "    print \"\"\n",
      "    print array[:2]\n",
      "    print \"\"\n",
      "    array[1] = 5.0\n",
      "    print array[1]\n",
      "\n",
      "# Change False to True to see Matrix indexing and slicing in action\n",
      "if False:\n",
      "    two_D_array = np.array([[1, 2, 3], [4, 5, 6]], float)\n",
      "    print two_D_array\n",
      "    print \"\"\n",
      "    print two_D_array[1][1]\n",
      "    print \"\"\n",
      "    print two_D_array[1, :]\n",
      "    print \"\"\n",
      "    print two_D_array[:, 2]\n",
      "\n",
      "'''\n",
      "Here are some arithmetic operations that you can do with Numpy arrays\n",
      "'''\n",
      "# Change False to True to see Array arithmetics in action\n",
      "if False:\n",
      "    array_1 = np.array([1, 2, 3], float)\n",
      "    array_2 = np.array([5, 2, 6], float)\n",
      "    print array_1 + array_2\n",
      "    print \"\"\n",
      "    print array_1 - array_2\n",
      "    print \"\"\n",
      "    print array_1 * array_2\n",
      "\n",
      "# Change False to True to see Matrix arithmetics in action\n",
      "if False:\n",
      "    array_1 = np.array([[1, 2], [3, 4]], float)\n",
      "    array_2 = np.array([[5, 6], [7, 8]], float)\n",
      "    print array_1 + array_2\n",
      "    print \"\"\n",
      "    print array_1 - array_2\n",
      "    print \"\"\n",
      "    print array_1 * array_2\n",
      "\n",
      "'''\n",
      "In addition to the standard arthimetic operations, Numpy also has a range of\n",
      "other mathematical operations that you can apply to Numpy arrays, such as\n",
      "mean and dot product.\n",
      "\n",
      "Both of these functions will be useful in later programming quizzes.\n",
      "'''\n",
      "if False:\n",
      "    array_1 = np.array([1, 2, 3], float)\n",
      "    array_2 = np.array([[6], [7], [8]], float)\n",
      "    print np.mean(array_1)\n",
      "    print np.mean(array_2)\n",
      "    print \"\"\n",
      "    print np.dot(array_1, array_2)\n"
     ]
    },
    {
     "cell_type": "code",
     "collapsed": false,
     "input": [
      "array_1 = np.array([1, 2, 3, 4], float)\n",
      "print array_1"
     ],
     "language": "python",
     "metadata": {},
     "outputs": [
      {
       "output_type": "stream",
       "stream": "stdout",
       "text": [
        "[ 1.  2.  3.  4.]\n"
       ]
      }
     ],
     "prompt_number": 83
    },
    {
     "cell_type": "code",
     "collapsed": false,
     "input": [],
     "language": "python",
     "metadata": {},
     "outputs": []
    },
    {
     "cell_type": "code",
     "collapsed": false,
     "input": [
      "array_2 = np.array([[1, 2, 3, 4], [ 5, 4, 6, 7]], float)\n",
      "print array_2"
     ],
     "language": "python",
     "metadata": {},
     "outputs": [
      {
       "output_type": "stream",
       "stream": "stdout",
       "text": [
        "[[ 1.  2.  3.  4.]\n",
        " [ 5.  4.  6.  7.]]\n"
       ]
      }
     ],
     "prompt_number": 87
    },
    {
     "cell_type": "code",
     "collapsed": false,
     "input": [],
     "language": "python",
     "metadata": {},
     "outputs": []
    },
    {
     "cell_type": "code",
     "collapsed": false,
     "input": [],
     "language": "python",
     "metadata": {},
     "outputs": []
    },
    {
     "cell_type": "code",
     "collapsed": false,
     "input": [],
     "language": "python",
     "metadata": {},
     "outputs": []
    },
    {
     "cell_type": "code",
     "collapsed": false,
     "input": [],
     "language": "python",
     "metadata": {},
     "outputs": []
    },
    {
     "cell_type": "code",
     "collapsed": false,
     "input": [
      "d = pd.DataFrame(array2)"
     ],
     "language": "python",
     "metadata": {},
     "outputs": [],
     "prompt_number": 88
    },
    {
     "cell_type": "code",
     "collapsed": false,
     "input": [],
     "language": "python",
     "metadata": {},
     "outputs": []
    },
    {
     "cell_type": "code",
     "collapsed": false,
     "input": [
      "d"
     ],
     "language": "python",
     "metadata": {},
     "outputs": [
      {
       "html": [
        "<div style=\"max-height:1000px;max-width:1500px;overflow:auto;\">\n",
        "<table border=\"1\" class=\"dataframe\">\n",
        "  <thead>\n",
        "    <tr style=\"text-align: right;\">\n",
        "      <th></th>\n",
        "      <th>0</th>\n",
        "      <th>1</th>\n",
        "      <th>2</th>\n",
        "      <th>3</th>\n",
        "    </tr>\n",
        "  </thead>\n",
        "  <tbody>\n",
        "    <tr>\n",
        "      <th>0</th>\n",
        "      <td> 1</td>\n",
        "      <td> 2</td>\n",
        "      <td> 3</td>\n",
        "      <td> 4</td>\n",
        "    </tr>\n",
        "    <tr>\n",
        "      <th>1</th>\n",
        "      <td> 5</td>\n",
        "      <td> 4</td>\n",
        "      <td> 6</td>\n",
        "      <td> 7</td>\n",
        "    </tr>\n",
        "  </tbody>\n",
        "</table>\n",
        "</div>"
       ],
       "metadata": {},
       "output_type": "pyout",
       "prompt_number": 89,
       "text": [
        "   0  1  2  3\n",
        "0  1  2  3  4\n",
        "1  5  4  6  7"
       ]
      }
     ],
     "prompt_number": 89
    },
    {
     "cell_type": "code",
     "collapsed": false,
     "input": [],
     "language": "python",
     "metadata": {},
     "outputs": []
    },
    {
     "cell_type": "code",
     "collapsed": false,
     "input": [
      "array_1+ array_2"
     ],
     "language": "python",
     "metadata": {},
     "outputs": [
      {
       "metadata": {},
       "output_type": "pyout",
       "prompt_number": 90,
       "text": [
        "array([[  2.,   4.,   6.,   8.],\n",
        "       [  6.,   6.,   9.,  11.]])"
       ]
      }
     ],
     "prompt_number": 90
    },
    {
     "cell_type": "code",
     "collapsed": false,
     "input": [
      "array_1*array_2"
     ],
     "language": "python",
     "metadata": {},
     "outputs": [
      {
       "metadata": {},
       "output_type": "pyout",
       "prompt_number": 91,
       "text": [
        "array([[  1.,   4.,   9.,  16.],\n",
        "       [  5.,   8.,  18.,  28.]])"
       ]
      }
     ],
     "prompt_number": 91
    },
    {
     "cell_type": "code",
     "collapsed": false,
     "input": [
      "array_3 = np.array(['Thuy', 'Long', 'Thuc'], str)\n",
      "array_4 = np.array([[6], [7], [8]], float)\n"
     ],
     "language": "python",
     "metadata": {},
     "outputs": [],
     "prompt_number": 103
    },
    {
     "cell_type": "code",
     "collapsed": false,
     "input": [],
     "language": "python",
     "metadata": {},
     "outputs": []
    },
    {
     "cell_type": "code",
     "collapsed": false,
     "input": [],
     "language": "python",
     "metadata": {},
     "outputs": []
    },
    {
     "cell_type": "code",
     "collapsed": false,
     "input": [],
     "language": "python",
     "metadata": {},
     "outputs": []
    },
    {
     "cell_type": "code",
     "collapsed": false,
     "input": [],
     "language": "python",
     "metadata": {},
     "outputs": []
    },
    {
     "cell_type": "code",
     "collapsed": false,
     "input": [],
     "language": "python",
     "metadata": {},
     "outputs": []
    },
    {
     "cell_type": "code",
     "collapsed": false,
     "input": [],
     "language": "python",
     "metadata": {},
     "outputs": []
    },
    {
     "cell_type": "code",
     "collapsed": false,
     "input": [],
     "language": "python",
     "metadata": {},
     "outputs": []
    },
    {
     "cell_type": "code",
     "collapsed": false,
     "input": [
      "array_4\n",
      "d2 = pd.DataFrame(array_4, array_3)\n",
      "d2"
     ],
     "language": "python",
     "metadata": {},
     "outputs": [
      {
       "html": [
        "<div style=\"max-height:1000px;max-width:1500px;overflow:auto;\">\n",
        "<table border=\"1\" class=\"dataframe\">\n",
        "  <thead>\n",
        "    <tr style=\"text-align: right;\">\n",
        "      <th></th>\n",
        "      <th>0</th>\n",
        "    </tr>\n",
        "  </thead>\n",
        "  <tbody>\n",
        "    <tr>\n",
        "      <th>Thuy</th>\n",
        "      <td> 6</td>\n",
        "    </tr>\n",
        "    <tr>\n",
        "      <th>Long</th>\n",
        "      <td> 7</td>\n",
        "    </tr>\n",
        "    <tr>\n",
        "      <th>Thuc</th>\n",
        "      <td> 8</td>\n",
        "    </tr>\n",
        "  </tbody>\n",
        "</table>\n",
        "</div>"
       ],
       "metadata": {},
       "output_type": "pyout",
       "prompt_number": 104,
       "text": [
        "      0\n",
        "Thuy  6\n",
        "Long  7\n",
        "Thuc  8"
       ]
      }
     ],
     "prompt_number": 104
    },
    {
     "cell_type": "markdown",
     "metadata": {},
     "source": [
      "import pandas as pd\n",
      "\n",
      "'''\n",
      "The following code is to help you play with the concept of Series in Pandas.\n",
      "\n",
      "You can think of Series as an one-dimensional object that is similar to\n",
      "an array, list, or column in a database. By default, it will assign an\n",
      "index label to each item in the Series ranging from 0 to N, where N is\n",
      "the number of items in the Series minus one.\n",
      "\n",
      "Please feel free to play around with the concept of Series and see what it does\n",
      "\n",
      "*This playground is inspired by Greg Reda's post on Intro to Pandas Data Structures:\n",
      "http://www.gregreda.com/2013/10/26/intro-to-pandas-data-structures/\n",
      "'''\n",
      "# Change False to True to create a Series object\n",
      "if False:\n",
      "    series = pd.Series(['Dave', 'Cheng-Han', 'Udacity', 42, -1789710578])\n",
      "    print series\n",
      "\n",
      "'''\n",
      "You can also manually assign indices to the items in the Series when\n",
      "creating the series\n",
      "'''\n",
      "\n",
      "# Change False to True to see custom index in action\n",
      "if False:\n",
      "    series = pd.Series(['Dave', 'Cheng-Han', 359, 9001],\n",
      "                       index=['Instructor', 'Curriculum Manager',\n",
      "                              'Course Number', 'Power Level'])\n",
      "    print series\n",
      "\n",
      "'''\n",
      "You can use index to select specific items from the Series\n",
      "'''\n",
      "# Change False to True to see Series indexing in action\n",
      "if True:\n",
      "    series = pd.Series(['Dave', 'Cheng-Han', 359, 9001],\n",
      "                       index=['Instructor', 'Curriculum Manager',\n",
      "                              'Course Number', 'Power Level'])\n",
      "    print series['Instructor']\n",
      "    print \"\"\n",
      "    print series[['Instructor', 'Curriculum Manager', 'Course Number']]\n",
      "\n",
      "'''\n",
      "You can also use boolean operators to select specific items from the Series\n",
      "'''\n",
      "# Change False to True to see boolean indexing in action\n",
      "if True:\n",
      "    cuteness = pd.Series([1, 2, 3, 4, 5], index=['Cockroach', 'Fish', 'Mini Pig',\n",
      "                                                 'Puppy', 'Kitten'])\n",
      "    print cuteness > 3\n",
      "    print \"\"\n",
      "    print cuteness[cuteness > 3]\n"
     ]
    },
    {
     "cell_type": "markdown",
     "metadata": {},
     "source": [
      "import numpy as np\n",
      "import pandas as pd\n",
      "\n",
      "'''\n",
      "The following code is to help you play with the concept of Dataframe in Pandas.\n",
      "\n",
      "You can think of a Dataframe as something with rows and columns. It is\n",
      "similar to a spreadsheet, a database table, or R's data.frame object.\n",
      "\n",
      "*This playground is inspired by Greg Reda's post on Intro to Pandas Data Structures:\n",
      "http://www.gregreda.com/2013/10/26/intro-to-pandas-data-structures/\n",
      "'''\n",
      "\n",
      "'''\n",
      "To create a dataframe, you can pass a dictionary of lists to the Dataframe\n",
      "constructor:\n",
      "1) The key of the dictionary will be the column name\n",
      "2) The associating list will be the values within that column.\n",
      "'''\n",
      "# Change False to True to see Dataframes in action\n",
      "if True:\n",
      "    data = {'year': [2010, 2011, 2012, 2011, 2012, 2010, 2011, 2012],\n",
      "            'team': ['Bears', 'Bears', 'Bears', 'Packers', 'Packers', 'Lions',\n",
      "                     'Lions', 'Lions'],\n",
      "            'wins': [11, 8, 10, 15, 11, 6, 10, 4],\n",
      "            'losses': [5, 8, 6, 1, 5, 10, 6, 12]}\n",
      "    football = pd.DataFrame(data)\n",
      "    print football\n",
      "\n",
      "'''\n",
      "Pandas also has various functions that will help you understand some basic\n",
      "information about your data frame. Some of these functions are:\n",
      "1) dtypes: to get the datatype for each column\n",
      "2) describe: useful for seeing basic statistics of the dataframe's numerical\n",
      "   columns\n",
      "3) head: displays the first five rows of the dataset\n",
      "4) tail: displays the last five rows of the dataset\n",
      "'''\n",
      "# Change False to True to see these functions in action\n",
      "if True:\n",
      "    data = {'year': [2010, 2011, 2012, 2011, 2012, 2010, 2011, 2012],\n",
      "            'team': ['Bears', 'Bears', 'Bears', 'Packers', 'Packers', 'Lions',\n",
      "                     'Lions', 'Lions'],\n",
      "            'wins': [11, 8, 10, 15, 11, 6, 10, 4],\n",
      "            'losses': [5, 8, 6, 1, 5, 10, 6, 12]}\n",
      "    football = pd.DataFrame(data)\n",
      "    print football.dtypes\n",
      "    print \"\"\n",
      "    print football.describe()\n",
      "    print \"\"\n",
      "    print football.head()\n",
      "    print \"\"\n",
      "    print football.tail()\n"
     ]
    },
    {
     "cell_type": "code",
     "collapsed": false,
     "input": [
      "olympic_medal_counts_df = pd.DataFrame({'country_name': ['Russian Fed.', 'Norway', 'Canada', 'United States',\n",
      "                 'Netherlands', 'Germany', 'Switzerland', 'Belarus',\n",
      "                 'Austria', 'France', 'Poland', 'China', 'Korea', \n",
      "                 'Sweden', 'Czech Republic', 'Slovenia', 'Japan',\n",
      "                 'Finland', 'Great Britain', 'Ukraine', 'Slovakia',\n",
      "                 'Italy', 'Latvia', 'Australia', 'Croatia', 'Kazakhstan'],\n",
      "             'gold': [13, 11, 10, 9, 8, 8, 6, 5, 4, 4, 4, 3, 3, 2, 2, 2, 1, 1, 1, 1, 1, 0, 0, 0, 0, 0],\n",
      "             'silver': [11, 5, 10, 7, 7, 6, 3, 0, 8, 4, 1, 4, 3, 7, 4, 2, 4, 3, 1, 0, 0, 2, 2, 2, 1, 0],\n",
      "             'bronze': [9, 10, 5, 12, 9, 5, 2, 1, 5, 7, 1, 2, 2, 6, 2, 4, 3, 1, 2, 1, 0, 6, 2, 1, 0, 1]})\n",
      "print olympic_medal_counts_df"
     ],
     "language": "python",
     "metadata": {},
     "outputs": [
      {
       "output_type": "stream",
       "stream": "stdout",
       "text": [
        "    bronze    country_name  gold  silver\n",
        "0        9    Russian Fed.    13      11\n",
        "1       10          Norway    11       5\n",
        "2        5          Canada    10      10\n",
        "3       12   United States     9       7\n",
        "4        9     Netherlands     8       7\n",
        "5        5         Germany     8       6\n",
        "6        2     Switzerland     6       3\n",
        "7        1         Belarus     5       0\n",
        "8        5         Austria     4       8\n",
        "9        7          France     4       4\n",
        "10       1          Poland     4       1\n",
        "11       2           China     3       4\n",
        "12       2           Korea     3       3\n",
        "13       6          Sweden     2       7\n",
        "14       2  Czech Republic     2       4\n",
        "15       4        Slovenia     2       2\n",
        "16       3           Japan     1       4\n",
        "17       1         Finland     1       3\n",
        "18       2   Great Britain     1       1\n",
        "19       1         Ukraine     1       0\n",
        "20       0        Slovakia     1       0\n",
        "21       6           Italy     0       2\n",
        "22       2          Latvia     0       2\n",
        "23       1       Australia     0       2\n",
        "24       0         Croatia     0       1\n",
        "25       1      Kazakhstan     0       0\n"
       ]
      }
     ],
     "prompt_number": 107
    },
    {
     "cell_type": "code",
     "collapsed": false,
     "input": [
      "olympic_medal_counts_df['country_name']"
     ],
     "language": "python",
     "metadata": {},
     "outputs": [
      {
       "metadata": {},
       "output_type": "pyout",
       "prompt_number": 109,
       "text": [
        "0       Russian Fed.\n",
        "1             Norway\n",
        "2             Canada\n",
        "3      United States\n",
        "4        Netherlands\n",
        "5            Germany\n",
        "6        Switzerland\n",
        "7            Belarus\n",
        "8            Austria\n",
        "9             France\n",
        "10            Poland\n",
        "11             China\n",
        "12             Korea\n",
        "13            Sweden\n",
        "14    Czech Republic\n",
        "15          Slovenia\n",
        "16             Japan\n",
        "17           Finland\n",
        "18     Great Britain\n",
        "19           Ukraine\n",
        "20          Slovakia\n",
        "21             Italy\n",
        "22            Latvia\n",
        "23         Australia\n",
        "24           Croatia\n",
        "25        Kazakhstan\n",
        "Name: country_name, dtype: object"
       ]
      }
     ],
     "prompt_number": 109
    },
    {
     "cell_type": "code",
     "collapsed": false,
     "input": [
      "olympic_medal_counts_df[['country_name', 'gold']]"
     ],
     "language": "python",
     "metadata": {},
     "outputs": [
      {
       "html": [
        "<div style=\"max-height:1000px;max-width:1500px;overflow:auto;\">\n",
        "<table border=\"1\" class=\"dataframe\">\n",
        "  <thead>\n",
        "    <tr style=\"text-align: right;\">\n",
        "      <th></th>\n",
        "      <th>country_name</th>\n",
        "      <th>gold</th>\n",
        "    </tr>\n",
        "  </thead>\n",
        "  <tbody>\n",
        "    <tr>\n",
        "      <th>0 </th>\n",
        "      <td>   Russian Fed.</td>\n",
        "      <td> 13</td>\n",
        "    </tr>\n",
        "    <tr>\n",
        "      <th>1 </th>\n",
        "      <td>         Norway</td>\n",
        "      <td> 11</td>\n",
        "    </tr>\n",
        "    <tr>\n",
        "      <th>2 </th>\n",
        "      <td>         Canada</td>\n",
        "      <td> 10</td>\n",
        "    </tr>\n",
        "    <tr>\n",
        "      <th>3 </th>\n",
        "      <td>  United States</td>\n",
        "      <td>  9</td>\n",
        "    </tr>\n",
        "    <tr>\n",
        "      <th>4 </th>\n",
        "      <td>    Netherlands</td>\n",
        "      <td>  8</td>\n",
        "    </tr>\n",
        "    <tr>\n",
        "      <th>5 </th>\n",
        "      <td>        Germany</td>\n",
        "      <td>  8</td>\n",
        "    </tr>\n",
        "    <tr>\n",
        "      <th>6 </th>\n",
        "      <td>    Switzerland</td>\n",
        "      <td>  6</td>\n",
        "    </tr>\n",
        "    <tr>\n",
        "      <th>7 </th>\n",
        "      <td>        Belarus</td>\n",
        "      <td>  5</td>\n",
        "    </tr>\n",
        "    <tr>\n",
        "      <th>8 </th>\n",
        "      <td>        Austria</td>\n",
        "      <td>  4</td>\n",
        "    </tr>\n",
        "    <tr>\n",
        "      <th>9 </th>\n",
        "      <td>         France</td>\n",
        "      <td>  4</td>\n",
        "    </tr>\n",
        "    <tr>\n",
        "      <th>10</th>\n",
        "      <td>         Poland</td>\n",
        "      <td>  4</td>\n",
        "    </tr>\n",
        "    <tr>\n",
        "      <th>11</th>\n",
        "      <td>          China</td>\n",
        "      <td>  3</td>\n",
        "    </tr>\n",
        "    <tr>\n",
        "      <th>12</th>\n",
        "      <td>          Korea</td>\n",
        "      <td>  3</td>\n",
        "    </tr>\n",
        "    <tr>\n",
        "      <th>13</th>\n",
        "      <td>         Sweden</td>\n",
        "      <td>  2</td>\n",
        "    </tr>\n",
        "    <tr>\n",
        "      <th>14</th>\n",
        "      <td> Czech Republic</td>\n",
        "      <td>  2</td>\n",
        "    </tr>\n",
        "    <tr>\n",
        "      <th>15</th>\n",
        "      <td>       Slovenia</td>\n",
        "      <td>  2</td>\n",
        "    </tr>\n",
        "    <tr>\n",
        "      <th>16</th>\n",
        "      <td>          Japan</td>\n",
        "      <td>  1</td>\n",
        "    </tr>\n",
        "    <tr>\n",
        "      <th>17</th>\n",
        "      <td>        Finland</td>\n",
        "      <td>  1</td>\n",
        "    </tr>\n",
        "    <tr>\n",
        "      <th>18</th>\n",
        "      <td>  Great Britain</td>\n",
        "      <td>  1</td>\n",
        "    </tr>\n",
        "    <tr>\n",
        "      <th>19</th>\n",
        "      <td>        Ukraine</td>\n",
        "      <td>  1</td>\n",
        "    </tr>\n",
        "    <tr>\n",
        "      <th>20</th>\n",
        "      <td>       Slovakia</td>\n",
        "      <td>  1</td>\n",
        "    </tr>\n",
        "    <tr>\n",
        "      <th>21</th>\n",
        "      <td>          Italy</td>\n",
        "      <td>  0</td>\n",
        "    </tr>\n",
        "    <tr>\n",
        "      <th>22</th>\n",
        "      <td>         Latvia</td>\n",
        "      <td>  0</td>\n",
        "    </tr>\n",
        "    <tr>\n",
        "      <th>23</th>\n",
        "      <td>      Australia</td>\n",
        "      <td>  0</td>\n",
        "    </tr>\n",
        "    <tr>\n",
        "      <th>24</th>\n",
        "      <td>        Croatia</td>\n",
        "      <td>  0</td>\n",
        "    </tr>\n",
        "    <tr>\n",
        "      <th>25</th>\n",
        "      <td>     Kazakhstan</td>\n",
        "      <td>  0</td>\n",
        "    </tr>\n",
        "  </tbody>\n",
        "</table>\n",
        "</div>"
       ],
       "metadata": {},
       "output_type": "pyout",
       "prompt_number": 110,
       "text": [
        "      country_name  gold\n",
        "0     Russian Fed.    13\n",
        "1           Norway    11\n",
        "2           Canada    10\n",
        "3    United States     9\n",
        "4      Netherlands     8\n",
        "5          Germany     8\n",
        "6      Switzerland     6\n",
        "7          Belarus     5\n",
        "8          Austria     4\n",
        "9           France     4\n",
        "10          Poland     4\n",
        "11           China     3\n",
        "12           Korea     3\n",
        "13          Sweden     2\n",
        "14  Czech Republic     2\n",
        "15        Slovenia     2\n",
        "16           Japan     1\n",
        "17         Finland     1\n",
        "18   Great Britain     1\n",
        "19         Ukraine     1\n",
        "20        Slovakia     1\n",
        "21           Italy     0\n",
        "22          Latvia     0\n",
        "23       Australia     0\n",
        "24         Croatia     0\n",
        "25      Kazakhstan     0"
       ]
      }
     ],
     "prompt_number": 110
    },
    {
     "cell_type": "code",
     "collapsed": false,
     "input": [
      "olympic_medal_counts_df[olympic_medal_counts_df['gold'] >= 4]"
     ],
     "language": "python",
     "metadata": {},
     "outputs": [
      {
       "html": [
        "<div style=\"max-height:1000px;max-width:1500px;overflow:auto;\">\n",
        "<table border=\"1\" class=\"dataframe\">\n",
        "  <thead>\n",
        "    <tr style=\"text-align: right;\">\n",
        "      <th></th>\n",
        "      <th>bronze</th>\n",
        "      <th>country_name</th>\n",
        "      <th>gold</th>\n",
        "      <th>silver</th>\n",
        "    </tr>\n",
        "  </thead>\n",
        "  <tbody>\n",
        "    <tr>\n",
        "      <th>0 </th>\n",
        "      <td>  9</td>\n",
        "      <td>  Russian Fed.</td>\n",
        "      <td> 13</td>\n",
        "      <td> 11</td>\n",
        "    </tr>\n",
        "    <tr>\n",
        "      <th>1 </th>\n",
        "      <td> 10</td>\n",
        "      <td>        Norway</td>\n",
        "      <td> 11</td>\n",
        "      <td>  5</td>\n",
        "    </tr>\n",
        "    <tr>\n",
        "      <th>2 </th>\n",
        "      <td>  5</td>\n",
        "      <td>        Canada</td>\n",
        "      <td> 10</td>\n",
        "      <td> 10</td>\n",
        "    </tr>\n",
        "    <tr>\n",
        "      <th>3 </th>\n",
        "      <td> 12</td>\n",
        "      <td> United States</td>\n",
        "      <td>  9</td>\n",
        "      <td>  7</td>\n",
        "    </tr>\n",
        "    <tr>\n",
        "      <th>4 </th>\n",
        "      <td>  9</td>\n",
        "      <td>   Netherlands</td>\n",
        "      <td>  8</td>\n",
        "      <td>  7</td>\n",
        "    </tr>\n",
        "    <tr>\n",
        "      <th>5 </th>\n",
        "      <td>  5</td>\n",
        "      <td>       Germany</td>\n",
        "      <td>  8</td>\n",
        "      <td>  6</td>\n",
        "    </tr>\n",
        "    <tr>\n",
        "      <th>6 </th>\n",
        "      <td>  2</td>\n",
        "      <td>   Switzerland</td>\n",
        "      <td>  6</td>\n",
        "      <td>  3</td>\n",
        "    </tr>\n",
        "    <tr>\n",
        "      <th>7 </th>\n",
        "      <td>  1</td>\n",
        "      <td>       Belarus</td>\n",
        "      <td>  5</td>\n",
        "      <td>  0</td>\n",
        "    </tr>\n",
        "    <tr>\n",
        "      <th>8 </th>\n",
        "      <td>  5</td>\n",
        "      <td>       Austria</td>\n",
        "      <td>  4</td>\n",
        "      <td>  8</td>\n",
        "    </tr>\n",
        "    <tr>\n",
        "      <th>9 </th>\n",
        "      <td>  7</td>\n",
        "      <td>        France</td>\n",
        "      <td>  4</td>\n",
        "      <td>  4</td>\n",
        "    </tr>\n",
        "    <tr>\n",
        "      <th>10</th>\n",
        "      <td>  1</td>\n",
        "      <td>        Poland</td>\n",
        "      <td>  4</td>\n",
        "      <td>  1</td>\n",
        "    </tr>\n",
        "  </tbody>\n",
        "</table>\n",
        "</div>"
       ],
       "metadata": {},
       "output_type": "pyout",
       "prompt_number": 111,
       "text": [
        "    bronze   country_name  gold  silver\n",
        "0        9   Russian Fed.    13      11\n",
        "1       10         Norway    11       5\n",
        "2        5         Canada    10      10\n",
        "3       12  United States     9       7\n",
        "4        9    Netherlands     8       7\n",
        "5        5        Germany     8       6\n",
        "6        2    Switzerland     6       3\n",
        "7        1        Belarus     5       0\n",
        "8        5        Austria     4       8\n",
        "9        7         France     4       4\n",
        "10       1         Poland     4       1"
       ]
      }
     ],
     "prompt_number": 111
    },
    {
     "cell_type": "code",
     "collapsed": false,
     "input": [
      "olympic_medal_counts_df['country_name'][olympic_medal_counts_df['gold'] > 5]"
     ],
     "language": "python",
     "metadata": {},
     "outputs": [
      {
       "metadata": {},
       "output_type": "pyout",
       "prompt_number": 117,
       "text": [
        "0     Russian Fed.\n",
        "1           Norway\n",
        "2           Canada\n",
        "3    United States\n",
        "4      Netherlands\n",
        "5          Germany\n",
        "6      Switzerland\n",
        "Name: country_name, dtype: object"
       ]
      }
     ],
     "prompt_number": 117
    },
    {
     "cell_type": "code",
     "collapsed": false,
     "input": [
      "import pandas as pd\n",
      "\n",
      "'''\n",
      "You can think of a DataFrame as a group of Series that share an index.\n",
      "This makes it easy to select specific columns that you want from the \n",
      "DataFrame. \n",
      "\n",
      "Also a couple pointers:\n",
      "1) Selecting a single column from the DataFrame will return a Series\n",
      "2) Selecting multiple columns from the DataFrame will return a DataFrame\n",
      "\n",
      "*This playground is inspired by Greg Reda's post on Intro to Pandas Data Structures:\n",
      "http://www.gregreda.com/2013/10/26/intro-to-pandas-data-structures/\n",
      "'''\n",
      "# Change False to True to see Series indexing in action\n",
      "if False:\n",
      "    data = {'year': [2010, 2011, 2012, 2011, 2012, 2010, 2011, 2012],\n",
      "            'team': ['Bears', 'Bears', 'Bears', 'Packers', 'Packers', 'Lions',\n",
      "                     'Lions', 'Lions'],\n",
      "            'wins': [11, 8, 10, 15, 11, 6, 10, 4],\n",
      "            'losses': [5, 8, 6, 1, 5, 10, 6, 12]}\n",
      "    football = pd.DataFrame(data)\n",
      "    print football['year']\n",
      "    print ''\n",
      "    print football.year  # shorthand for football['year']\n",
      "    print ''\n",
      "    print football[['year', 'wins', 'losses']]\n",
      "\n",
      "'''\n",
      "Row selection can be done through multiple ways.\n",
      "\n",
      "Some of the basic and common methods are:\n",
      "   1) Slicing\n",
      "   2) An individual index (through the functions iloc or loc)\n",
      "   3) Boolean indexing\n",
      "\n",
      "You can also combine multiple selection requirements through boolean\n",
      "operators like & (and) or | (or)\n",
      "'''\n",
      "# Change False to True to see boolean indexing in action\n",
      "if False:\n",
      "    data = {'year': [2010, 2011, 2012, 2011, 2012, 2010, 2011, 2012],\n",
      "            'team': ['Bears', 'Bears', 'Bears', 'Packers', 'Packers', 'Lions',\n",
      "                     'Lions', 'Lions'],\n",
      "            'wins': [11, 8, 10, 15, 11, 6, 10, 4],\n",
      "            'losses': [5, 8, 6, 1, 5, 10, 6, 12]}\n",
      "    football = pd.DataFrame(data)\n",
      "    print football.iloc[[0]]\n",
      "    print \"\"\n",
      "    print football.loc[[0]]\n",
      "    print \"\"\n",
      "    print football[3:5]\n",
      "    print \"\"\n",
      "    print football[football.wins > 10]\n",
      "    print \"\"\n",
      "    print football[(football.wins > 10) & (football.team == \"Packers\")]\n"
     ],
     "language": "python",
     "metadata": {},
     "outputs": []
    },
    {
     "cell_type": "code",
     "collapsed": false,
     "input": [
      "data = {'year': [2010, 2011, 2012, 2011, 2012, 2010, 2011, 2012],\n",
      "            'team': ['Bears', 'Bears', 'Bears', 'Packers', 'Packers', 'Lions',\n",
      "                     'Lions', 'Lions'],\n",
      "            'wins': [11, 8, 10, 15, 11, 6, 10, 4],\n",
      "            'losses': [5, 8, 6, 1, 5, 10, 6, 12]}\n",
      "football = pd.DataFrame(data)"
     ],
     "language": "python",
     "metadata": {},
     "outputs": [],
     "prompt_number": 118
    },
    {
     "cell_type": "code",
     "collapsed": false,
     "input": [
      "print football"
     ],
     "language": "python",
     "metadata": {},
     "outputs": [
      {
       "output_type": "stream",
       "stream": "stdout",
       "text": [
        "   losses     team  wins  year\n",
        "0       5    Bears    11  2010\n",
        "1       8    Bears     8  2011\n",
        "2       6    Bears    10  2012\n",
        "3       1  Packers    15  2011\n",
        "4       5  Packers    11  2012\n",
        "5      10    Lions     6  2010\n",
        "6       6    Lions    10  2011\n",
        "7      12    Lions     4  2012\n"
       ]
      }
     ],
     "prompt_number": 119
    },
    {
     "cell_type": "code",
     "collapsed": false,
     "input": [
      "print football['team']"
     ],
     "language": "python",
     "metadata": {},
     "outputs": [
      {
       "output_type": "stream",
       "stream": "stdout",
       "text": [
        "0      Bears\n",
        "1      Bears\n",
        "2      Bears\n",
        "3    Packers\n",
        "4    Packers\n",
        "5      Lions\n",
        "6      Lions\n",
        "7      Lions\n",
        "Name: team, dtype: object\n"
       ]
      }
     ],
     "prompt_number": 120
    },
    {
     "cell_type": "code",
     "collapsed": false,
     "input": [
      "print football[['year', 'wins', 'losses']]"
     ],
     "language": "python",
     "metadata": {},
     "outputs": [
      {
       "output_type": "stream",
       "stream": "stdout",
       "text": [
        "   year  wins  losses\n",
        "0  2010    11       5\n",
        "1  2011     8       8\n",
        "2  2012    10       6\n",
        "3  2011    15       1\n",
        "4  2012    11       5\n",
        "5  2010     6      10\n",
        "6  2011    10       6\n",
        "7  2012     4      12\n"
       ]
      }
     ],
     "prompt_number": 123
    },
    {
     "cell_type": "code",
     "collapsed": false,
     "input": [
      "print football.year"
     ],
     "language": "python",
     "metadata": {},
     "outputs": [
      {
       "output_type": "stream",
       "stream": "stdout",
       "text": [
        "0    2010\n",
        "1    2011\n",
        "2    2012\n",
        "3    2011\n",
        "4    2012\n",
        "5    2010\n",
        "6    2011\n",
        "7    2012\n",
        "Name: year, dtype: int64\n"
       ]
      }
     ],
     "prompt_number": 124
    },
    {
     "cell_type": "code",
     "collapsed": false,
     "input": [
      "print football[2:3]"
     ],
     "language": "python",
     "metadata": {},
     "outputs": [
      {
       "output_type": "stream",
       "stream": "stdout",
       "text": [
        "   losses   team  wins  year\n",
        "2       6  Bears    10  2012\n"
       ]
      }
     ],
     "prompt_number": 127
    },
    {
     "cell_type": "code",
     "collapsed": false,
     "input": [
      "print football.iloc[4]"
     ],
     "language": "python",
     "metadata": {},
     "outputs": [
      {
       "output_type": "stream",
       "stream": "stdout",
       "text": [
        "losses          5\n",
        "team      Packers\n",
        "wins           11\n",
        "year         2012\n",
        "Name: 4, dtype: object\n"
       ]
      }
     ],
     "prompt_number": 128
    },
    {
     "cell_type": "code",
     "collapsed": false,
     "input": [
      "print football.loc[4]"
     ],
     "language": "python",
     "metadata": {},
     "outputs": [
      {
       "output_type": "stream",
       "stream": "stdout",
       "text": [
        "losses          5\n",
        "team      Packers\n",
        "wins           11\n",
        "year         2012\n",
        "Name: 4, dtype: object\n"
       ]
      }
     ],
     "prompt_number": 129
    },
    {
     "cell_type": "code",
     "collapsed": false,
     "input": [
      "print football[football.wins > 6]"
     ],
     "language": "python",
     "metadata": {},
     "outputs": [
      {
       "output_type": "stream",
       "stream": "stdout",
       "text": [
        "   losses     team  wins  year\n",
        "0       5    Bears    11  2010\n",
        "1       8    Bears     8  2011\n",
        "2       6    Bears    10  2012\n",
        "3       1  Packers    15  2011\n",
        "4       5  Packers    11  2012\n",
        "6       6    Lions    10  2011\n"
       ]
      }
     ],
     "prompt_number": 132
    },
    {
     "cell_type": "code",
     "collapsed": false,
     "input": [
      "print football[(football.wins > 2) & (football.team == \"Bears\")]"
     ],
     "language": "python",
     "metadata": {},
     "outputs": [
      {
       "output_type": "stream",
       "stream": "stdout",
       "text": [
        "   losses   team  wins  year\n",
        "0       5  Bears    11  2010\n",
        "1       8  Bears     8  2011\n",
        "2       6  Bears    10  2012\n"
       ]
      }
     ],
     "prompt_number": 136
    },
    {
     "cell_type": "code",
     "collapsed": false,
     "input": [
      "from pandas import DataFrame, Series\n",
      "import numpy\n",
      "\n",
      "\n",
      "def avg_medal_count():\n",
      "    '''\n",
      "    Compute the average number of bronze medals earned by countries who \n",
      "    earned at least one gold medal.  \n",
      "    \n",
      "    Save this to a variable named avg_bronze_at_least_one_gold. You do not\n",
      "    need to call the function in your code when running it in the browser -\n",
      "    the grader will do that automatically when you submit or test it.\n",
      "    \n",
      "    HINT-1:\n",
      "    You can retrieve all of the values of a Pandas column from a \n",
      "    data frame, \"df\", as follows:\n",
      "    df['column_name']\n",
      "    \n",
      "    HINT-2:\n",
      "    The numpy.mean function can accept as an argument a single\n",
      "    Pandas column. \n",
      "    \n",
      "    For example, numpy.mean(df[\"col_name\"]) would return the \n",
      "    mean of the values located in \"col_name\" of a dataframe df.\n",
      "    '''\n",
      "\n",
      "\n",
      "    countries = ['Russian Fed.', 'Norway', 'Canada', 'United States',\n",
      "                 'Netherlands', 'Germany', 'Switzerland', 'Belarus',\n",
      "                 'Austria', 'France', 'Poland', 'China', 'Korea', \n",
      "                 'Sweden', 'Czech Republic', 'Slovenia', 'Japan',\n",
      "                 'Finland', 'Great Britain', 'Ukraine', 'Slovakia',\n",
      "                 'Italy', 'Latvia', 'Australia', 'Croatia', 'Kazakhstan']\n",
      "\n",
      "    gold = [13, 11, 10, 9, 8, 8, 6, 5, 4, 4, 4, 3, 3, 2, 2, 2, 1, 1, 1, 1, 1, 0, 0, 0, 0, 0]\n",
      "    silver = [11, 5, 10, 7, 7, 6, 3, 0, 8, 4, 1, 4, 3, 7, 4, 2, 4, 3, 1, 0, 0, 2, 2, 2, 1, 0]\n",
      "    bronze = [9, 10, 5, 12, 9, 5, 2, 1, 5, 7, 1, 2, 2, 6, 2, 4, 3, 1, 2, 1, 0, 6, 2, 1, 0, 1]\n",
      "    \n",
      "    olympic_medal_counts = {'country_name':Series(countries),\n",
      "                            'gold': Series(gold),\n",
      "                            'silver': Series(silver),\n",
      "                            'bronze': Series(bronze)}\n",
      "    df = DataFrame(olympic_medal_counts)\n",
      "    \n",
      "    # YOUR CODE HERE\n",
      "\n",
      "    return avg_bronze_at_least_one_gold"
     ],
     "language": "python",
     "metadata": {},
     "outputs": []
    },
    {
     "cell_type": "code",
     "collapsed": false,
     "input": [
      "olympic_medal_counts_df"
     ],
     "language": "python",
     "metadata": {},
     "outputs": [
      {
       "html": [
        "<div style=\"max-height:1000px;max-width:1500px;overflow:auto;\">\n",
        "<table border=\"1\" class=\"dataframe\">\n",
        "  <thead>\n",
        "    <tr style=\"text-align: right;\">\n",
        "      <th></th>\n",
        "      <th>bronze</th>\n",
        "      <th>country_name</th>\n",
        "      <th>gold</th>\n",
        "      <th>silver</th>\n",
        "    </tr>\n",
        "  </thead>\n",
        "  <tbody>\n",
        "    <tr>\n",
        "      <th>0 </th>\n",
        "      <td>  9</td>\n",
        "      <td>   Russian Fed.</td>\n",
        "      <td> 13</td>\n",
        "      <td> 11</td>\n",
        "    </tr>\n",
        "    <tr>\n",
        "      <th>1 </th>\n",
        "      <td> 10</td>\n",
        "      <td>         Norway</td>\n",
        "      <td> 11</td>\n",
        "      <td>  5</td>\n",
        "    </tr>\n",
        "    <tr>\n",
        "      <th>2 </th>\n",
        "      <td>  5</td>\n",
        "      <td>         Canada</td>\n",
        "      <td> 10</td>\n",
        "      <td> 10</td>\n",
        "    </tr>\n",
        "    <tr>\n",
        "      <th>3 </th>\n",
        "      <td> 12</td>\n",
        "      <td>  United States</td>\n",
        "      <td>  9</td>\n",
        "      <td>  7</td>\n",
        "    </tr>\n",
        "    <tr>\n",
        "      <th>4 </th>\n",
        "      <td>  9</td>\n",
        "      <td>    Netherlands</td>\n",
        "      <td>  8</td>\n",
        "      <td>  7</td>\n",
        "    </tr>\n",
        "    <tr>\n",
        "      <th>5 </th>\n",
        "      <td>  5</td>\n",
        "      <td>        Germany</td>\n",
        "      <td>  8</td>\n",
        "      <td>  6</td>\n",
        "    </tr>\n",
        "    <tr>\n",
        "      <th>6 </th>\n",
        "      <td>  2</td>\n",
        "      <td>    Switzerland</td>\n",
        "      <td>  6</td>\n",
        "      <td>  3</td>\n",
        "    </tr>\n",
        "    <tr>\n",
        "      <th>7 </th>\n",
        "      <td>  1</td>\n",
        "      <td>        Belarus</td>\n",
        "      <td>  5</td>\n",
        "      <td>  0</td>\n",
        "    </tr>\n",
        "    <tr>\n",
        "      <th>8 </th>\n",
        "      <td>  5</td>\n",
        "      <td>        Austria</td>\n",
        "      <td>  4</td>\n",
        "      <td>  8</td>\n",
        "    </tr>\n",
        "    <tr>\n",
        "      <th>9 </th>\n",
        "      <td>  7</td>\n",
        "      <td>         France</td>\n",
        "      <td>  4</td>\n",
        "      <td>  4</td>\n",
        "    </tr>\n",
        "    <tr>\n",
        "      <th>10</th>\n",
        "      <td>  1</td>\n",
        "      <td>         Poland</td>\n",
        "      <td>  4</td>\n",
        "      <td>  1</td>\n",
        "    </tr>\n",
        "    <tr>\n",
        "      <th>11</th>\n",
        "      <td>  2</td>\n",
        "      <td>          China</td>\n",
        "      <td>  3</td>\n",
        "      <td>  4</td>\n",
        "    </tr>\n",
        "    <tr>\n",
        "      <th>12</th>\n",
        "      <td>  2</td>\n",
        "      <td>          Korea</td>\n",
        "      <td>  3</td>\n",
        "      <td>  3</td>\n",
        "    </tr>\n",
        "    <tr>\n",
        "      <th>13</th>\n",
        "      <td>  6</td>\n",
        "      <td>         Sweden</td>\n",
        "      <td>  2</td>\n",
        "      <td>  7</td>\n",
        "    </tr>\n",
        "    <tr>\n",
        "      <th>14</th>\n",
        "      <td>  2</td>\n",
        "      <td> Czech Republic</td>\n",
        "      <td>  2</td>\n",
        "      <td>  4</td>\n",
        "    </tr>\n",
        "    <tr>\n",
        "      <th>15</th>\n",
        "      <td>  4</td>\n",
        "      <td>       Slovenia</td>\n",
        "      <td>  2</td>\n",
        "      <td>  2</td>\n",
        "    </tr>\n",
        "    <tr>\n",
        "      <th>16</th>\n",
        "      <td>  3</td>\n",
        "      <td>          Japan</td>\n",
        "      <td>  1</td>\n",
        "      <td>  4</td>\n",
        "    </tr>\n",
        "    <tr>\n",
        "      <th>17</th>\n",
        "      <td>  1</td>\n",
        "      <td>        Finland</td>\n",
        "      <td>  1</td>\n",
        "      <td>  3</td>\n",
        "    </tr>\n",
        "    <tr>\n",
        "      <th>18</th>\n",
        "      <td>  2</td>\n",
        "      <td>  Great Britain</td>\n",
        "      <td>  1</td>\n",
        "      <td>  1</td>\n",
        "    </tr>\n",
        "    <tr>\n",
        "      <th>19</th>\n",
        "      <td>  1</td>\n",
        "      <td>        Ukraine</td>\n",
        "      <td>  1</td>\n",
        "      <td>  0</td>\n",
        "    </tr>\n",
        "    <tr>\n",
        "      <th>20</th>\n",
        "      <td>  0</td>\n",
        "      <td>       Slovakia</td>\n",
        "      <td>  1</td>\n",
        "      <td>  0</td>\n",
        "    </tr>\n",
        "    <tr>\n",
        "      <th>21</th>\n",
        "      <td>  6</td>\n",
        "      <td>          Italy</td>\n",
        "      <td>  0</td>\n",
        "      <td>  2</td>\n",
        "    </tr>\n",
        "    <tr>\n",
        "      <th>22</th>\n",
        "      <td>  2</td>\n",
        "      <td>         Latvia</td>\n",
        "      <td>  0</td>\n",
        "      <td>  2</td>\n",
        "    </tr>\n",
        "    <tr>\n",
        "      <th>23</th>\n",
        "      <td>  1</td>\n",
        "      <td>      Australia</td>\n",
        "      <td>  0</td>\n",
        "      <td>  2</td>\n",
        "    </tr>\n",
        "    <tr>\n",
        "      <th>24</th>\n",
        "      <td>  0</td>\n",
        "      <td>        Croatia</td>\n",
        "      <td>  0</td>\n",
        "      <td>  1</td>\n",
        "    </tr>\n",
        "    <tr>\n",
        "      <th>25</th>\n",
        "      <td>  1</td>\n",
        "      <td>     Kazakhstan</td>\n",
        "      <td>  0</td>\n",
        "      <td>  0</td>\n",
        "    </tr>\n",
        "  </tbody>\n",
        "</table>\n",
        "</div>"
       ],
       "metadata": {},
       "output_type": "pyout",
       "prompt_number": 137,
       "text": [
        "    bronze    country_name  gold  silver\n",
        "0        9    Russian Fed.    13      11\n",
        "1       10          Norway    11       5\n",
        "2        5          Canada    10      10\n",
        "3       12   United States     9       7\n",
        "4        9     Netherlands     8       7\n",
        "5        5         Germany     8       6\n",
        "6        2     Switzerland     6       3\n",
        "7        1         Belarus     5       0\n",
        "8        5         Austria     4       8\n",
        "9        7          France     4       4\n",
        "10       1          Poland     4       1\n",
        "11       2           China     3       4\n",
        "12       2           Korea     3       3\n",
        "13       6          Sweden     2       7\n",
        "14       2  Czech Republic     2       4\n",
        "15       4        Slovenia     2       2\n",
        "16       3           Japan     1       4\n",
        "17       1         Finland     1       3\n",
        "18       2   Great Britain     1       1\n",
        "19       1         Ukraine     1       0\n",
        "20       0        Slovakia     1       0\n",
        "21       6           Italy     0       2\n",
        "22       2          Latvia     0       2\n",
        "23       1       Australia     0       2\n",
        "24       0         Croatia     0       1\n",
        "25       1      Kazakhstan     0       0"
       ]
      }
     ],
     "prompt_number": 137
    },
    {
     "cell_type": "code",
     "collapsed": false,
     "input": [
      "olympic_medal_counts_df[olympic_medal_counts_df['gold'] >=1]"
     ],
     "language": "python",
     "metadata": {},
     "outputs": [
      {
       "html": [
        "<div style=\"max-height:1000px;max-width:1500px;overflow:auto;\">\n",
        "<table border=\"1\" class=\"dataframe\">\n",
        "  <thead>\n",
        "    <tr style=\"text-align: right;\">\n",
        "      <th></th>\n",
        "      <th>bronze</th>\n",
        "      <th>country_name</th>\n",
        "      <th>gold</th>\n",
        "      <th>silver</th>\n",
        "    </tr>\n",
        "  </thead>\n",
        "  <tbody>\n",
        "    <tr>\n",
        "      <th>0 </th>\n",
        "      <td>  9</td>\n",
        "      <td>   Russian Fed.</td>\n",
        "      <td> 13</td>\n",
        "      <td> 11</td>\n",
        "    </tr>\n",
        "    <tr>\n",
        "      <th>1 </th>\n",
        "      <td> 10</td>\n",
        "      <td>         Norway</td>\n",
        "      <td> 11</td>\n",
        "      <td>  5</td>\n",
        "    </tr>\n",
        "    <tr>\n",
        "      <th>2 </th>\n",
        "      <td>  5</td>\n",
        "      <td>         Canada</td>\n",
        "      <td> 10</td>\n",
        "      <td> 10</td>\n",
        "    </tr>\n",
        "    <tr>\n",
        "      <th>3 </th>\n",
        "      <td> 12</td>\n",
        "      <td>  United States</td>\n",
        "      <td>  9</td>\n",
        "      <td>  7</td>\n",
        "    </tr>\n",
        "    <tr>\n",
        "      <th>4 </th>\n",
        "      <td>  9</td>\n",
        "      <td>    Netherlands</td>\n",
        "      <td>  8</td>\n",
        "      <td>  7</td>\n",
        "    </tr>\n",
        "    <tr>\n",
        "      <th>5 </th>\n",
        "      <td>  5</td>\n",
        "      <td>        Germany</td>\n",
        "      <td>  8</td>\n",
        "      <td>  6</td>\n",
        "    </tr>\n",
        "    <tr>\n",
        "      <th>6 </th>\n",
        "      <td>  2</td>\n",
        "      <td>    Switzerland</td>\n",
        "      <td>  6</td>\n",
        "      <td>  3</td>\n",
        "    </tr>\n",
        "    <tr>\n",
        "      <th>7 </th>\n",
        "      <td>  1</td>\n",
        "      <td>        Belarus</td>\n",
        "      <td>  5</td>\n",
        "      <td>  0</td>\n",
        "    </tr>\n",
        "    <tr>\n",
        "      <th>8 </th>\n",
        "      <td>  5</td>\n",
        "      <td>        Austria</td>\n",
        "      <td>  4</td>\n",
        "      <td>  8</td>\n",
        "    </tr>\n",
        "    <tr>\n",
        "      <th>9 </th>\n",
        "      <td>  7</td>\n",
        "      <td>         France</td>\n",
        "      <td>  4</td>\n",
        "      <td>  4</td>\n",
        "    </tr>\n",
        "    <tr>\n",
        "      <th>10</th>\n",
        "      <td>  1</td>\n",
        "      <td>         Poland</td>\n",
        "      <td>  4</td>\n",
        "      <td>  1</td>\n",
        "    </tr>\n",
        "    <tr>\n",
        "      <th>11</th>\n",
        "      <td>  2</td>\n",
        "      <td>          China</td>\n",
        "      <td>  3</td>\n",
        "      <td>  4</td>\n",
        "    </tr>\n",
        "    <tr>\n",
        "      <th>12</th>\n",
        "      <td>  2</td>\n",
        "      <td>          Korea</td>\n",
        "      <td>  3</td>\n",
        "      <td>  3</td>\n",
        "    </tr>\n",
        "    <tr>\n",
        "      <th>13</th>\n",
        "      <td>  6</td>\n",
        "      <td>         Sweden</td>\n",
        "      <td>  2</td>\n",
        "      <td>  7</td>\n",
        "    </tr>\n",
        "    <tr>\n",
        "      <th>14</th>\n",
        "      <td>  2</td>\n",
        "      <td> Czech Republic</td>\n",
        "      <td>  2</td>\n",
        "      <td>  4</td>\n",
        "    </tr>\n",
        "    <tr>\n",
        "      <th>15</th>\n",
        "      <td>  4</td>\n",
        "      <td>       Slovenia</td>\n",
        "      <td>  2</td>\n",
        "      <td>  2</td>\n",
        "    </tr>\n",
        "    <tr>\n",
        "      <th>16</th>\n",
        "      <td>  3</td>\n",
        "      <td>          Japan</td>\n",
        "      <td>  1</td>\n",
        "      <td>  4</td>\n",
        "    </tr>\n",
        "    <tr>\n",
        "      <th>17</th>\n",
        "      <td>  1</td>\n",
        "      <td>        Finland</td>\n",
        "      <td>  1</td>\n",
        "      <td>  3</td>\n",
        "    </tr>\n",
        "    <tr>\n",
        "      <th>18</th>\n",
        "      <td>  2</td>\n",
        "      <td>  Great Britain</td>\n",
        "      <td>  1</td>\n",
        "      <td>  1</td>\n",
        "    </tr>\n",
        "    <tr>\n",
        "      <th>19</th>\n",
        "      <td>  1</td>\n",
        "      <td>        Ukraine</td>\n",
        "      <td>  1</td>\n",
        "      <td>  0</td>\n",
        "    </tr>\n",
        "    <tr>\n",
        "      <th>20</th>\n",
        "      <td>  0</td>\n",
        "      <td>       Slovakia</td>\n",
        "      <td>  1</td>\n",
        "      <td>  0</td>\n",
        "    </tr>\n",
        "  </tbody>\n",
        "</table>\n",
        "</div>"
       ],
       "metadata": {},
       "output_type": "pyout",
       "prompt_number": 138,
       "text": [
        "    bronze    country_name  gold  silver\n",
        "0        9    Russian Fed.    13      11\n",
        "1       10          Norway    11       5\n",
        "2        5          Canada    10      10\n",
        "3       12   United States     9       7\n",
        "4        9     Netherlands     8       7\n",
        "5        5         Germany     8       6\n",
        "6        2     Switzerland     6       3\n",
        "7        1         Belarus     5       0\n",
        "8        5         Austria     4       8\n",
        "9        7          France     4       4\n",
        "10       1          Poland     4       1\n",
        "11       2           China     3       4\n",
        "12       2           Korea     3       3\n",
        "13       6          Sweden     2       7\n",
        "14       2  Czech Republic     2       4\n",
        "15       4        Slovenia     2       2\n",
        "16       3           Japan     1       4\n",
        "17       1         Finland     1       3\n",
        "18       2   Great Britain     1       1\n",
        "19       1         Ukraine     1       0\n",
        "20       0        Slovakia     1       0"
       ]
      }
     ],
     "prompt_number": 138
    },
    {
     "cell_type": "code",
     "collapsed": false,
     "input": [
      "x = numpy.mean(olympic_medal_counts_df[olympic_medal_counts_df['gold'] >=1].bronze)"
     ],
     "language": "python",
     "metadata": {},
     "outputs": [],
     "prompt_number": 142
    },
    {
     "cell_type": "code",
     "collapsed": false,
     "input": [],
     "language": "python",
     "metadata": {},
     "outputs": []
    },
    {
     "cell_type": "code",
     "collapsed": false,
     "input": [
      "x"
     ],
     "language": "python",
     "metadata": {},
     "outputs": [
      {
       "metadata": {},
       "output_type": "pyout",
       "prompt_number": 143,
       "text": [
        "4.2380952380952381"
       ]
      }
     ],
     "prompt_number": 143
    },
    {
     "cell_type": "code",
     "collapsed": false,
     "input": [],
     "language": "python",
     "metadata": {},
     "outputs": [
      {
       "ename": "TypeError",
       "evalue": "'int' object has no attribute '__getitem__'",
       "output_type": "pyerr",
       "traceback": [
        "\u001b[0;31m---------------------------------------------------------------------------\u001b[0m\n\u001b[0;31mTypeError\u001b[0m                                 Traceback (most recent call last)",
        "\u001b[0;32m<ipython-input-153-e653a3d469ae>\u001b[0m in \u001b[0;36m<module>\u001b[0;34m()\u001b[0m\n\u001b[0;32m----> 1\u001b[0;31m \u001b[0mx_1\u001b[0m \u001b[0;34m=\u001b[0m \u001b[0molympic_medal_counts_df\u001b[0m\u001b[0;34m[\u001b[0m\u001b[0;34m'gold'\u001b[0m\u001b[0;34m]\u001b[0m \u001b[0;34m>=\u001b[0m\u001b[0;36m1\u001b[0m\u001b[0;34m[\u001b[0m\u001b[0molympic_medal_counts_df\u001b[0m\u001b[0;34m[\u001b[0m\u001b[0;34m'bronze'\u001b[0m\u001b[0;34m]\u001b[0m\u001b[0;34m]\u001b[0m\u001b[0;34m\u001b[0m\u001b[0m\n\u001b[0m",
        "\u001b[0;31mTypeError\u001b[0m: 'int' object has no attribute '__getitem__'"
       ]
      }
     ],
     "prompt_number": 153
    },
    {
     "cell_type": "code",
     "collapsed": false,
     "input": [],
     "language": "python",
     "metadata": {},
     "outputs": []
    },
    {
     "cell_type": "code",
     "collapsed": false,
     "input": [],
     "language": "python",
     "metadata": {},
     "outputs": []
    },
    {
     "cell_type": "code",
     "collapsed": false,
     "input": [],
     "language": "python",
     "metadata": {},
     "outputs": []
    },
    {
     "cell_type": "code",
     "collapsed": false,
     "input": [],
     "language": "python",
     "metadata": {},
     "outputs": []
    },
    {
     "cell_type": "code",
     "collapsed": false,
     "input": [
      "x_1"
     ],
     "language": "python",
     "metadata": {},
     "outputs": [
      {
       "metadata": {},
       "output_type": "pyout",
       "prompt_number": 149,
       "text": [
        "0      9\n",
        "1     10\n",
        "2      5\n",
        "3     12\n",
        "4      9\n",
        "5      5\n",
        "6      2\n",
        "7      1\n",
        "8      5\n",
        "9      7\n",
        "10     1\n",
        "11     2\n",
        "12     2\n",
        "13     6\n",
        "14     2\n",
        "15     4\n",
        "16     3\n",
        "17     1\n",
        "18     2\n",
        "19     1\n",
        "20     0\n",
        "Name: bronze, dtype: int64"
       ]
      }
     ],
     "prompt_number": 149
    },
    {
     "cell_type": "code",
     "collapsed": false,
     "input": [
      "bronze_at_least_one_gold = olympic_medal_counts_df['bronze'][olympic_medal_counts_df['gold'] >=1]"
     ],
     "language": "python",
     "metadata": {},
     "outputs": [],
     "prompt_number": 155
    },
    {
     "cell_type": "code",
     "collapsed": false,
     "input": [
      "bronze_at_least_one_gold"
     ],
     "language": "python",
     "metadata": {},
     "outputs": [
      {
       "metadata": {},
       "output_type": "pyout",
       "prompt_number": 156,
       "text": [
        "0      9\n",
        "1     10\n",
        "2      5\n",
        "3     12\n",
        "4      9\n",
        "5      5\n",
        "6      2\n",
        "7      1\n",
        "8      5\n",
        "9      7\n",
        "10     1\n",
        "11     2\n",
        "12     2\n",
        "13     6\n",
        "14     2\n",
        "15     4\n",
        "16     3\n",
        "17     1\n",
        "18     2\n",
        "19     1\n",
        "20     0\n",
        "Name: bronze, dtype: int64"
       ]
      }
     ],
     "prompt_number": 156
    },
    {
     "cell_type": "code",
     "collapsed": false,
     "input": [
      "avg_bronze_at_least_one_gold = np.mean(bronze_at_least_one_gold)"
     ],
     "language": "python",
     "metadata": {},
     "outputs": [],
     "prompt_number": 157
    },
    {
     "cell_type": "code",
     "collapsed": false,
     "input": [
      "avg_bronze_at_least_one_gold"
     ],
     "language": "python",
     "metadata": {},
     "outputs": [
      {
       "metadata": {},
       "output_type": "pyout",
       "prompt_number": 158,
       "text": [
        "4.2380952380952381"
       ]
      }
     ],
     "prompt_number": 158
    },
    {
     "cell_type": "code",
     "collapsed": false,
     "input": [
      "at_least_one = olympic_medal_counts_df[(olympic_medal_counts_df.gold + olympic_medal_counts_df.silver + olympic_medal_counts_df.bronze >=1)]\n",
      "at_least_one"
     ],
     "language": "python",
     "metadata": {},
     "outputs": [
      {
       "html": [
        "<div style=\"max-height:1000px;max-width:1500px;overflow:auto;\">\n",
        "<table border=\"1\" class=\"dataframe\">\n",
        "  <thead>\n",
        "    <tr style=\"text-align: right;\">\n",
        "      <th></th>\n",
        "      <th>bronze</th>\n",
        "      <th>country_name</th>\n",
        "      <th>gold</th>\n",
        "      <th>silver</th>\n",
        "    </tr>\n",
        "  </thead>\n",
        "  <tbody>\n",
        "    <tr>\n",
        "      <th>0 </th>\n",
        "      <td>  9</td>\n",
        "      <td>   Russian Fed.</td>\n",
        "      <td> 13</td>\n",
        "      <td> 11</td>\n",
        "    </tr>\n",
        "    <tr>\n",
        "      <th>1 </th>\n",
        "      <td> 10</td>\n",
        "      <td>         Norway</td>\n",
        "      <td> 11</td>\n",
        "      <td>  5</td>\n",
        "    </tr>\n",
        "    <tr>\n",
        "      <th>2 </th>\n",
        "      <td>  5</td>\n",
        "      <td>         Canada</td>\n",
        "      <td> 10</td>\n",
        "      <td> 10</td>\n",
        "    </tr>\n",
        "    <tr>\n",
        "      <th>3 </th>\n",
        "      <td> 12</td>\n",
        "      <td>  United States</td>\n",
        "      <td>  9</td>\n",
        "      <td>  7</td>\n",
        "    </tr>\n",
        "    <tr>\n",
        "      <th>4 </th>\n",
        "      <td>  9</td>\n",
        "      <td>    Netherlands</td>\n",
        "      <td>  8</td>\n",
        "      <td>  7</td>\n",
        "    </tr>\n",
        "    <tr>\n",
        "      <th>5 </th>\n",
        "      <td>  5</td>\n",
        "      <td>        Germany</td>\n",
        "      <td>  8</td>\n",
        "      <td>  6</td>\n",
        "    </tr>\n",
        "    <tr>\n",
        "      <th>6 </th>\n",
        "      <td>  2</td>\n",
        "      <td>    Switzerland</td>\n",
        "      <td>  6</td>\n",
        "      <td>  3</td>\n",
        "    </tr>\n",
        "    <tr>\n",
        "      <th>7 </th>\n",
        "      <td>  1</td>\n",
        "      <td>        Belarus</td>\n",
        "      <td>  5</td>\n",
        "      <td>  0</td>\n",
        "    </tr>\n",
        "    <tr>\n",
        "      <th>8 </th>\n",
        "      <td>  5</td>\n",
        "      <td>        Austria</td>\n",
        "      <td>  4</td>\n",
        "      <td>  8</td>\n",
        "    </tr>\n",
        "    <tr>\n",
        "      <th>9 </th>\n",
        "      <td>  7</td>\n",
        "      <td>         France</td>\n",
        "      <td>  4</td>\n",
        "      <td>  4</td>\n",
        "    </tr>\n",
        "    <tr>\n",
        "      <th>10</th>\n",
        "      <td>  1</td>\n",
        "      <td>         Poland</td>\n",
        "      <td>  4</td>\n",
        "      <td>  1</td>\n",
        "    </tr>\n",
        "    <tr>\n",
        "      <th>11</th>\n",
        "      <td>  2</td>\n",
        "      <td>          China</td>\n",
        "      <td>  3</td>\n",
        "      <td>  4</td>\n",
        "    </tr>\n",
        "    <tr>\n",
        "      <th>12</th>\n",
        "      <td>  2</td>\n",
        "      <td>          Korea</td>\n",
        "      <td>  3</td>\n",
        "      <td>  3</td>\n",
        "    </tr>\n",
        "    <tr>\n",
        "      <th>13</th>\n",
        "      <td>  6</td>\n",
        "      <td>         Sweden</td>\n",
        "      <td>  2</td>\n",
        "      <td>  7</td>\n",
        "    </tr>\n",
        "    <tr>\n",
        "      <th>14</th>\n",
        "      <td>  2</td>\n",
        "      <td> Czech Republic</td>\n",
        "      <td>  2</td>\n",
        "      <td>  4</td>\n",
        "    </tr>\n",
        "    <tr>\n",
        "      <th>15</th>\n",
        "      <td>  4</td>\n",
        "      <td>       Slovenia</td>\n",
        "      <td>  2</td>\n",
        "      <td>  2</td>\n",
        "    </tr>\n",
        "    <tr>\n",
        "      <th>16</th>\n",
        "      <td>  3</td>\n",
        "      <td>          Japan</td>\n",
        "      <td>  1</td>\n",
        "      <td>  4</td>\n",
        "    </tr>\n",
        "    <tr>\n",
        "      <th>17</th>\n",
        "      <td>  1</td>\n",
        "      <td>        Finland</td>\n",
        "      <td>  1</td>\n",
        "      <td>  3</td>\n",
        "    </tr>\n",
        "    <tr>\n",
        "      <th>18</th>\n",
        "      <td>  2</td>\n",
        "      <td>  Great Britain</td>\n",
        "      <td>  1</td>\n",
        "      <td>  1</td>\n",
        "    </tr>\n",
        "    <tr>\n",
        "      <th>19</th>\n",
        "      <td>  1</td>\n",
        "      <td>        Ukraine</td>\n",
        "      <td>  1</td>\n",
        "      <td>  0</td>\n",
        "    </tr>\n",
        "    <tr>\n",
        "      <th>20</th>\n",
        "      <td>  0</td>\n",
        "      <td>       Slovakia</td>\n",
        "      <td>  1</td>\n",
        "      <td>  0</td>\n",
        "    </tr>\n",
        "    <tr>\n",
        "      <th>21</th>\n",
        "      <td>  6</td>\n",
        "      <td>          Italy</td>\n",
        "      <td>  0</td>\n",
        "      <td>  2</td>\n",
        "    </tr>\n",
        "    <tr>\n",
        "      <th>22</th>\n",
        "      <td>  2</td>\n",
        "      <td>         Latvia</td>\n",
        "      <td>  0</td>\n",
        "      <td>  2</td>\n",
        "    </tr>\n",
        "    <tr>\n",
        "      <th>23</th>\n",
        "      <td>  1</td>\n",
        "      <td>      Australia</td>\n",
        "      <td>  0</td>\n",
        "      <td>  2</td>\n",
        "    </tr>\n",
        "    <tr>\n",
        "      <th>24</th>\n",
        "      <td>  0</td>\n",
        "      <td>        Croatia</td>\n",
        "      <td>  0</td>\n",
        "      <td>  1</td>\n",
        "    </tr>\n",
        "    <tr>\n",
        "      <th>25</th>\n",
        "      <td>  1</td>\n",
        "      <td>     Kazakhstan</td>\n",
        "      <td>  0</td>\n",
        "      <td>  0</td>\n",
        "    </tr>\n",
        "  </tbody>\n",
        "</table>\n",
        "</div>"
       ],
       "metadata": {},
       "output_type": "pyout",
       "prompt_number": 163,
       "text": [
        "    bronze    country_name  gold  silver\n",
        "0        9    Russian Fed.    13      11\n",
        "1       10          Norway    11       5\n",
        "2        5          Canada    10      10\n",
        "3       12   United States     9       7\n",
        "4        9     Netherlands     8       7\n",
        "5        5         Germany     8       6\n",
        "6        2     Switzerland     6       3\n",
        "7        1         Belarus     5       0\n",
        "8        5         Austria     4       8\n",
        "9        7          France     4       4\n",
        "10       1          Poland     4       1\n",
        "11       2           China     3       4\n",
        "12       2           Korea     3       3\n",
        "13       6          Sweden     2       7\n",
        "14       2  Czech Republic     2       4\n",
        "15       4        Slovenia     2       2\n",
        "16       3           Japan     1       4\n",
        "17       1         Finland     1       3\n",
        "18       2   Great Britain     1       1\n",
        "19       1         Ukraine     1       0\n",
        "20       0        Slovakia     1       0\n",
        "21       6           Italy     0       2\n",
        "22       2          Latvia     0       2\n",
        "23       1       Australia     0       2\n",
        "24       0         Croatia     0       1\n",
        "25       1      Kazakhstan     0       0"
       ]
      }
     ],
     "prompt_number": 163
    },
    {
     "cell_type": "code",
     "collapsed": false,
     "input": [],
     "language": "python",
     "metadata": {},
     "outputs": []
    },
    {
     "cell_type": "code",
     "collapsed": false,
     "input": [
      "avg_metal_count = np.mean(at_least_one)"
     ],
     "language": "python",
     "metadata": {},
     "outputs": [],
     "prompt_number": 164
    },
    {
     "cell_type": "code",
     "collapsed": false,
     "input": [
      "avg_metal_count"
     ],
     "language": "python",
     "metadata": {},
     "outputs": [
      {
       "metadata": {},
       "output_type": "pyout",
       "prompt_number": 166,
       "text": [
        "bronze    3.807692\n",
        "gold      3.807692\n",
        "silver    3.730769\n",
        "dtype: float64"
       ]
      }
     ],
     "prompt_number": 166
    },
    {
     "cell_type": "code",
     "collapsed": false,
     "input": [
      "avg_metal_count_apply = at_least_one[['gold', 'silver', 'bronze']].apply(np.mean)"
     ],
     "language": "python",
     "metadata": {},
     "outputs": [],
     "prompt_number": 170
    },
    {
     "cell_type": "code",
     "collapsed": false,
     "input": [
      "avg_metal_count_apply"
     ],
     "language": "python",
     "metadata": {},
     "outputs": [
      {
       "metadata": {},
       "output_type": "pyout",
       "prompt_number": 171,
       "text": [
        "gold      3.807692\n",
        "silver    3.730769\n",
        "bronze    3.807692\n",
        "dtype: float64"
       ]
      }
     ],
     "prompt_number": 171
    },
    {
     "cell_type": "code",
     "collapsed": false,
     "input": [
      "\n",
      "\n",
      "def numpy_dot():\n",
      "    '''\n",
      "    Imagine a point system in which each country is awarded 4 points for each\n",
      "    gold medal,  2 points for each silver medal, and one point for each \n",
      "    bronze medal.  \n",
      "\n",
      "    Using the numpy.dot function, create a new dataframe called \n",
      "    'olympic_points_df' that includes:\n",
      "        a) a column called 'country_name' with the country name\n",
      "        b) a column called 'points' with the total number of points the country\n",
      "           earned at the Sochi olympics.\n",
      "           \n",
      "    You do not need to call the function in your code when running it in the\n",
      "    browser - the grader will do that automatically when you submit or test it.\n",
      "    '''\n",
      "\n",
      "    countries = ['Russian Fed.', 'Norway', 'Canada', 'United States',\n",
      "                 'Netherlands', 'Germany', 'Switzerland', 'Belarus',\n",
      "                 'Austria', 'France', 'Poland', 'China', 'Korea', \n",
      "                 'Sweden', 'Czech Republic', 'Slovenia', 'Japan',\n",
      "                 'Finland', 'Great Britain', 'Ukraine', 'Slovakia',\n",
      "                 'Italy', 'Latvia', 'Australia', 'Croatia', 'Kazakhstan']\n",
      "\n",
      "    gold = [13, 11, 10, 9, 8, 8, 6, 5, 4, 4, 4, 3, 3, 2, 2, 2, 1, 1, 1, 1, 1, 0, 0, 0, 0, 0]\n",
      "    silver = [11, 5, 10, 7, 7, 6, 3, 0, 8, 4, 1, 4, 3, 7, 4, 2, 4, 3, 1, 0, 0, 2, 2, 2, 1, 0]\n",
      "    bronze = [9, 10, 5, 12, 9, 5, 2, 1, 5, 7, 1, 2, 2, 6, 2, 4, 3, 1, 2, 1, 0, 6, 2, 1, 0, 1]\n",
      " \n",
      "    # YOUR CODE HERE\n",
      "    olympic_medal_counts = {'country_name':Series(countries),\n",
      "                            'gold': Series(gold),\n",
      "                            'silver': Series(silver),\n",
      "                            'bronze': Series(bronze)}\n",
      "    df = pd.DataFrame(olympic_medal_counts)\n",
      "    point_award = [4, 2, 1]\n",
      "    oplympic_points = {'country_name':Series(countries),\n",
      "                       'points': np.dot(df[['gold', 'silver', 'bronze']], point_award)}\n",
      "    olympic_points_df = pd.DataFrame(oplympic_points) \n",
      "    \n",
      "    \n",
      "    return olympic_points_df"
     ],
     "language": "python",
     "metadata": {},
     "outputs": [],
     "prompt_number": 176
    },
    {
     "cell_type": "code",
     "collapsed": false,
     "input": [
      "points = np.dot(olympic_medal_counts_df[['gold', 'silver', 'bronze']], [4, 2, 1])"
     ],
     "language": "python",
     "metadata": {},
     "outputs": [],
     "prompt_number": 178
    },
    {
     "cell_type": "code",
     "collapsed": false,
     "input": [
      "points"
     ],
     "language": "python",
     "metadata": {},
     "outputs": [
      {
       "metadata": {},
       "output_type": "pyout",
       "prompt_number": 179,
       "text": [
        "array([83, 64, 65, 62, 55, 49, 32, 21, 37, 31, 19, 22, 20, 28, 18, 16, 15,\n",
        "       11,  8,  5,  4, 10,  6,  5,  2,  1])"
       ]
      }
     ],
     "prompt_number": 179
    },
    {
     "cell_type": "code",
     "collapsed": false,
     "input": [
      "olympic_points= {'country_name': ['Russian Fed.', 'Norway', 'Canada', 'United States',\n",
      "                 'Netherlands', 'Germany', 'Switzerland', 'Belarus',\n",
      "                 'Austria', 'France', 'Poland', 'China', 'Korea', \n",
      "                 'Sweden', 'Czech Republic', 'Slovenia', 'Japan',\n",
      "                 'Finland', 'Great Britain', 'Ukraine', 'Slovakia',\n",
      "                 'Italy', 'Latvia', 'Australia', 'Croatia', 'Kazakhstan'],\n",
      "                 'points': [83, 64, 65, 62, 55, 49, 32, 21, 37, 31, 19, 22, 20, 28, 18, 16, 15,\n",
      "       11,  8,  5,  4, 10,  6,  5,  2,  1]}"
     ],
     "language": "python",
     "metadata": {},
     "outputs": [],
     "prompt_number": 189
    },
    {
     "cell_type": "code",
     "collapsed": false,
     "input": [
      "olympic_points_df = pd.DataFrame(olympic_points)"
     ],
     "language": "python",
     "metadata": {},
     "outputs": [],
     "prompt_number": 191
    },
    {
     "cell_type": "code",
     "collapsed": false,
     "input": [
      "olympic_points_df"
     ],
     "language": "python",
     "metadata": {},
     "outputs": [
      {
       "html": [
        "<div style=\"max-height:1000px;max-width:1500px;overflow:auto;\">\n",
        "<table border=\"1\" class=\"dataframe\">\n",
        "  <thead>\n",
        "    <tr style=\"text-align: right;\">\n",
        "      <th></th>\n",
        "      <th>country_name</th>\n",
        "      <th>points</th>\n",
        "    </tr>\n",
        "  </thead>\n",
        "  <tbody>\n",
        "    <tr>\n",
        "      <th>0 </th>\n",
        "      <td>   Russian Fed.</td>\n",
        "      <td> 83</td>\n",
        "    </tr>\n",
        "    <tr>\n",
        "      <th>1 </th>\n",
        "      <td>         Norway</td>\n",
        "      <td> 64</td>\n",
        "    </tr>\n",
        "    <tr>\n",
        "      <th>2 </th>\n",
        "      <td>         Canada</td>\n",
        "      <td> 65</td>\n",
        "    </tr>\n",
        "    <tr>\n",
        "      <th>3 </th>\n",
        "      <td>  United States</td>\n",
        "      <td> 62</td>\n",
        "    </tr>\n",
        "    <tr>\n",
        "      <th>4 </th>\n",
        "      <td>    Netherlands</td>\n",
        "      <td> 55</td>\n",
        "    </tr>\n",
        "    <tr>\n",
        "      <th>5 </th>\n",
        "      <td>        Germany</td>\n",
        "      <td> 49</td>\n",
        "    </tr>\n",
        "    <tr>\n",
        "      <th>6 </th>\n",
        "      <td>    Switzerland</td>\n",
        "      <td> 32</td>\n",
        "    </tr>\n",
        "    <tr>\n",
        "      <th>7 </th>\n",
        "      <td>        Belarus</td>\n",
        "      <td> 21</td>\n",
        "    </tr>\n",
        "    <tr>\n",
        "      <th>8 </th>\n",
        "      <td>        Austria</td>\n",
        "      <td> 37</td>\n",
        "    </tr>\n",
        "    <tr>\n",
        "      <th>9 </th>\n",
        "      <td>         France</td>\n",
        "      <td> 31</td>\n",
        "    </tr>\n",
        "    <tr>\n",
        "      <th>10</th>\n",
        "      <td>         Poland</td>\n",
        "      <td> 19</td>\n",
        "    </tr>\n",
        "    <tr>\n",
        "      <th>11</th>\n",
        "      <td>          China</td>\n",
        "      <td> 22</td>\n",
        "    </tr>\n",
        "    <tr>\n",
        "      <th>12</th>\n",
        "      <td>          Korea</td>\n",
        "      <td> 20</td>\n",
        "    </tr>\n",
        "    <tr>\n",
        "      <th>13</th>\n",
        "      <td>         Sweden</td>\n",
        "      <td> 28</td>\n",
        "    </tr>\n",
        "    <tr>\n",
        "      <th>14</th>\n",
        "      <td> Czech Republic</td>\n",
        "      <td> 18</td>\n",
        "    </tr>\n",
        "    <tr>\n",
        "      <th>15</th>\n",
        "      <td>       Slovenia</td>\n",
        "      <td> 16</td>\n",
        "    </tr>\n",
        "    <tr>\n",
        "      <th>16</th>\n",
        "      <td>          Japan</td>\n",
        "      <td> 15</td>\n",
        "    </tr>\n",
        "    <tr>\n",
        "      <th>17</th>\n",
        "      <td>        Finland</td>\n",
        "      <td> 11</td>\n",
        "    </tr>\n",
        "    <tr>\n",
        "      <th>18</th>\n",
        "      <td>  Great Britain</td>\n",
        "      <td>  8</td>\n",
        "    </tr>\n",
        "    <tr>\n",
        "      <th>19</th>\n",
        "      <td>        Ukraine</td>\n",
        "      <td>  5</td>\n",
        "    </tr>\n",
        "    <tr>\n",
        "      <th>20</th>\n",
        "      <td>       Slovakia</td>\n",
        "      <td>  4</td>\n",
        "    </tr>\n",
        "    <tr>\n",
        "      <th>21</th>\n",
        "      <td>          Italy</td>\n",
        "      <td> 10</td>\n",
        "    </tr>\n",
        "    <tr>\n",
        "      <th>22</th>\n",
        "      <td>         Latvia</td>\n",
        "      <td>  6</td>\n",
        "    </tr>\n",
        "    <tr>\n",
        "      <th>23</th>\n",
        "      <td>      Australia</td>\n",
        "      <td>  5</td>\n",
        "    </tr>\n",
        "    <tr>\n",
        "      <th>24</th>\n",
        "      <td>        Croatia</td>\n",
        "      <td>  2</td>\n",
        "    </tr>\n",
        "    <tr>\n",
        "      <th>25</th>\n",
        "      <td>     Kazakhstan</td>\n",
        "      <td>  1</td>\n",
        "    </tr>\n",
        "  </tbody>\n",
        "</table>\n",
        "</div>"
       ],
       "metadata": {},
       "output_type": "pyout",
       "prompt_number": 192,
       "text": [
        "      country_name  points\n",
        "0     Russian Fed.      83\n",
        "1           Norway      64\n",
        "2           Canada      65\n",
        "3    United States      62\n",
        "4      Netherlands      55\n",
        "5          Germany      49\n",
        "6      Switzerland      32\n",
        "7          Belarus      21\n",
        "8          Austria      37\n",
        "9           France      31\n",
        "10          Poland      19\n",
        "11           China      22\n",
        "12           Korea      20\n",
        "13          Sweden      28\n",
        "14  Czech Republic      18\n",
        "15        Slovenia      16\n",
        "16           Japan      15\n",
        "17         Finland      11\n",
        "18   Great Britain       8\n",
        "19         Ukraine       5\n",
        "20        Slovakia       4\n",
        "21           Italy      10\n",
        "22          Latvia       6\n",
        "23       Australia       5\n",
        "24         Croatia       2\n",
        "25      Kazakhstan       1"
       ]
      }
     ],
     "prompt_number": 192
    },
    {
     "cell_type": "code",
     "collapsed": false,
     "input": [],
     "language": "python",
     "metadata": {},
     "outputs": []
    },
    {
     "cell_type": "code",
     "collapsed": false,
     "input": [],
     "language": "python",
     "metadata": {},
     "outputs": []
    },
    {
     "cell_type": "code",
     "collapsed": false,
     "input": [],
     "language": "python",
     "metadata": {},
     "outputs": []
    },
    {
     "cell_type": "code",
     "collapsed": false,
     "input": [],
     "language": "python",
     "metadata": {},
     "outputs": []
    },
    {
     "cell_type": "code",
     "collapsed": false,
     "input": [],
     "language": "python",
     "metadata": {},
     "outputs": []
    },
    {
     "cell_type": "code",
     "collapsed": false,
     "input": [],
     "language": "python",
     "metadata": {},
     "outputs": []
    },
    {
     "cell_type": "code",
     "collapsed": false,
     "input": [],
     "language": "python",
     "metadata": {},
     "outputs": []
    },
    {
     "cell_type": "code",
     "collapsed": false,
     "input": [],
     "language": "python",
     "metadata": {},
     "outputs": []
    },
    {
     "cell_type": "code",
     "collapsed": false,
     "input": [],
     "language": "python",
     "metadata": {},
     "outputs": []
    },
    {
     "cell_type": "code",
     "collapsed": false,
     "input": [],
     "language": "python",
     "metadata": {},
     "outputs": []
    },
    {
     "cell_type": "code",
     "collapsed": false,
     "input": [],
     "language": "python",
     "metadata": {},
     "outputs": [
      {
       "ename": "NameError",
       "evalue": "name 'olympic_points_df' is not defined",
       "output_type": "pyerr",
       "traceback": [
        "\u001b[0;31m---------------------------------------------------------------------------\u001b[0m\n\u001b[0;31mNameError\u001b[0m                                 Traceback (most recent call last)",
        "\u001b[0;32m<ipython-input-175-6d1526c79c6d>\u001b[0m in \u001b[0;36m<module>\u001b[0;34m()\u001b[0m\n\u001b[0;32m----> 1\u001b[0;31m \u001b[0molympic_points_df\u001b[0m\u001b[0;34m\u001b[0m\u001b[0m\n\u001b[0m",
        "\u001b[0;31mNameError\u001b[0m: name 'olympic_points_df' is not defined"
       ]
      }
     ],
     "prompt_number": 175
    },
    {
     "cell_type": "code",
     "collapsed": false,
     "input": [],
     "language": "python",
     "metadata": {},
     "outputs": []
    },
    {
     "cell_type": "code",
     "collapsed": false,
     "input": [],
     "language": "python",
     "metadata": {},
     "outputs": []
    },
    {
     "cell_type": "code",
     "collapsed": false,
     "input": [],
     "language": "python",
     "metadata": {},
     "outputs": []
    },
    {
     "cell_type": "code",
     "collapsed": false,
     "input": [],
     "language": "python",
     "metadata": {},
     "outputs": []
    },
    {
     "cell_type": "code",
     "collapsed": false,
     "input": [],
     "language": "python",
     "metadata": {},
     "outputs": []
    },
    {
     "cell_type": "code",
     "collapsed": false,
     "input": [],
     "language": "python",
     "metadata": {},
     "outputs": []
    },
    {
     "cell_type": "code",
     "collapsed": false,
     "input": [],
     "language": "python",
     "metadata": {},
     "outputs": []
    },
    {
     "cell_type": "code",
     "collapsed": false,
     "input": [],
     "language": "python",
     "metadata": {},
     "outputs": []
    },
    {
     "cell_type": "code",
     "collapsed": false,
     "input": [],
     "language": "python",
     "metadata": {},
     "outputs": []
    },
    {
     "cell_type": "code",
     "collapsed": false,
     "input": [],
     "language": "python",
     "metadata": {},
     "outputs": []
    },
    {
     "cell_type": "code",
     "collapsed": false,
     "input": [],
     "language": "python",
     "metadata": {},
     "outputs": []
    },
    {
     "cell_type": "code",
     "collapsed": false,
     "input": [],
     "language": "python",
     "metadata": {},
     "outputs": []
    },
    {
     "cell_type": "code",
     "collapsed": false,
     "input": [],
     "language": "python",
     "metadata": {},
     "outputs": []
    },
    {
     "cell_type": "code",
     "collapsed": false,
     "input": [],
     "language": "python",
     "metadata": {},
     "outputs": []
    },
    {
     "cell_type": "code",
     "collapsed": false,
     "input": [],
     "language": "python",
     "metadata": {},
     "outputs": []
    },
    {
     "cell_type": "code",
     "collapsed": false,
     "input": [],
     "language": "python",
     "metadata": {},
     "outputs": []
    },
    {
     "cell_type": "code",
     "collapsed": false,
     "input": [],
     "language": "python",
     "metadata": {},
     "outputs": []
    },
    {
     "cell_type": "code",
     "collapsed": false,
     "input": [],
     "language": "python",
     "metadata": {},
     "outputs": []
    },
    {
     "cell_type": "code",
     "collapsed": false,
     "input": [],
     "language": "python",
     "metadata": {},
     "outputs": []
    },
    {
     "cell_type": "code",
     "collapsed": false,
     "input": [],
     "language": "python",
     "metadata": {},
     "outputs": []
    },
    {
     "cell_type": "code",
     "collapsed": false,
     "input": [],
     "language": "python",
     "metadata": {},
     "outputs": []
    },
    {
     "cell_type": "code",
     "collapsed": false,
     "input": [],
     "language": "python",
     "metadata": {},
     "outputs": []
    },
    {
     "cell_type": "code",
     "collapsed": false,
     "input": [],
     "language": "python",
     "metadata": {},
     "outputs": []
    },
    {
     "cell_type": "code",
     "collapsed": false,
     "input": [],
     "language": "python",
     "metadata": {},
     "outputs": []
    },
    {
     "cell_type": "code",
     "collapsed": false,
     "input": [],
     "language": "python",
     "metadata": {},
     "outputs": []
    },
    {
     "cell_type": "code",
     "collapsed": false,
     "input": [],
     "language": "python",
     "metadata": {},
     "outputs": []
    },
    {
     "cell_type": "code",
     "collapsed": false,
     "input": [],
     "language": "python",
     "metadata": {},
     "outputs": []
    },
    {
     "cell_type": "code",
     "collapsed": false,
     "input": [],
     "language": "python",
     "metadata": {},
     "outputs": []
    },
    {
     "cell_type": "code",
     "collapsed": false,
     "input": [],
     "language": "python",
     "metadata": {},
     "outputs": []
    },
    {
     "cell_type": "code",
     "collapsed": false,
     "input": [],
     "language": "python",
     "metadata": {},
     "outputs": []
    },
    {
     "cell_type": "code",
     "collapsed": false,
     "input": [],
     "language": "python",
     "metadata": {},
     "outputs": []
    },
    {
     "cell_type": "code",
     "collapsed": false,
     "input": [],
     "language": "python",
     "metadata": {},
     "outputs": []
    },
    {
     "cell_type": "code",
     "collapsed": false,
     "input": [],
     "language": "python",
     "metadata": {},
     "outputs": []
    },
    {
     "cell_type": "code",
     "collapsed": false,
     "input": [],
     "language": "python",
     "metadata": {},
     "outputs": []
    },
    {
     "cell_type": "code",
     "collapsed": false,
     "input": [],
     "language": "python",
     "metadata": {},
     "outputs": []
    },
    {
     "cell_type": "code",
     "collapsed": false,
     "input": [],
     "language": "python",
     "metadata": {},
     "outputs": []
    },
    {
     "cell_type": "code",
     "collapsed": false,
     "input": [],
     "language": "python",
     "metadata": {},
     "outputs": []
    },
    {
     "cell_type": "code",
     "collapsed": false,
     "input": [],
     "language": "python",
     "metadata": {},
     "outputs": []
    },
    {
     "cell_type": "code",
     "collapsed": false,
     "input": [],
     "language": "python",
     "metadata": {},
     "outputs": []
    },
    {
     "cell_type": "code",
     "collapsed": false,
     "input": [],
     "language": "python",
     "metadata": {},
     "outputs": []
    },
    {
     "cell_type": "code",
     "collapsed": false,
     "input": [],
     "language": "python",
     "metadata": {},
     "outputs": []
    },
    {
     "cell_type": "code",
     "collapsed": false,
     "input": [],
     "language": "python",
     "metadata": {},
     "outputs": []
    },
    {
     "cell_type": "code",
     "collapsed": false,
     "input": [],
     "language": "python",
     "metadata": {},
     "outputs": []
    },
    {
     "cell_type": "code",
     "collapsed": false,
     "input": [],
     "language": "python",
     "metadata": {},
     "outputs": []
    },
    {
     "cell_type": "code",
     "collapsed": false,
     "input": [],
     "language": "python",
     "metadata": {},
     "outputs": []
    },
    {
     "cell_type": "code",
     "collapsed": false,
     "input": [],
     "language": "python",
     "metadata": {},
     "outputs": []
    },
    {
     "cell_type": "code",
     "collapsed": false,
     "input": [],
     "language": "python",
     "metadata": {},
     "outputs": []
    },
    {
     "cell_type": "code",
     "collapsed": false,
     "input": [],
     "language": "python",
     "metadata": {},
     "outputs": []
    },
    {
     "cell_type": "code",
     "collapsed": false,
     "input": [],
     "language": "python",
     "metadata": {},
     "outputs": []
    },
    {
     "cell_type": "code",
     "collapsed": false,
     "input": [],
     "language": "python",
     "metadata": {},
     "outputs": []
    },
    {
     "cell_type": "code",
     "collapsed": false,
     "input": [],
     "language": "python",
     "metadata": {},
     "outputs": []
    },
    {
     "cell_type": "code",
     "collapsed": false,
     "input": [],
     "language": "python",
     "metadata": {},
     "outputs": []
    },
    {
     "cell_type": "code",
     "collapsed": false,
     "input": [],
     "language": "python",
     "metadata": {},
     "outputs": []
    },
    {
     "cell_type": "code",
     "collapsed": false,
     "input": [],
     "language": "python",
     "metadata": {},
     "outputs": []
    },
    {
     "cell_type": "code",
     "collapsed": false,
     "input": [],
     "language": "python",
     "metadata": {},
     "outputs": []
    },
    {
     "cell_type": "code",
     "collapsed": false,
     "input": [],
     "language": "python",
     "metadata": {},
     "outputs": []
    },
    {
     "cell_type": "code",
     "collapsed": false,
     "input": [],
     "language": "python",
     "metadata": {},
     "outputs": []
    },
    {
     "cell_type": "code",
     "collapsed": false,
     "input": [],
     "language": "python",
     "metadata": {},
     "outputs": []
    },
    {
     "cell_type": "code",
     "collapsed": false,
     "input": [
      "import matplotlib.pyplot as plt"
     ],
     "language": "python",
     "metadata": {},
     "outputs": [],
     "prompt_number": 12
    },
    {
     "cell_type": "code",
     "collapsed": false,
     "input": [
      "data_filtered_admit_male.describe()\n"
     ],
     "language": "python",
     "metadata": {},
     "outputs": [
      {
       "html": [
        "<div style=\"max-height:1000px;max-width:1500px;overflow:auto;\">\n",
        "<table border=\"1\" class=\"dataframe\">\n",
        "  <thead>\n",
        "    <tr style=\"text-align: right;\">\n",
        "      <th></th>\n",
        "      <th>Freq</th>\n",
        "    </tr>\n",
        "  </thead>\n",
        "  <tbody>\n",
        "    <tr>\n",
        "      <th>count</th>\n",
        "      <td>   6.000000</td>\n",
        "    </tr>\n",
        "    <tr>\n",
        "      <th>mean</th>\n",
        "      <td> 199.666667</td>\n",
        "    </tr>\n",
        "    <tr>\n",
        "      <th>std</th>\n",
        "      <td> 191.984027</td>\n",
        "    </tr>\n",
        "    <tr>\n",
        "      <th>min</th>\n",
        "      <td>  22.000000</td>\n",
        "    </tr>\n",
        "    <tr>\n",
        "      <th>25%</th>\n",
        "      <td>  69.750000</td>\n",
        "    </tr>\n",
        "    <tr>\n",
        "      <th>50%</th>\n",
        "      <td> 129.000000</td>\n",
        "    </tr>\n",
        "    <tr>\n",
        "      <th>75%</th>\n",
        "      <td> 299.250000</td>\n",
        "    </tr>\n",
        "    <tr>\n",
        "      <th>max</th>\n",
        "      <td> 512.000000</td>\n",
        "    </tr>\n",
        "  </tbody>\n",
        "</table>\n",
        "</div>"
       ],
       "metadata": {},
       "output_type": "pyout",
       "prompt_number": 18,
       "text": [
        "             Freq\n",
        "count    6.000000\n",
        "mean   199.666667\n",
        "std    191.984027\n",
        "min     22.000000\n",
        "25%     69.750000\n",
        "50%    129.000000\n",
        "75%    299.250000\n",
        "max    512.000000"
       ]
      }
     ],
     "prompt_number": 18
    },
    {
     "cell_type": "code",
     "collapsed": false,
     "input": [
      "data_filtered_admit_female.describe()"
     ],
     "language": "python",
     "metadata": {},
     "outputs": [
      {
       "html": [
        "<div style=\"max-height:1000px;max-width:1500px;overflow:auto;\">\n",
        "<table border=\"1\" class=\"dataframe\">\n",
        "  <thead>\n",
        "    <tr style=\"text-align: right;\">\n",
        "      <th></th>\n",
        "      <th>Freq</th>\n",
        "    </tr>\n",
        "  </thead>\n",
        "  <tbody>\n",
        "    <tr>\n",
        "      <th>count</th>\n",
        "      <td>   6.000000</td>\n",
        "    </tr>\n",
        "    <tr>\n",
        "      <th>mean</th>\n",
        "      <td>  92.833333</td>\n",
        "    </tr>\n",
        "    <tr>\n",
        "      <th>std</th>\n",
        "      <td>  69.106922</td>\n",
        "    </tr>\n",
        "    <tr>\n",
        "      <th>min</th>\n",
        "      <td>  17.000000</td>\n",
        "    </tr>\n",
        "    <tr>\n",
        "      <th>25%</th>\n",
        "      <td>  40.250000</td>\n",
        "    </tr>\n",
        "    <tr>\n",
        "      <th>50%</th>\n",
        "      <td>  91.500000</td>\n",
        "    </tr>\n",
        "    <tr>\n",
        "      <th>75%</th>\n",
        "      <td> 121.750000</td>\n",
        "    </tr>\n",
        "    <tr>\n",
        "      <th>max</th>\n",
        "      <td> 202.000000</td>\n",
        "    </tr>\n",
        "  </tbody>\n",
        "</table>\n",
        "</div>"
       ],
       "metadata": {},
       "output_type": "pyout",
       "prompt_number": 19,
       "text": [
        "             Freq\n",
        "count    6.000000\n",
        "mean    92.833333\n",
        "std     69.106922\n",
        "min     17.000000\n",
        "25%     40.250000\n",
        "50%     91.500000\n",
        "75%    121.750000\n",
        "max    202.000000"
       ]
      }
     ],
     "prompt_number": 19
    },
    {
     "cell_type": "heading",
     "level": 2,
     "metadata": {},
     "source": [
      "Titanic Survival prediction\n"
     ]
    },
    {
     "cell_type": "code",
     "collapsed": false,
     "input": [
      "import numpy\n",
      "import pandas\n",
      "import statsmodels.api as sm\n",
      "\n",
      "def custom_heuristic(file_path):\n",
      "    '''\n",
      "    You are given a list of Titantic passengers and their associating\n",
      "    information. More information about the data can be seen at the link below:\n",
      "    http://www.kaggle.com/c/titanic-gettingStarted/data\n",
      "\n",
      "    For this exercise, you need to write your custom heuristic that will take\n",
      "    in some combination of the passenger's attributes and predict if the passenger\n",
      "    survived the titanic diaster.\n",
      "\n",
      "    Can your custom heuristic beat 80% accuracy?\n",
      "    \n",
      "    The available attributes are:\n",
      "    Pclass          Passenger Class\n",
      "                    (1 = 1st; 2 = 2nd; 3 = 3rd)\n",
      "    Name            Name\n",
      "    Sex             Sex\n",
      "    Age             Age\n",
      "    SibSp           Number of Siblings/Spouses Aboard\n",
      "    Parch           Number of Parents/Children Aboard\n",
      "    Ticket          Ticket Number\n",
      "    Fare            Passenger Fare\n",
      "    Cabin           Cabin\n",
      "    Embarked        Port of Embarkation\n",
      "                    (C = Cherbourg; Q = Queenstown; S = Southampton)\n",
      "                    \n",
      "    SPECIAL NOTES:\n",
      "    Pclass is a proxy for socio-economic status (SES)\n",
      "    1st ~ Upper; 2nd ~ Middle; 3rd ~ Lower\n",
      "\n",
      "    Age is in Years; Fractional if Age less than One (1)\n",
      "    If the Age is Estimated, it is in the form xx.5\n",
      "\n",
      "    With respect to the family relation variables (i.e. SibSp and Parch)\n",
      "    some relations were ignored.  The following are the definitions used\n",
      "    for SibSp and Parch.\n",
      "\n",
      "    Sibling:  Brother, Sister, Stepbrother, or Stepsister of Passenger Aboard Titanic\n",
      "    Spouse:   Husband or Wife of Passenger Aboard Titanic (Mistresses and Fiances Ignored)\n",
      "    Parent:   Mother or Father of Passenger Aboard Titanic\n",
      "    Child:    Son, Daughter, Stepson, or Stepdaughter of Passenger Aboard Titanic\n",
      "    \n",
      "    Write your prediction back into the \"predictions\" dictionary. The\n",
      "    key of the dictionary should be the Passenger's id (which can be accessed\n",
      "    via passenger[\"PassengerId\"]) and the associating value should be 1 if the\n",
      "    passenger survied or 0 otherwise. \n",
      "\n",
      "    For example, if a passenger survived:\n",
      "    passenger_id = passenger['PassengerId']\n",
      "    predictions[passenger_id] = 1\n",
      "\n",
      "    Or if a passenger perished in the disaster:\n",
      "    passenger_id = passenger['PassengerId']\n",
      "    predictions[passenger_id] = 0\n",
      "    \n",
      "    You can also look at the titantic data that you will be working with\n",
      "    at the link below:\n",
      "    https://www.dropbox.com/s/r5f9aos8p9ri9sa/titanic_data.csv\n",
      "    '''\n",
      "\n",
      "    predictions = {}\n",
      "    df = pandas.read_csv(file_path)\n",
      "    print df.iterrows()\n",
      "    for passenger_index, passenger in df.iterrows():\n",
      "        passenger_id = passenger['PassengerId']\n",
      "        if passenger['Sex']=='female' or passenger['Pclass']<=2 and passenger['Age']<16:\n",
      "            predictions[passenger_id] = 1\n",
      "        else:\n",
      "            predictions[passenger_id] = 0\n",
      "\n",
      "    return predictions\n"
     ],
     "language": "python",
     "metadata": {},
     "outputs": []
    },
    {
     "cell_type": "code",
     "collapsed": false,
     "input": [],
     "language": "python",
     "metadata": {},
     "outputs": []
    },
    {
     "cell_type": "code",
     "collapsed": false,
     "input": [],
     "language": "python",
     "metadata": {},
     "outputs": []
    },
    {
     "cell_type": "code",
     "collapsed": false,
     "input": [],
     "language": "python",
     "metadata": {},
     "outputs": []
    },
    {
     "cell_type": "code",
     "collapsed": false,
     "input": [],
     "language": "python",
     "metadata": {},
     "outputs": []
    },
    {
     "cell_type": "code",
     "collapsed": false,
     "input": [],
     "language": "python",
     "metadata": {},
     "outputs": []
    },
    {
     "cell_type": "code",
     "collapsed": false,
     "input": [],
     "language": "python",
     "metadata": {},
     "outputs": []
    },
    {
     "cell_type": "code",
     "collapsed": false,
     "input": [],
     "language": "python",
     "metadata": {},
     "outputs": []
    },
    {
     "cell_type": "code",
     "collapsed": false,
     "input": [],
     "language": "python",
     "metadata": {},
     "outputs": []
    },
    {
     "cell_type": "code",
     "collapsed": false,
     "input": [],
     "language": "python",
     "metadata": {},
     "outputs": []
    },
    {
     "cell_type": "code",
     "collapsed": false,
     "input": [],
     "language": "python",
     "metadata": {},
     "outputs": []
    },
    {
     "cell_type": "code",
     "collapsed": false,
     "input": [],
     "language": "python",
     "metadata": {},
     "outputs": []
    },
    {
     "cell_type": "code",
     "collapsed": false,
     "input": [],
     "language": "python",
     "metadata": {},
     "outputs": []
    },
    {
     "cell_type": "code",
     "collapsed": false,
     "input": [],
     "language": "python",
     "metadata": {},
     "outputs": []
    },
    {
     "cell_type": "code",
     "collapsed": false,
     "input": [],
     "language": "python",
     "metadata": {},
     "outputs": []
    },
    {
     "cell_type": "code",
     "collapsed": false,
     "input": [],
     "language": "python",
     "metadata": {},
     "outputs": []
    },
    {
     "cell_type": "code",
     "collapsed": false,
     "input": [],
     "language": "python",
     "metadata": {},
     "outputs": []
    },
    {
     "cell_type": "code",
     "collapsed": false,
     "input": [],
     "language": "python",
     "metadata": {},
     "outputs": []
    },
    {
     "cell_type": "code",
     "collapsed": false,
     "input": [],
     "language": "python",
     "metadata": {},
     "outputs": []
    },
    {
     "cell_type": "code",
     "collapsed": false,
     "input": [],
     "language": "python",
     "metadata": {},
     "outputs": []
    },
    {
     "cell_type": "code",
     "collapsed": false,
     "input": [],
     "language": "python",
     "metadata": {},
     "outputs": []
    },
    {
     "cell_type": "code",
     "collapsed": false,
     "input": [],
     "language": "python",
     "metadata": {},
     "outputs": []
    },
    {
     "cell_type": "code",
     "collapsed": false,
     "input": [],
     "language": "python",
     "metadata": {},
     "outputs": []
    },
    {
     "cell_type": "code",
     "collapsed": false,
     "input": [],
     "language": "python",
     "metadata": {},
     "outputs": []
    }
   ],
   "metadata": {}
  }
 ]
}